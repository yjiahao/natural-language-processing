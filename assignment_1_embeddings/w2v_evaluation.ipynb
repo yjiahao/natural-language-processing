{
 "cells": [
  {
   "cell_type": "code",
   "execution_count": 1,
   "id": "4c554255",
   "metadata": {},
   "outputs": [],
   "source": [
    "import pandas as pd\n",
    "import numpy as np\n",
    "\n",
    "from scipy.stats import spearmanr, pearsonr\n",
    "\n",
    "from gensim.models import Word2Vec"
   ]
  },
  {
   "cell_type": "code",
   "execution_count": 2,
   "id": "cf66e5bf",
   "metadata": {},
   "outputs": [],
   "source": [
    "# load data and word2vec model\n",
    "df = pd.read_csv('../data/evaluation/wordsim353crowd.csv')\n",
    "\n",
    "model = Word2Vec.load(f\"./models/word2vec/skipgram_{300}_{5}_{15}.model\")"
   ]
  },
  {
   "cell_type": "code",
   "execution_count": 3,
   "id": "dd7c3f8e",
   "metadata": {},
   "outputs": [],
   "source": [
    "preds = []\n",
    "\n",
    "for _, row in df.iterrows():\n",
    "    w1, w2 = row['Word 1'], row['Word 2']\n",
    "    if w1 in model.wv and w2 in model.wv:\n",
    "        sim = model.wv.similarity(w1, w2)\n",
    "        preds.append(sim)\n",
    "    else:\n",
    "        preds.append(np.nan) # result not available"
   ]
  },
  {
   "cell_type": "code",
   "execution_count": 4,
   "id": "43eb3d8f",
   "metadata": {},
   "outputs": [],
   "source": [
    "df['preds'] = preds"
   ]
  },
  {
   "cell_type": "code",
   "execution_count": 5,
   "id": "0b37c94a",
   "metadata": {},
   "outputs": [],
   "source": [
    "df = df.dropna() # remove the words that are not part of our word2vec's vocabulary"
   ]
  },
  {
   "cell_type": "code",
   "execution_count": 6,
   "id": "c4ce4480",
   "metadata": {},
   "outputs": [
    {
     "name": "stdout",
     "output_type": "stream",
     "text": [
      "Spearman correlation: 0.008304687634239496\n",
      "Pearson correlation: 0.07061691532536118\n"
     ]
    }
   ],
   "source": [
    "print(\"Spearman correlation:\", spearmanr(df['preds'], df['Human (Mean)'])[0])\n",
    "print(\"Pearson correlation:\", pearsonr(df['preds'], df['Human (Mean)'])[0])"
   ]
  },
  {
   "cell_type": "markdown",
   "id": "42f967fe",
   "metadata": {},
   "source": [
    "We can see that there is little to no correlation between the similarity scores from the word2vec vectors and the human scores, indicating poor performance of our word2vec model.\n",
    "\n",
    "This is expected as the 10k tweets we used probably did not contain enough data"
   ]
  }
 ],
 "metadata": {
  "kernelspec": {
   "display_name": "natural-language-processing-py3.12",
   "language": "python",
   "name": "python3"
  },
  "language_info": {
   "codemirror_mode": {
    "name": "ipython",
    "version": 3
   },
   "file_extension": ".py",
   "mimetype": "text/x-python",
   "name": "python",
   "nbconvert_exporter": "python",
   "pygments_lexer": "ipython3",
   "version": "3.12.1"
  }
 },
 "nbformat": 4,
 "nbformat_minor": 5
}
