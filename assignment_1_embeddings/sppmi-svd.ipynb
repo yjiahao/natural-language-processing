{
 "cells": [
  {
   "cell_type": "code",
   "execution_count": 1,
   "id": "1087b463",
   "metadata": {},
   "outputs": [],
   "source": [
    "import pandas as pd\n",
    "import numpy as np\n",
    "\n",
    "import ast\n",
    "\n",
    "from sklearn.decomposition import TruncatedSVD, PCA\n",
    "from sklearn.metrics.pairwise import cosine_similarity\n",
    "\n",
    "from scipy.stats import spearmanr, pearsonr\n",
    "\n",
    "import matplotlib.pyplot as plt\n",
    "\n",
    "from collections import Counter\n",
    "from itertools import combinations\n",
    "\n",
    "from scipy.sparse import lil_matrix\n",
    "\n",
    "import re"
   ]
  },
  {
   "cell_type": "code",
   "execution_count": 2,
   "id": "8d230372",
   "metadata": {},
   "outputs": [],
   "source": [
    "# read data\n",
    "df = pd.read_csv('../data/twitter/train_processed.csv')\n",
    "df['processed_text'] = df['processed_text'].apply(lambda x: ast.literal_eval(x))\n",
    "tokenized_sentences = list(df['processed_text'])"
   ]
  },
  {
   "cell_type": "code",
   "execution_count": 3,
   "id": "fabce144",
   "metadata": {},
   "outputs": [],
   "source": [
    "def create_co_matrix(vocab: dict, window_size: int, tokenized_sentences: list):\n",
    "    vocab_size = len(vocab)\n",
    "    co_matrix = np.zeros((vocab_size, vocab_size), dtype=np.float32)\n",
    "\n",
    "    for sentence in tokenized_sentences:\n",
    "        sentence_length = len(sentence)\n",
    "        for idx, word in enumerate(sentence):\n",
    "            word_idx = vocab[word]\n",
    "            \n",
    "            # Define the context window\n",
    "            start = max(0, idx - window_size)\n",
    "            end = min(sentence_length, idx + window_size + 1)\n",
    "            \n",
    "            # Update co-occurrence counts for words in the window\n",
    "            for context_idx in range(start, end):\n",
    "                if idx != context_idx:  # Skip the word itself\n",
    "                    context_word_idx = vocab[sentence[context_idx]]\n",
    "                    co_matrix[word_idx, context_word_idx] += 1\n",
    "\n",
    "    return co_matrix\n",
    "\n",
    "def create_sppmi_matrix(co_matrix, co_occurrence_sum, word_occurrences, k):\n",
    "    sppmi_matrix = np.zeros_like(co_matrix)\n",
    "    \n",
    "    # Find indices where co_matrix > 0\n",
    "    rows, cols = np.nonzero(co_matrix)\n",
    "\n",
    "    for i, j in zip(rows, cols):\n",
    "        pmi = np.log((co_matrix[i, j] * co_occurrence_sum) / (word_occurrences[i] * word_occurrences[j]))\n",
    "        sppmi = pmi - np.log(k)\n",
    "        sppmi_matrix[i, j] = max(sppmi, 0)  # SPPMI\n",
    "\n",
    "    return sppmi_matrix"
   ]
  },
  {
   "cell_type": "code",
   "execution_count": 4,
   "id": "f767ff10",
   "metadata": {},
   "outputs": [],
   "source": [
    "vocab = {\n",
    "    word: idx for idx, word in enumerate(set(word for sentence in tokenized_sentences for word in sentence))\n",
    "}"
   ]
  },
  {
   "cell_type": "code",
   "execution_count": 5,
   "id": "4620152c",
   "metadata": {},
   "outputs": [
    {
     "name": "stdout",
     "output_type": "stream",
     "text": [
      "Fitting SVD model with dimensions = 128, window size = 2, k = 5\n",
      "Fitting SVD model with dimensions = 128, window size = 2, k = 10\n",
      "Fitting SVD model with dimensions = 128, window size = 2, k = 15\n",
      "Fitting SVD model with dimensions = 128, window size = 5, k = 5\n",
      "Fitting SVD model with dimensions = 128, window size = 5, k = 10\n",
      "Fitting SVD model with dimensions = 128, window size = 5, k = 15\n",
      "Fitting SVD model with dimensions = 128, window size = 10, k = 5\n",
      "Fitting SVD model with dimensions = 128, window size = 10, k = 10\n",
      "Fitting SVD model with dimensions = 128, window size = 10, k = 15\n",
      "Fitting SVD model with dimensions = 256, window size = 2, k = 5\n",
      "Fitting SVD model with dimensions = 256, window size = 2, k = 10\n",
      "Fitting SVD model with dimensions = 256, window size = 2, k = 15\n",
      "Fitting SVD model with dimensions = 256, window size = 5, k = 5\n",
      "Fitting SVD model with dimensions = 256, window size = 5, k = 10\n",
      "Fitting SVD model with dimensions = 256, window size = 5, k = 15\n",
      "Fitting SVD model with dimensions = 256, window size = 10, k = 5\n",
      "Fitting SVD model with dimensions = 256, window size = 10, k = 10\n",
      "Fitting SVD model with dimensions = 256, window size = 10, k = 15\n",
      "Fitting SVD model with dimensions = 300, window size = 2, k = 5\n",
      "Fitting SVD model with dimensions = 300, window size = 2, k = 10\n",
      "Fitting SVD model with dimensions = 300, window size = 2, k = 15\n",
      "Fitting SVD model with dimensions = 300, window size = 5, k = 5\n",
      "Fitting SVD model with dimensions = 300, window size = 5, k = 10\n",
      "Fitting SVD model with dimensions = 300, window size = 5, k = 15\n",
      "Fitting SVD model with dimensions = 300, window size = 10, k = 5\n",
      "Fitting SVD model with dimensions = 300, window size = 10, k = 10\n",
      "Fitting SVD model with dimensions = 300, window size = 10, k = 15\n"
     ]
    }
   ],
   "source": [
    "dimensions = [128, 256, 300] # dimension vectors of svd\n",
    "window_sizes = [2, 5, 10]\n",
    "ks = [5, 10, 15] # for SPPMI\n",
    "\n",
    "svd_models = {}\n",
    "sppmi_embeddings = {}\n",
    "\n",
    "for d in dimensions:\n",
    "    for w in window_sizes:\n",
    "        for k in ks:\n",
    "            co_matrix = create_co_matrix(vocab, w, tokenized_sentences)\n",
    "            co_occurrence_sum = np.sum(co_matrix)\n",
    "            word_occurrences = np.sum(co_matrix, axis=1)\n",
    "            \n",
    "            # create sppmi matrix\n",
    "            sppmi_matrix = create_sppmi_matrix(co_matrix, co_occurrence_sum, word_occurrences, k)\n",
    "\n",
    "            # fit svd\n",
    "            print(f'Fitting SVD model with dimensions = {d}, window size = {w}, k = {k}')\n",
    "            \n",
    "            svd = TruncatedSVD(n_components=d)\n",
    "            U_k = svd.fit_transform(sppmi_matrix)\n",
    "            Sigma_k = np.diag(svd.singular_values_)\n",
    "            Sigma_k_sqrt = np.sqrt(Sigma_k)\n",
    "            sppmi_embedding = U_k @ Sigma_k_sqrt\n",
    "\n",
    "            # save model in dictionary\n",
    "            svd_models[(d, w, k)] = svd\n",
    "\n",
    "            # save embeddings in dictionary\n",
    "            sppmi_embeddings[(d, w, k)] = sppmi_embedding"
   ]
  },
  {
   "cell_type": "markdown",
   "id": "64fd5be6",
   "metadata": {},
   "source": [
    "## Analysis"
   ]
  },
  {
   "cell_type": "markdown",
   "id": "af39fab2",
   "metadata": {},
   "source": [
    "### Evaluation of quality of embeddings of each model with Wordsim353"
   ]
  },
  {
   "cell_type": "code",
   "execution_count": 6,
   "id": "a9a2ca25",
   "metadata": {},
   "outputs": [],
   "source": [
    "word_to_index = vocab\n",
    "index_to_word = {idx: word for word, idx in vocab.items()}\n",
    "\n",
    "def evaluate_correlation_wordsim(df, sppmi_embedding):\n",
    "    df1 = df.copy()\n",
    "\n",
    "    preds = []\n",
    "\n",
    "    for _, row in df1.iterrows():\n",
    "        w1, w2 = row['Word 1'], row['Word 2']\n",
    "        if w1 in word_to_index and w2 in word_to_index:\n",
    "            vec1 = sppmi_embedding[word_to_index[w1]].reshape(1, -1)\n",
    "            vec2 = sppmi_embedding[word_to_index[w2]].reshape(1, -1)\n",
    "            sim = cosine_similarity(vec1, vec2)[0][0]\n",
    "            preds.append(sim)\n",
    "        else:\n",
    "            preds.append(np.nan) # result not available\n",
    "\n",
    "    df1['preds'] = preds\n",
    "    df1 = df1.dropna()\n",
    "\n",
    "    # compute correlations\n",
    "    print(\"Spearman correlation:\", spearmanr(df1['preds'], df1['Human (Mean)'])[0])\n",
    "    print(\"Pearson correlation:\", pearsonr(df1['preds'], df1['Human (Mean)'])[0])"
   ]
  },
  {
   "cell_type": "code",
   "execution_count": 7,
   "id": "ceddea2b",
   "metadata": {},
   "outputs": [],
   "source": [
    "wordsim = pd.read_csv('../data/evaluation/wordsim353crowd.csv')"
   ]
  },
  {
   "cell_type": "code",
   "execution_count": 8,
   "id": "5e99a800",
   "metadata": {},
   "outputs": [
    {
     "name": "stdout",
     "output_type": "stream",
     "text": [
      "Model parameters are: vector size = 128, window = 2, k = 5\n",
      "Spearman correlation: 0.12707817375126146\n",
      "Pearson correlation: 0.24043892252423726\n",
      "**************************************************\n",
      "Model parameters are: vector size = 128, window = 2, k = 10\n",
      "Spearman correlation: 0.14603732233096348\n",
      "Pearson correlation: 0.25432280713839417\n",
      "**************************************************\n",
      "Model parameters are: vector size = 128, window = 2, k = 15\n",
      "Spearman correlation: 0.08800668812905735\n",
      "Pearson correlation: 0.20357503776339664\n",
      "**************************************************\n",
      "Model parameters are: vector size = 128, window = 5, k = 5\n",
      "Spearman correlation: 0.04847575274990655\n",
      "Pearson correlation: 0.15758953741595572\n",
      "**************************************************\n",
      "Model parameters are: vector size = 128, window = 5, k = 10\n",
      "Spearman correlation: 0.002792450426740737\n",
      "Pearson correlation: 0.12489530498455009\n",
      "**************************************************\n",
      "Model parameters are: vector size = 128, window = 5, k = 15\n",
      "Spearman correlation: 0.0509433934974813\n",
      "Pearson correlation: 0.14454579075083906\n",
      "**************************************************\n",
      "Model parameters are: vector size = 128, window = 10, k = 5\n",
      "Spearman correlation: 0.04195065338717649\n",
      "Pearson correlation: 0.14932169263446718\n",
      "**************************************************\n",
      "Model parameters are: vector size = 128, window = 10, k = 10\n",
      "Spearman correlation: 0.06778633475296847\n",
      "Pearson correlation: 0.17561701392823617\n",
      "**************************************************\n",
      "Model parameters are: vector size = 128, window = 10, k = 15\n",
      "Spearman correlation: 0.041961302884854064\n",
      "Pearson correlation: 0.1923733832127383\n",
      "**************************************************\n",
      "Model parameters are: vector size = 256, window = 2, k = 5\n",
      "Spearman correlation: 0.1586417635107766\n",
      "Pearson correlation: 0.285833715867562\n",
      "**************************************************\n",
      "Model parameters are: vector size = 256, window = 2, k = 10\n",
      "Spearman correlation: 0.17625603266948228\n",
      "Pearson correlation: 0.2709184716489047\n",
      "**************************************************\n",
      "Model parameters are: vector size = 256, window = 2, k = 15\n",
      "Spearman correlation: 0.16102420827693076\n",
      "Pearson correlation: 0.26312168399734304\n",
      "**************************************************\n",
      "Model parameters are: vector size = 256, window = 5, k = 5\n",
      "Spearman correlation: 0.026571257383950067\n",
      "Pearson correlation: 0.20422251499670066\n",
      "**************************************************\n",
      "Model parameters are: vector size = 256, window = 5, k = 10\n",
      "Spearman correlation: 0.0226704985203362\n",
      "Pearson correlation: 0.18220022953791895\n",
      "**************************************************\n",
      "Model parameters are: vector size = 256, window = 5, k = 15\n",
      "Spearman correlation: 0.09163512412348758\n",
      "Pearson correlation: 0.21906784390787826\n",
      "**************************************************\n",
      "Model parameters are: vector size = 256, window = 10, k = 5\n",
      "Spearman correlation: 0.06345046784138521\n",
      "Pearson correlation: 0.20553497410568639\n",
      "**************************************************\n",
      "Model parameters are: vector size = 256, window = 10, k = 10\n",
      "Spearman correlation: 0.07217240643931745\n",
      "Pearson correlation: 0.20702251541048133\n",
      "**************************************************\n",
      "Model parameters are: vector size = 256, window = 10, k = 15\n",
      "Spearman correlation: 0.10830463070251141\n",
      "Pearson correlation: 0.2256573235623906\n",
      "**************************************************\n",
      "Model parameters are: vector size = 300, window = 2, k = 5\n",
      "Spearman correlation: 0.13707044528644705\n",
      "Pearson correlation: 0.26998498768032925\n",
      "**************************************************\n",
      "Model parameters are: vector size = 300, window = 2, k = 10\n",
      "Spearman correlation: 0.1394954880433115\n",
      "Pearson correlation: 0.27075933241842276\n",
      "**************************************************\n",
      "Model parameters are: vector size = 300, window = 2, k = 15\n",
      "Spearman correlation: 0.18469804161417544\n",
      "Pearson correlation: 0.28306609350611056\n",
      "**************************************************\n",
      "Model parameters are: vector size = 300, window = 5, k = 5\n",
      "Spearman correlation: 0.005066878859308103\n",
      "Pearson correlation: 0.18509245108571928\n",
      "**************************************************\n",
      "Model parameters are: vector size = 300, window = 5, k = 10\n",
      "Spearman correlation: 0.03517909422105117\n",
      "Pearson correlation: 0.20685160303350414\n",
      "**************************************************\n",
      "Model parameters are: vector size = 300, window = 5, k = 15\n",
      "Spearman correlation: 0.04802390977701524\n",
      "Pearson correlation: 0.20920463813150214\n",
      "**************************************************\n",
      "Model parameters are: vector size = 300, window = 10, k = 5\n",
      "Spearman correlation: 0.0504078758999805\n",
      "Pearson correlation: 0.21215851338732547\n",
      "**************************************************\n",
      "Model parameters are: vector size = 300, window = 10, k = 10\n",
      "Spearman correlation: 0.06179675298773923\n",
      "Pearson correlation: 0.212182362619133\n",
      "**************************************************\n",
      "Model parameters are: vector size = 300, window = 10, k = 15\n",
      "Spearman correlation: 0.06869154205556217\n",
      "Pearson correlation: 0.2205800688745593\n",
      "**************************************************\n"
     ]
    }
   ],
   "source": [
    "for key, model in svd_models.items():\n",
    "    vector_size, window, k = key\n",
    "\n",
    "    print(f'Model parameters are: vector size = {vector_size}, window = {window}, k = {k}')\n",
    "    evaluate_correlation_wordsim(wordsim, sppmi_embeddings[key])\n",
    "    print(\"*\" * 50)"
   ]
  },
  {
   "cell_type": "markdown",
   "id": "c8c5aa7b",
   "metadata": {},
   "source": [
    "Best model parameters based on Spearman correlation for SPPMI-SVD are: vector size = 300, window = 2, k = 15.\n",
    "\n",
    "Use these parameters for subsequent analysis on the svd embeddings."
   ]
  },
  {
   "cell_type": "markdown",
   "id": "a085eba0",
   "metadata": {},
   "source": [
    "### Nearest Neighbours for selected words"
   ]
  },
  {
   "cell_type": "code",
   "execution_count": 9,
   "id": "361833bc",
   "metadata": {},
   "outputs": [],
   "source": [
    "word_to_index = vocab\n",
    "index_to_word = {idx: word for word, idx in vocab.items()}\n",
    "\n",
    "def get_similar_words(word, embeddings, top_k=10):\n",
    "    idx = word_to_index[word]\n",
    "    vec = embeddings[idx].reshape(1, -1)\n",
    "    sims = cosine_similarity(vec, embeddings)[0]\n",
    "    # Get top_n indices (excluding the word itself)\n",
    "    top_indices = np.argsort(-sims)[1:top_k + 1]\n",
    "    return [(index_to_word[i], sims[i]) for i in top_indices]"
   ]
  },
  {
   "cell_type": "code",
   "execution_count": 10,
   "id": "20847a4c",
   "metadata": {},
   "outputs": [
    {
     "name": "stdout",
     "output_type": "stream",
     "text": [
      "Similar words to 'sad':\n",
      "[('pandemic', 0.74267113), ('agreekids', 0.7262522), ('knowits', 0.6380523), ('hydrangeahow', 0.6174997), ('touching', 0.56041217), ('calderon', 0.5277214), ('kinna', 0.49945587), ('cemburuuu', 0.4884805), ('incredible', 0.48277053), ('62', 0.46304002)]\n",
      "******************************\n",
      "Similar words to 'chocolate':\n",
      "[('superaddict', 0.7962632), ('dagoba', 0.78641397), ('croissant', 0.6667089), ('milk', 0.6384534), ('fridayand', 0.54884434), ('consecutive', 0.5404793), ('ohhhh', 0.5237143), ('peach', 0.5170546), ('toscanis', 0.49184585), ('ice', 0.4878045)]\n",
      "******************************\n",
      "Similar words to 'chemistry':\n",
      "[('chemistrybaaahh', 0.7836255), ('homework', 0.67792594), ('mention', 0.67455614), ('study', 0.6437306), ('finnaaaallly', 0.62126446), ('aaa', 0.5629728), ('gayy', 0.5599181), ('winterrrrr', 0.558226), ('gucci', 0.5573387), ('norwegian', 0.5505754)]\n",
      "******************************\n",
      "Similar words to 'month':\n",
      "[('pregnant', 0.6898627), ('reservation', 0.6873709), ('amptook', 0.63405293), ('moveugghh', 0.6210048), ('freeeeeeeedom', 0.6101153), ('pope', 0.5959411), ('erm', 0.58130014), ('2119', 0.5391633), ('flying', 0.53095675), ('trooper', 0.5269903)]\n",
      "******************************\n",
      "Similar words to 'news':\n",
      "[('fuckkk', 0.8928669), ('bedalso', 0.8501088), ('redownload', 0.8432727), ('legendary', 0.8432727), ('tweak', 0.8355496), ('rumour', 0.81766057), ('map', 0.80423033), ('gee', 0.7822139), ('soooooooooooo', 0.7428962), ('frontno', 0.7421955)]\n",
      "******************************\n"
     ]
    }
   ],
   "source": [
    "selected_words = [\n",
    "    'sad',\n",
    "    'chocolate',\n",
    "    'chemistry',\n",
    "    'month',\n",
    "    'news'\n",
    "]\n",
    "\n",
    "best_sppmi_embedding = sppmi_embeddings[(300, 2, 15)]\n",
    "\n",
    "for word in selected_words:\n",
    "    print(f\"Similar words to '{word}':\")\n",
    "    print(get_similar_words(word, best_sppmi_embedding))\n",
    "    print(\"*\" * 30)"
   ]
  },
  {
   "cell_type": "markdown",
   "id": "7037c77f",
   "metadata": {},
   "source": [
    "Similar words are sometimes unreasonable, like for sad, month and news.\n",
    "\n",
    "Other similar words seem to be more similar, like for chocolate and chemistry."
   ]
  },
  {
   "cell_type": "markdown",
   "id": "ae825aa8",
   "metadata": {},
   "source": [
    "### Visualization of embedding space"
   ]
  },
  {
   "cell_type": "code",
   "execution_count": 11,
   "id": "f80e94a4",
   "metadata": {},
   "outputs": [],
   "source": [
    "pca = PCA(n_components=2)\n",
    "reduced_embeddings = pca.fit_transform(best_sppmi_embedding)"
   ]
  },
  {
   "cell_type": "code",
   "execution_count": 14,
   "id": "e44c33a2",
   "metadata": {},
   "outputs": [
    {
     "data": {
      "image/png": "[encoded data removed]",
      "text/plain": [
       "<Figure size 1500x800 with 1 Axes>"
      ]
     },
     "metadata": {},
     "output_type": "display_data"
    }
   ],
   "source": [
    "words = list(vocab.keys())[:200]\n",
    "\n",
    "plt.figure(figsize=(15, 8))\n",
    "plt.scatter(reduced_embeddings[:200, 0], reduced_embeddings[:200, 1])\n",
    "for i, word in enumerate(words):\n",
    "    plt.annotate(word, (reduced_embeddings[i, 0], reduced_embeddings[i, 1]))\n",
    "plt.title(\"PMI-SVD Word Embeddings\")\n",
    "plt.xlabel(\"SVD Component 1\")\n",
    "plt.ylabel(\"SVD Component 2\")\n",
    "plt.show()"
   ]
  },
  {
   "cell_type": "markdown",
   "id": "e0c90724",
   "metadata": {},
   "source": [
    "Most words cluster together near the origin, except a few words that are spread further apart."
   ]
  }
 ],
 "metadata": {
  "kernelspec": {
   "display_name": "natural-language-processing-py3.12",
   "language": "python",
   "name": "python3"
  },
  "language_info": {
   "codemirror_mode": {
    "name": "ipython",
    "version": 3
   },
   "file_extension": ".py",
   "mimetype": "text/x-python",
   "name": "python",
   "nbconvert_exporter": "python",
   "pygments_lexer": "ipython3",
   "version": "3.12.1"
  }
 },
 "nbformat": 4,
 "nbformat_minor": 5
}
