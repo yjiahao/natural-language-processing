{
 "cells": [
  {
   "cell_type": "code",
   "execution_count": 1,
   "id": "ef0a130f",
   "metadata": {},
   "outputs": [],
   "source": [
    "import pandas as pd\n",
    "import numpy as np\n",
    "\n",
    "import nltk\n",
    "from nltk.corpus import stopwords\n",
    "from nltk.stem import WordNetLemmatizer\n",
    "\n",
    "import re\n",
    "\n",
    "from sklearn.model_selection import train_test_split"
   ]
  },
  {
   "cell_type": "code",
   "execution_count": 2,
   "id": "afb76b9a",
   "metadata": {},
   "outputs": [],
   "source": [
    "# read data\n",
    "df = pd.read_csv('../data/twitter/train.csv', encoding='latin-1', names=['target', 'ids', 'date', 'flag', 'user', 'text'])\n",
    "\n",
    "# split training data randomly, stratifying the negative samples to ensure we can do sentiment analysis later\n",
    "X_train, X_test, y_train, y_test = train_test_split(\n",
    "    df[['text']],\n",
    "    df[['target']],\n",
    "    train_size=0.03125, # use only 50k rows out of 1.6 million rows\n",
    "    stratify=df[['target']],\n",
    "    random_state=42 # set random state for reproducibility\n",
    ")\n",
    "\n",
    "contents = list(X_train['text']) # use only the X_train for training all the models"
   ]
  },
  {
   "cell_type": "code",
   "execution_count": 3,
   "id": "7454da8d",
   "metadata": {},
   "outputs": [
    {
     "name": "stderr",
     "output_type": "stream",
     "text": [
      "[nltk_data] Downloading package stopwords to\n",
      "[nltk_data]     C:\\Users\\yjiah\\AppData\\Roaming\\nltk_data...\n",
      "[nltk_data]   Package stopwords is already up-to-date!\n",
      "[nltk_data] Downloading package punkt to\n",
      "[nltk_data]     C:\\Users\\yjiah\\AppData\\Roaming\\nltk_data...\n",
      "[nltk_data]   Package punkt is already up-to-date!\n",
      "[nltk_data] Downloading package wordnet to\n",
      "[nltk_data]     C:\\Users\\yjiah\\AppData\\Roaming\\nltk_data...\n",
      "[nltk_data]   Package wordnet is already up-to-date!\n"
     ]
    },
    {
     "data": {
      "text/plain": [
       "True"
      ]
     },
     "execution_count": 3,
     "metadata": {},
     "output_type": "execute_result"
    }
   ],
   "source": [
    "nltk.download('stopwords')\n",
    "nltk.download('punkt')\n",
    "nltk.download('wordnet')"
   ]
  },
  {
   "cell_type": "code",
   "execution_count": 4,
   "id": "455416b4",
   "metadata": {},
   "outputs": [],
   "source": [
    "# split text into sentences by fullstop and lowercase everything up to 20000 sentences\n",
    "sentences_lst = [tweet.lower() for tweet in contents]\n",
    "\n",
    "# remove punctuation\n",
    "sentences_lst_removed_punc = [re.sub(r'[^\\w\\s]', '', sentence) for sentence in sentences_lst]\n",
    "\n",
    "# tokenize the split sentences into words\n",
    "tokenized_sentences = [sentence.split() for sentence in sentences_lst_removed_punc]\n",
    "\n",
    "# stopword removal\n",
    "stop_words = set(stopwords.words('english'))\n",
    "filtered_tokenized_sentences = [[word for word in sentence if word not in stop_words] for sentence in tokenized_sentences]\n",
    "\n",
    "# lemmatization\n",
    "lemmatizer = WordNetLemmatizer()\n",
    "filtered_tokenized_sentences = [[lemmatizer.lemmatize(word) for word in sentence] for sentence in tokenized_sentences]"
   ]
  },
  {
   "cell_type": "code",
   "execution_count": 5,
   "id": "0671f538",
   "metadata": {},
   "outputs": [],
   "source": [
    "# export final dataset for use in the future by other models\n",
    "X_train['processed_text'] = filtered_tokenized_sentences\n",
    "y_train['target'] = y_train['target'].apply(lambda x: 0 if x == 0 else 1) # sentiment is bad if 0, sentiment is good (1) if 4\n",
    "\n",
    "final_dataset = pd.concat(\n",
    "    [\n",
    "        y_train,\n",
    "        X_train,\n",
    "    ],\n",
    "    axis=1\n",
    ").reset_index(drop=True)\n",
    "\n",
    "final_dataset.to_csv('../data/twitter/processed.csv', index=False)"
   ]
  }
 ],
 "metadata": {
  "kernelspec": {
   "display_name": "natural-language-processing-py3.12",
   "language": "python",
   "name": "python3"
  },
  "language_info": {
   "codemirror_mode": {
    "name": "ipython",
    "version": 3
   },
   "file_extension": ".py",
   "mimetype": "text/x-python",
   "name": "python",
   "nbconvert_exporter": "python",
   "pygments_lexer": "ipython3",
   "version": "3.12.1"
  }
 },
 "nbformat": 4,
 "nbformat_minor": 5
}
