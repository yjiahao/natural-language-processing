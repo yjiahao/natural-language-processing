{
 "cells": [
  {
   "cell_type": "markdown",
   "id": "846005fb",
   "metadata": {},
   "source": [
    "## Preprocessing of text data"
   ]
  },
  {
   "cell_type": "code",
   "execution_count": 1,
   "id": "ef0a130f",
   "metadata": {},
   "outputs": [],
   "source": [
    "import pandas as pd\n",
    "import numpy as np\n",
    "\n",
    "import nltk\n",
    "from nltk.corpus import stopwords\n",
    "from nltk.stem import WordNetLemmatizer\n",
    "\n",
    "import re\n",
    "\n",
    "from sklearn.model_selection import train_test_split"
   ]
  },
  {
   "cell_type": "code",
   "execution_count": 2,
   "id": "afb76b9a",
   "metadata": {},
   "outputs": [],
   "source": [
    "# read data\n",
    "df = pd.read_csv('../data/twitter/train.csv', encoding='latin-1', names=['target', 'ids', 'date', 'flag', 'user', 'text'])\n",
    "\n",
    "# split training data randomly, stratifying the sentiments to ensure we can do sentiment analysis later\n",
    "X_subset, _, y_subset, _ = train_test_split(\n",
    "    df[['text']],\n",
    "    df[['target']],\n",
    "    train_size=0.00625, # use only 10k rows out of 1.6 million rows\n",
    "    stratify=df[['target']],\n",
    "    random_state=42 # set random state for reproducibility\n",
    ")\n",
    "\n",
    "contents = list(X_subset['text']) # use only the X_subset for training all the models"
   ]
  },
  {
   "cell_type": "code",
   "execution_count": 3,
   "id": "7454da8d",
   "metadata": {},
   "outputs": [
    {
     "name": "stderr",
     "output_type": "stream",
     "text": [
      "[nltk_data] Downloading package stopwords to\n",
      "[nltk_data]     C:\\Users\\yjiah\\AppData\\Roaming\\nltk_data...\n",
      "[nltk_data]   Package stopwords is already up-to-date!\n",
      "[nltk_data] Downloading package punkt to\n",
      "[nltk_data]     C:\\Users\\yjiah\\AppData\\Roaming\\nltk_data...\n",
      "[nltk_data]   Package punkt is already up-to-date!\n",
      "[nltk_data] Downloading package wordnet to\n",
      "[nltk_data]     C:\\Users\\yjiah\\AppData\\Roaming\\nltk_data...\n",
      "[nltk_data]   Package wordnet is already up-to-date!\n"
     ]
    },
    {
     "data": {
      "text/plain": [
       "True"
      ]
     },
     "execution_count": 3,
     "metadata": {},
     "output_type": "execute_result"
    }
   ],
   "source": [
    "nltk.download('stopwords')\n",
    "nltk.download('punkt')\n",
    "nltk.download('wordnet')"
   ]
  },
  {
   "cell_type": "code",
   "execution_count": 4,
   "id": "455416b4",
   "metadata": {},
   "outputs": [],
   "source": [
    "# split text into sentences by fullstop and lowercase everything up to 20000 sentences\n",
    "sentences_lst = [tweet.lower() for tweet in contents]\n",
    "\n",
    "# remove URLs\n",
    "sentences_no_urls = [re.sub(r'http\\S+|www\\S+', '', sentence) for sentence in sentences_lst]\n",
    "\n",
    "# remove hashtags and usernames\n",
    "sentences_no_tags = [re.sub(r'@\\w+|#\\w+', '', sentence) for sentence in sentences_no_urls]\n",
    "\n",
    "# remove punctuation\n",
    "sentences_no_punc = [re.sub(r'[^\\w\\s]', '', sentence) for sentence in sentences_no_tags]\n",
    "\n",
    "# tokenize the text\n",
    "tokenized_sentences = [sentence.split() for sentence in sentences_no_punc]\n",
    "\n",
    "# stopword removal\n",
    "stop_words = set(stopwords.words('english'))\n",
    "filtered_tokenized_sentences = [[word for word in sentence if word not in stop_words] for sentence in tokenized_sentences]\n",
    "\n",
    "# lemmatization\n",
    "lemmatizer = WordNetLemmatizer()\n",
    "filtered_tokenized_sentences = [[lemmatizer.lemmatize(word) for word in sentence] for sentence in filtered_tokenized_sentences]"
   ]
  },
  {
   "cell_type": "code",
   "execution_count": 5,
   "id": "0671f538",
   "metadata": {},
   "outputs": [],
   "source": [
    "# create final dataset\n",
    "X_subset['processed_text'] = filtered_tokenized_sentences\n",
    "y_subset['target'] = y_subset['target'].apply(lambda x: 0 if x == 0 else 1) # sentiment is bad if 0, sentiment is good (1) if 4\n",
    "\n",
    "final_dataset = pd.concat(\n",
    "    [\n",
    "        y_subset,\n",
    "        X_subset,\n",
    "    ],\n",
    "    axis=1\n",
    ").reset_index(drop=True)"
   ]
  },
  {
   "cell_type": "code",
   "execution_count": 6,
   "id": "e026d330",
   "metadata": {},
   "outputs": [
    {
     "data": {
      "text/html": [
       "<div>\n",
       "<style scoped>\n",
       "    .dataframe tbody tr th:only-of-type {\n",
       "        vertical-align: middle;\n",
       "    }\n",
       "\n",
       "    .dataframe tbody tr th {\n",
       "        vertical-align: top;\n",
       "    }\n",
       "\n",
       "    .dataframe thead th {\n",
       "        text-align: right;\n",
       "    }\n",
       "</style>\n",
       "<table border=\"1\" class=\"dataframe\">\n",
       "  <thead>\n",
       "    <tr style=\"text-align: right;\">\n",
       "      <th></th>\n",
       "      <th>target</th>\n",
       "      <th>text</th>\n",
       "      <th>processed_text</th>\n",
       "    </tr>\n",
       "  </thead>\n",
       "  <tbody>\n",
       "    <tr>\n",
       "      <th>0</th>\n",
       "      <td>0</td>\n",
       "      <td>still sitting under the dryer, my neck hurts</td>\n",
       "      <td>[still, sitting, dryer, neck, hurt]</td>\n",
       "    </tr>\n",
       "    <tr>\n",
       "      <th>1</th>\n",
       "      <td>1</td>\n",
       "      <td>@sarahshah this is my nightmare (even tho i on...</td>\n",
       "      <td>[nightmare, even, tho, 3, post]</td>\n",
       "    </tr>\n",
       "    <tr>\n",
       "      <th>2</th>\n",
       "      <td>0</td>\n",
       "      <td>@mjvarela black is good... tight, or should I ...</td>\n",
       "      <td>[black, good, tight, say, tight, good]</td>\n",
       "    </tr>\n",
       "    <tr>\n",
       "      <th>3</th>\n",
       "      <td>0</td>\n",
       "      <td>Takes forever for everybody to get ready.</td>\n",
       "      <td>[take, forever, everybody, get, ready]</td>\n",
       "    </tr>\n",
       "    <tr>\n",
       "      <th>4</th>\n",
       "      <td>0</td>\n",
       "      <td>@Bklyncookie omg all the LA bad weather aura i...</td>\n",
       "      <td>[omg, la, bad, weather, aura, trickling, bay, ...</td>\n",
       "    </tr>\n",
       "  </tbody>\n",
       "</table>\n",
       "</div>"
      ],
      "text/plain": [
       "   target                                               text  \\\n",
       "0       0      still sitting under the dryer, my neck hurts    \n",
       "1       1  @sarahshah this is my nightmare (even tho i on...   \n",
       "2       0  @mjvarela black is good... tight, or should I ...   \n",
       "3       0         Takes forever for everybody to get ready.    \n",
       "4       0  @Bklyncookie omg all the LA bad weather aura i...   \n",
       "\n",
       "                                      processed_text  \n",
       "0                [still, sitting, dryer, neck, hurt]  \n",
       "1                    [nightmare, even, tho, 3, post]  \n",
       "2             [black, good, tight, say, tight, good]  \n",
       "3             [take, forever, everybody, get, ready]  \n",
       "4  [omg, la, bad, weather, aura, trickling, bay, ...  "
      ]
     },
     "execution_count": 6,
     "metadata": {},
     "output_type": "execute_result"
    }
   ],
   "source": [
    "final_dataset.head()"
   ]
  },
  {
   "cell_type": "code",
   "execution_count": 7,
   "id": "5d0bdcba",
   "metadata": {},
   "outputs": [],
   "source": [
    "# train test split on final dataset, then export\n",
    "train, test = train_test_split(\n",
    "    final_dataset,\n",
    "    train_size=0.8,\n",
    "    random_state=42\n",
    ")"
   ]
  },
  {
   "cell_type": "code",
   "execution_count": 8,
   "id": "4324c487",
   "metadata": {},
   "outputs": [],
   "source": [
    "# export train and test datasets\n",
    "\n",
    "train.to_csv('../data/twitter/train_processed.csv', index=False)\n",
    "test.to_csv('../data/twitter/test_processed.csv', index=False)"
   ]
  }
 ],
 "metadata": {
  "kernelspec": {
   "display_name": "Python 3 (ipykernel)",
   "language": "python",
   "name": "python3"
  },
  "language_info": {
   "codemirror_mode": {
    "name": "ipython",
    "version": 3
   },
   "file_extension": ".py",
   "mimetype": "text/x-python",
   "name": "python",
   "nbconvert_exporter": "python",
   "pygments_lexer": "ipython3",
   "version": "3.12.1"
  }
 },
 "nbformat": 4,
 "nbformat_minor": 5
}
