{
 "cells": [
  {
   "cell_type": "code",
   "execution_count": 1,
   "metadata": {
    "execution": {
     "iopub.execute_input": "2025-09-06T12:26:21.144884Z",
     "iopub.status.busy": "2025-09-06T12:26:21.144618Z",
     "iopub.status.idle": "2025-09-06T12:26:26.006253Z",
     "shell.execute_reply": "2025-09-06T12:26:26.005691Z",
     "shell.execute_reply.started": "2025-09-06T12:26:21.144861Z"
    },
    "trusted": true
   },
   "outputs": [],
   "source": [
    "from nltk.corpus import reuters, inaugural\n",
    "from nltk.tokenize import word_tokenize\n",
    "from collections import Counter\n",
    "from tqdm import tqdm\n",
    "import numpy as np\n",
    "import nltk\n",
    "import random\n",
    "\n",
    "import torch\n",
    "import torch.nn.functional as F\n",
    "import torch.nn as nn\n",
    "from torch.utils.data import Dataset, DataLoader\n",
    "# import torchtext\n",
    "\n",
    "from tokenizers import Tokenizer\n",
    "from tokenizers.models import WordLevel, BPE\n",
    "from tokenizers.trainers import WordLevelTrainer, BpeTrainer\n",
    "from tokenizers.pre_tokenizers import Whitespace\n",
    "\n",
    "import matplotlib.pyplot as plt\n",
    "\n",
    "import time\n",
    "\n",
    "import math\n",
    "\n",
    "random.seed(42)"
   ]
  },
  {
   "cell_type": "code",
   "execution_count": 3,
   "metadata": {
    "execution": {
     "iopub.execute_input": "2025-09-06T12:26:26.007588Z",
     "iopub.status.busy": "2025-09-06T12:26:26.007276Z",
     "iopub.status.idle": "2025-09-06T12:26:26.208807Z",
     "shell.execute_reply": "2025-09-06T12:26:26.208216Z",
     "shell.execute_reply.started": "2025-09-06T12:26:26.007560Z"
    },
    "trusted": true
   },
   "outputs": [
    {
     "name": "stderr",
     "output_type": "stream",
     "text": [
      "[nltk_data] Downloading package reuters to /usr/share/nltk_data...\n",
      "[nltk_data]   Package reuters is already up-to-date!\n",
      "[nltk_data] Downloading package inaugural to /usr/share/nltk_data...\n",
      "[nltk_data]   Package inaugural is already up-to-date!\n",
      "[nltk_data] Downloading package punkt to /usr/share/nltk_data...\n",
      "[nltk_data]   Package punkt is already up-to-date!\n",
      "[nltk_data] Downloading package punkt_tab to /usr/share/nltk_data...\n",
      "[nltk_data]   Package punkt_tab is already up-to-date!\n"
     ]
    },
    {
     "data": {
      "text/plain": [
       "True"
      ]
     },
     "execution_count": 3,
     "metadata": {},
     "output_type": "execute_result"
    }
   ],
   "source": [
    "# Download necessary NLTK resources\n",
    "nltk.download('reuters')\n",
    "nltk.download('inaugural')\n",
    "nltk.download('punkt')\n",
    "nltk.download('punkt_tab')"
   ]
  },
  {
   "cell_type": "markdown",
   "metadata": {},
   "source": [
    "## Data Processing and train-val-test split"
   ]
  },
  {
   "cell_type": "code",
   "execution_count": 4,
   "metadata": {
    "execution": {
     "iopub.execute_input": "2025-09-06T12:26:26.209689Z",
     "iopub.status.busy": "2025-09-06T12:26:26.209460Z",
     "iopub.status.idle": "2025-09-06T12:26:27.072082Z",
     "shell.execute_reply": "2025-09-06T12:26:27.071443Z",
     "shell.execute_reply.started": "2025-09-06T12:26:26.209661Z"
    },
    "trusted": true
   },
   "outputs": [
    {
     "name": "stdout",
     "output_type": "stream",
     "text": [
      "Number of documents: 10788\n"
     ]
    }
   ],
   "source": [
    "# Load the Reuters dataset\n",
    "categories = reuters.categories()\n",
    "documents = reuters.fileids()\n",
    "random.shuffle(documents) # randomly shuffle the documents\n",
    "print(f\"Number of documents: {len(documents)}\")"
   ]
  },
  {
   "cell_type": "code",
   "execution_count": 5,
   "metadata": {
    "execution": {
     "iopub.execute_input": "2025-09-06T12:26:27.074209Z",
     "iopub.status.busy": "2025-09-06T12:26:27.073773Z",
     "iopub.status.idle": "2025-09-06T12:26:27.077585Z",
     "shell.execute_reply": "2025-09-06T12:26:27.076860Z",
     "shell.execute_reply.started": "2025-09-06T12:26:27.074191Z"
    },
    "trusted": true
   },
   "outputs": [],
   "source": [
    "n_total = len(documents)\n",
    "n_train = int(0.8 * n_total)\n",
    "n_val   = int(0.1 * n_total)\n",
    "n_test  = n_total - n_train - n_val"
   ]
  },
  {
   "cell_type": "code",
   "execution_count": 6,
   "metadata": {
    "execution": {
     "iopub.execute_input": "2025-09-06T12:26:27.078532Z",
     "iopub.status.busy": "2025-09-06T12:26:27.078301Z",
     "iopub.status.idle": "2025-09-06T12:26:27.094217Z",
     "shell.execute_reply": "2025-09-06T12:26:27.093500Z",
     "shell.execute_reply.started": "2025-09-06T12:26:27.078515Z"
    },
    "trusted": true
   },
   "outputs": [],
   "source": [
    "train_ids = documents[:n_train]\n",
    "val_ids = documents[n_train:n_train + n_val]\n",
    "test_ids = documents[n_train + n_val:]"
   ]
  },
  {
   "cell_type": "code",
   "execution_count": 7,
   "metadata": {
    "execution": {
     "iopub.execute_input": "2025-09-06T12:26:27.095155Z",
     "iopub.status.busy": "2025-09-06T12:26:27.094974Z",
     "iopub.status.idle": "2025-09-06T12:26:27.880758Z",
     "shell.execute_reply": "2025-09-06T12:26:27.880166Z",
     "shell.execute_reply.started": "2025-09-06T12:26:27.095140Z"
    },
    "trusted": true
   },
   "outputs": [],
   "source": [
    "# tokenize and lowercase the characters\n",
    "train_data = [reuters.raw(fid).lower() for fid in train_ids]\n",
    "val_data = [reuters.raw(fid).lower() for fid in val_ids]\n",
    "test_data = [reuters.raw(fid).lower() for fid in test_ids]"
   ]
  },
  {
   "cell_type": "code",
   "execution_count": 8,
   "metadata": {
    "execution": {
     "iopub.execute_input": "2025-09-06T12:26:27.881727Z",
     "iopub.status.busy": "2025-09-06T12:26:27.881441Z",
     "iopub.status.idle": "2025-09-06T12:26:27.887630Z",
     "shell.execute_reply": "2025-09-06T12:26:27.886987Z",
     "shell.execute_reply.started": "2025-09-06T12:26:27.881701Z"
    },
    "trusted": true
   },
   "outputs": [],
   "source": [
    "def create_tokenizer_trainer(byte_pair: bool, vocab_size):\n",
    "    if byte_pair:\n",
    "        tokenizer = Tokenizer(BPE(unk_token=\"[UNK]\"))\n",
    "        tokenizer.pre_tokenizer = Whitespace()\n",
    "        trainer = BpeTrainer(\n",
    "            special_tokens=[\"[UNK]\", \"[PAD]\", \"[BOS]\", \"[EOS]\"],\n",
    "            vocab_size=vocab_size\n",
    "        )\n",
    "    else:\n",
    "        tokenizer = Tokenizer(WordLevel(unk_token='[UNK]'))\n",
    "        tokenizer.pre_tokenizer = Whitespace()\n",
    "        trainer = WordLevelTrainer(\n",
    "            special_tokens=[\"[UNK]\", \"[PAD]\", \"[BOS]\", \"[EOS]\"],\n",
    "            vocab_size=vocab_size\n",
    "        )\n",
    "    return tokenizer, trainer\n",
    "\n",
    "def encode_text(ids: list[str], tokenizer):\n",
    "    # process the data\n",
    "    processed = []\n",
    "    start_token_id = tokenizer.token_to_id(\"[BOS]\")\n",
    "    end_token_id = tokenizer.token_to_id(\"[EOS]\")\n",
    "    for fid in ids:\n",
    "        raw_text = reuters.raw(fid)\n",
    "        ids = tokenizer.encode(raw_text).ids\n",
    "        processed.append([start_token_id] + ids + [end_token_id])\n",
    "    return processed"
   ]
  },
  {
   "cell_type": "code",
   "execution_count": 9,
   "metadata": {
    "execution": {
     "iopub.execute_input": "2025-09-06T12:26:27.888520Z",
     "iopub.status.busy": "2025-09-06T12:26:27.888275Z",
     "iopub.status.idle": "2025-09-06T12:26:29.227197Z",
     "shell.execute_reply": "2025-09-06T12:26:29.226404Z",
     "shell.execute_reply.started": "2025-09-06T12:26:27.888497Z"
    },
    "trusted": true
   },
   "outputs": [
    {
     "name": "stdout",
     "output_type": "stream",
     "text": [
      "\n",
      "\n",
      "\n"
     ]
    }
   ],
   "source": [
    "# define word tokenizer and BPE tokenizer\n",
    "word_tokenizer, trainer = create_tokenizer_trainer(byte_pair=False, vocab_size=10000)\n",
    "word_tokenizer.train_from_iterator(train_data, trainer)\n",
    "\n",
    "bpe_tokenizer, trainer = create_tokenizer_trainer(byte_pair=True, vocab_size=10000)\n",
    "bpe_tokenizer.train_from_iterator(train_data, trainer)"
   ]
  },
  {
   "cell_type": "code",
   "execution_count": 10,
   "metadata": {
    "execution": {
     "iopub.execute_input": "2025-09-06T12:26:29.228608Z",
     "iopub.status.busy": "2025-09-06T12:26:29.228087Z",
     "iopub.status.idle": "2025-09-06T12:26:36.822866Z",
     "shell.execute_reply": "2025-09-06T12:26:36.822285Z",
     "shell.execute_reply.started": "2025-09-06T12:26:29.228580Z"
    },
    "trusted": true
   },
   "outputs": [],
   "source": [
    "train_processed_word = encode_text(train_ids, word_tokenizer)\n",
    "val_processed_word = encode_text(val_ids, word_tokenizer)\n",
    "test_processed_word = encode_text(test_ids, word_tokenizer)\n",
    "\n",
    "train_processed_bpe = encode_text(train_ids, bpe_tokenizer)\n",
    "val_processed_bpe = encode_text(val_ids, bpe_tokenizer)\n",
    "test_processed_bpe = encode_text(test_ids, bpe_tokenizer)"
   ]
  },
  {
   "cell_type": "markdown",
   "metadata": {},
   "source": [
    "## Define Dataset and Dataloader"
   ]
  },
  {
   "cell_type": "code",
   "execution_count": 11,
   "metadata": {
    "execution": {
     "iopub.execute_input": "2025-09-06T12:26:36.823832Z",
     "iopub.status.busy": "2025-09-06T12:26:36.823569Z",
     "iopub.status.idle": "2025-09-06T12:26:36.829704Z",
     "shell.execute_reply": "2025-09-06T12:26:36.828946Z",
     "shell.execute_reply.started": "2025-09-06T12:26:36.823814Z"
    },
    "trusted": true
   },
   "outputs": [],
   "source": [
    "class ReutersDataset(Dataset):\n",
    "    def __init__(self, texts, seq_len=30):\n",
    "        self.seq_len = seq_len\n",
    "        self.data = []\n",
    "        \n",
    "        for text in texts:\n",
    "            if len(text) > seq_len:\n",
    "                # slide window\n",
    "                for i in range(len(text) - seq_len):\n",
    "                    seq = text[i:i+seq_len+1]  # need +1 for target\n",
    "                    self.data.append(seq)\n",
    "\n",
    "    def __len__(self):\n",
    "        return len(self.data)\n",
    "\n",
    "    def __getitem__(self, idx):\n",
    "        seq = torch.tensor(self.data[idx], dtype=torch.long)\n",
    "        # input = first seq_len tokens\n",
    "        x = seq[:-1]\n",
    "        # target = same sequence shifted by one\n",
    "        y = seq[1:]\n",
    "        return x, y"
   ]
  },
  {
   "cell_type": "code",
   "execution_count": 12,
   "metadata": {
    "execution": {
     "iopub.execute_input": "2025-09-06T12:26:36.830961Z",
     "iopub.status.busy": "2025-09-06T12:26:36.830483Z",
     "iopub.status.idle": "2025-09-06T12:26:42.227936Z",
     "shell.execute_reply": "2025-09-06T12:26:42.227341Z",
     "shell.execute_reply.started": "2025-09-06T12:26:36.830937Z"
    },
    "trusted": true
   },
   "outputs": [],
   "source": [
    "train_dataset_word = ReutersDataset(train_processed_word, 30)\n",
    "val_dataset_word = ReutersDataset(val_processed_word, 30)\n",
    "test_dataset_word = ReutersDataset(test_processed_word, 30)\n",
    "\n",
    "train_dataset_bpe = ReutersDataset(train_processed_bpe, 30)\n",
    "val_dataset_bpe = ReutersDataset(val_processed_bpe, 30)\n",
    "test_dataset_bpe = ReutersDataset(test_processed_bpe, 30)"
   ]
  },
  {
   "cell_type": "code",
   "execution_count": 13,
   "metadata": {
    "execution": {
     "iopub.execute_input": "2025-09-06T12:26:42.228880Z",
     "iopub.status.busy": "2025-09-06T12:26:42.228636Z",
     "iopub.status.idle": "2025-09-06T12:26:42.234211Z",
     "shell.execute_reply": "2025-09-06T12:26:42.233659Z",
     "shell.execute_reply.started": "2025-09-06T12:26:42.228863Z"
    },
    "trusted": true
   },
   "outputs": [],
   "source": [
    "train_dataloader_word = DataLoader(train_dataset_word, batch_size=1024, shuffle=True)\n",
    "val_dataloader_word = DataLoader(val_dataset_word, batch_size=1024, shuffle=True)\n",
    "test_dataloader_word = DataLoader(test_dataset_word, batch_size=1024, shuffle=True)\n",
    "\n",
    "train_dataloader_bpe = DataLoader(train_dataset_bpe, batch_size=1024, shuffle=True)\n",
    "val_dataloader_bpe = DataLoader(val_dataset_bpe, batch_size=1024, shuffle=True)\n",
    "test_dataloader_bpe = DataLoader(test_dataset_bpe, batch_size=1024, shuffle=True)"
   ]
  },
  {
   "cell_type": "markdown",
   "metadata": {},
   "source": [
    "## Modelling"
   ]
  },
  {
   "cell_type": "code",
   "execution_count": 14,
   "metadata": {
    "execution": {
     "iopub.execute_input": "2025-09-06T12:26:42.238141Z",
     "iopub.status.busy": "2025-09-06T12:26:42.237560Z",
     "iopub.status.idle": "2025-09-06T12:26:42.255249Z",
     "shell.execute_reply": "2025-09-06T12:26:42.254660Z",
     "shell.execute_reply.started": "2025-09-06T12:26:42.238114Z"
    },
    "trusted": true
   },
   "outputs": [],
   "source": [
    "class RNNLanguageModel(nn.Module):\n",
    "    def __init__(self, vocab_size, embed_size, hidden_size, num_layers, dropout_p):\n",
    "        super().__init__()\n",
    "        self.hidden_size = hidden_size\n",
    "        self.num_layers = num_layers\n",
    "        \n",
    "        self.embedding = nn.Embedding(vocab_size, embed_size)\n",
    "        self.rnn = nn.RNN(embed_size, hidden_size, num_layers, batch_first=True, dropout=dropout_p)\n",
    "        self.fc = nn.Linear(hidden_size, vocab_size)\n",
    "\n",
    "    def forward(self, x, hidden=None):\n",
    "        batch_size = x.size(0)\n",
    "        \n",
    "        # initialize hidden state if not provided\n",
    "        if hidden is None:\n",
    "            hidden = torch.zeros(self.num_layers, batch_size, self.hidden_size, device=x.device)\n",
    "        \n",
    "        x = self.embedding(x)\n",
    "        out, hidden = self.rnn(x, hidden)\n",
    "        out = self.fc(out)\n",
    "        \n",
    "        return out, hidden"
   ]
  },
  {
   "cell_type": "code",
   "execution_count": 15,
   "metadata": {
    "execution": {
     "iopub.execute_input": "2025-09-06T12:26:42.256143Z",
     "iopub.status.busy": "2025-09-06T12:26:42.255915Z",
     "iopub.status.idle": "2025-09-06T12:26:42.280156Z",
     "shell.execute_reply": "2025-09-06T12:26:42.279703Z",
     "shell.execute_reply.started": "2025-09-06T12:26:42.256119Z"
    },
    "trusted": true
   },
   "outputs": [],
   "source": [
    "def train(model, loss_fn, optimizer, dataloader, device, vocab_size):\n",
    "    model.train()\n",
    "    total_loss = 0\n",
    "    for inputs, targets in dataloader:\n",
    "        inputs, targets = inputs.to(device), targets.to(device)\n",
    "\n",
    "        optimizer.zero_grad()\n",
    "        outputs, hidden = model(inputs)  # [batch, seq_len, vocab_size]\n",
    "\n",
    "        # reshape for CrossEntropyLoss\n",
    "        loss = loss_fn(outputs.view(-1, vocab_size), targets.view(-1))\n",
    "        loss.backward()\n",
    "        optimizer.step()\n",
    "\n",
    "        total_loss += loss.item()\n",
    "\n",
    "    return total_loss / len(dataloader)\n",
    "\n",
    "\n",
    "def evaluate(model, loss_fn, dataloader, device, vocab_size):\n",
    "    model.eval()\n",
    "    total_loss = 0\n",
    "    with torch.no_grad():\n",
    "        for inputs, targets in dataloader:\n",
    "            inputs, targets = inputs.to(device), targets.to(device)\n",
    "            \n",
    "            outputs, hidden = model(inputs)\n",
    "            loss = loss_fn(outputs.view(-1, vocab_size), targets.view(-1))\n",
    "            total_loss += loss.item()\n",
    "\n",
    "    return total_loss / len(dataloader)"
   ]
  },
  {
   "cell_type": "markdown",
   "metadata": {},
   "source": [
    "## Model 1\n",
    "\n",
    "embed_size=128,\n",
    "hidden_size=128,\n",
    "num_layers=2,\n",
    "dropout_p=0.1\n",
    "\n",
    "using word tokenizer\n",
    "\n",
    "sequence length = 30"
   ]
  },
  {
   "cell_type": "code",
   "execution_count": 16,
   "metadata": {
    "execution": {
     "iopub.execute_input": "2025-09-06T12:26:42.281246Z",
     "iopub.status.busy": "2025-09-06T12:26:42.281037Z",
     "iopub.status.idle": "2025-09-06T12:26:45.054781Z",
     "shell.execute_reply": "2025-09-06T12:26:45.053986Z",
     "shell.execute_reply.started": "2025-09-06T12:26:42.281231Z"
    },
    "trusted": true
   },
   "outputs": [
    {
     "data": {
      "text/plain": [
       "RNNLanguageModel(\n",
       "  (embedding): Embedding(10000, 128)\n",
       "  (rnn): RNN(128, 128, num_layers=2, batch_first=True, dropout=0.1)\n",
       "  (fc): Linear(in_features=128, out_features=10000, bias=True)\n",
       ")"
      ]
     },
     "execution_count": 16,
     "metadata": {},
     "output_type": "execute_result"
    }
   ],
   "source": [
    "torch.manual_seed(42)\n",
    "model_1 = RNNLanguageModel(\n",
    "    vocab_size=word_tokenizer.get_vocab_size(),\n",
    "    embed_size=128,\n",
    "    hidden_size=128,\n",
    "    num_layers=2,\n",
    "    dropout_p=0.1\n",
    ")\n",
    "criterion = nn.CrossEntropyLoss()\n",
    "optimizer = torch.optim.AdamW(model_1.parameters(), lr=0.01)\n",
    "vocab_size = word_tokenizer.get_vocab_size()\n",
    "device = torch.device(\"cuda\" if torch.cuda.is_available() else \"cpu\")\n",
    "model_1.to(device)"
   ]
  },
  {
   "cell_type": "code",
   "execution_count": 17,
   "metadata": {
    "execution": {
     "iopub.execute_input": "2025-09-06T12:26:45.056162Z",
     "iopub.status.busy": "2025-09-06T12:26:45.055694Z",
     "iopub.status.idle": "2025-09-06T12:42:03.591913Z",
     "shell.execute_reply": "2025-09-06T12:42:03.591247Z",
     "shell.execute_reply.started": "2025-09-06T12:26:45.056140Z"
    },
    "trusted": true
   },
   "outputs": [
    {
     "name": "stdout",
     "output_type": "stream",
     "text": [
      "Epoch: 1.\n",
      "Train loss = 3.7934, Validation loss = 3.7869\n",
      "Train perplexity =  44.4092, Validation perplexity =  44.1215\n",
      "****************************************************************************************************\n",
      "Epoch: 2.\n",
      "Train loss = 3.3565, Validation loss = 3.7976\n",
      "Train perplexity =  28.6889, Validation perplexity =  44.5946\n",
      "****************************************************************************************************\n",
      "Epoch: 3.\n",
      "Train loss = 3.2702, Validation loss = 3.8253\n",
      "Train perplexity =  26.3170, Validation perplexity =  45.8463\n",
      "****************************************************************************************************\n",
      "Epoch: 4.\n",
      "Train loss = 3.2229, Validation loss = 3.8315\n",
      "Train perplexity =  25.1019, Validation perplexity =  46.1299\n",
      "****************************************************************************************************\n",
      "Epoch: 5.\n",
      "Train loss = 3.1875, Validation loss = 3.8435\n",
      "Train perplexity =  24.2276, Validation perplexity =  46.6883\n",
      "****************************************************************************************************\n",
      "Epoch: 6.\n",
      "Train loss = 3.1643, Validation loss = 3.8398\n",
      "Train perplexity =  23.6724, Validation perplexity =  46.5161\n",
      "****************************************************************************************************\n",
      "Epoch: 7.\n",
      "Train loss = 3.1471, Validation loss = 3.8466\n",
      "Train perplexity =  23.2688, Validation perplexity =  46.8352\n",
      "****************************************************************************************************\n",
      "Epoch: 8.\n",
      "Train loss = 3.1319, Validation loss = 3.8535\n",
      "Train perplexity =  22.9176, Validation perplexity =  47.1569\n",
      "****************************************************************************************************\n",
      "Epoch: 9.\n",
      "Train loss = 3.1204, Validation loss = 3.8520\n",
      "Train perplexity =  22.6551, Validation perplexity =  47.0895\n",
      "****************************************************************************************************\n",
      "Epoch: 10.\n",
      "Train loss = 3.1087, Validation loss = 3.8595\n",
      "Train perplexity =  22.3930, Validation perplexity =  47.4403\n",
      "****************************************************************************************************\n",
      "Training took  918.53 seconds\n"
     ]
    }
   ],
   "source": [
    "best_val_loss = float('inf')\n",
    "train_losses = []\n",
    "val_losses = []\n",
    "NUM_EPOCHS = 10\n",
    "\n",
    "start_time = time.time()\n",
    "\n",
    "for epoch in range(NUM_EPOCHS):\n",
    "    train_loss = train(model_1, criterion, optimizer, train_dataloader_word, device, vocab_size)\n",
    "    val_loss = evaluate(model_1, criterion, val_dataloader_word, device, vocab_size)\n",
    "\n",
    "    # save model with best validation loss each time\n",
    "    if val_loss < best_val_loss:\n",
    "        best_val_loss = val_loss\n",
    "        torch.save(model_1.state_dict(), \"rnn_best_1.pt\")\n",
    "\n",
    "    train_losses.append(train_loss)\n",
    "    val_losses.append(val_loss)\n",
    "\n",
    "    print(f\"Epoch: {epoch + 1}.\")\n",
    "    print(f\"Train loss = {train_loss:.4f}, Validation loss = {val_loss:.4f}\")\n",
    "    print(f\"Train perplexity = {math.exp(train_loss): .4f}, Validation perplexity = {math.exp(val_loss): .4f}\")\n",
    "    print(\"*\" * 100)\n",
    "\n",
    "end_time = time.time()\n",
    "\n",
    "print(f\"Training took {end_time - start_time: .2f} seconds\")"
   ]
  },
  {
   "cell_type": "markdown",
   "metadata": {},
   "source": [
    "### Plot training and validation loss curves"
   ]
  },
  {
   "cell_type": "code",
   "execution_count": 18,
   "metadata": {
    "execution": {
     "iopub.execute_input": "2025-09-06T12:42:03.592930Z",
     "iopub.status.busy": "2025-09-06T12:42:03.592682Z",
     "iopub.status.idle": "2025-09-06T12:42:03.828913Z",
     "shell.execute_reply": "2025-09-06T12:42:03.828137Z",
     "shell.execute_reply.started": "2025-09-06T12:42:03.592907Z"
    },
    "trusted": true
   },
   "outputs": [
    {
     "data": {
      "image/png": "[encoded data removed]",
      "text/plain": [
       "<Figure size 1500x1000 with 1 Axes>"
      ]
     },
     "metadata": {},
     "output_type": "display_data"
    }
   ],
   "source": [
    "plt.figure(figsize=(15, 10))\n",
    "plt.plot(train_losses, label='train_loss')\n",
    "plt.plot(val_losses,label='val_loss')\n",
    "plt.legend()\n",
    "plt.show()"
   ]
  },
  {
   "cell_type": "markdown",
   "metadata": {},
   "source": [
    "### Evaluate on test set"
   ]
  },
  {
   "cell_type": "code",
   "execution_count": 19,
   "metadata": {
    "execution": {
     "iopub.execute_input": "2025-09-06T12:42:03.829992Z",
     "iopub.status.busy": "2025-09-06T12:42:03.829727Z",
     "iopub.status.idle": "2025-09-06T12:42:03.843717Z",
     "shell.execute_reply": "2025-09-06T12:42:03.843040Z",
     "shell.execute_reply.started": "2025-09-06T12:42:03.829967Z"
    },
    "trusted": true
   },
   "outputs": [
    {
     "data": {
      "text/plain": [
       "<All keys matched successfully>"
      ]
     },
     "execution_count": 19,
     "metadata": {},
     "output_type": "execute_result"
    }
   ],
   "source": [
    "model_1.load_state_dict(\n",
    "    torch.load('/kaggle/working/rnn_best_1.pt', map_location='cuda')\n",
    ")"
   ]
  },
  {
   "cell_type": "code",
   "execution_count": 20,
   "metadata": {
    "execution": {
     "iopub.execute_input": "2025-09-06T12:42:03.844813Z",
     "iopub.status.busy": "2025-09-06T12:42:03.844484Z",
     "iopub.status.idle": "2025-09-06T12:42:09.028061Z",
     "shell.execute_reply": "2025-09-06T12:42:09.027270Z",
     "shell.execute_reply.started": "2025-09-06T12:42:03.844790Z"
    },
    "trusted": true
   },
   "outputs": [
    {
     "name": "stdout",
     "output_type": "stream",
     "text": [
      "Test loss = 3.8492\n",
      "Test perplexity =  46.9566\n"
     ]
    }
   ],
   "source": [
    "test_loss = evaluate(model_1, criterion, test_dataloader_word, device, vocab_size)\n",
    "print(f\"Test loss = {test_loss:.4f}\")\n",
    "print(f\"Test perplexity = {math.exp(test_loss): .4f}\")"
   ]
  },
  {
   "cell_type": "markdown",
   "metadata": {},
   "source": [
    "### Sample text generation"
   ]
  },
  {
   "cell_type": "code",
   "execution_count": 21,
   "metadata": {
    "execution": {
     "iopub.execute_input": "2025-09-06T12:42:09.029195Z",
     "iopub.status.busy": "2025-09-06T12:42:09.028934Z",
     "iopub.status.idle": "2025-09-06T12:42:09.035506Z",
     "shell.execute_reply": "2025-09-06T12:42:09.034692Z",
     "shell.execute_reply.started": "2025-09-06T12:42:09.029168Z"
    },
    "trusted": true
   },
   "outputs": [],
   "source": [
    "def generate_text(model, tokenizer, start_text, max_new_tokens=200, temperature=1.0, device=\"cuda\"):\n",
    "    model.eval()\n",
    "    model.to(device)\n",
    "\n",
    "    # Encode start text into token IDs\n",
    "    input_ids = tokenizer.encode(start_text).ids\n",
    "    start_token_id = tokenizer.token_to_id(\"[BOS]\")\n",
    "    input_ids = torch.tensor([[start_token_id] + input_ids], dtype=torch.long).to(device)\n",
    "\n",
    "    hidden = None\n",
    "    generated_ids = input_ids[0].tolist()\n",
    "\n",
    "    with torch.no_grad():\n",
    "        for _ in range(max_new_tokens):\n",
    "            # Forward pass\n",
    "            logits, hidden = model(input_ids, hidden)\n",
    "\n",
    "            # Take last token's logits\n",
    "            logits = logits[:, -1, :]  # shape [batch, vocab_size]\n",
    "\n",
    "            # Apply temperature\n",
    "            probs = F.softmax(logits / temperature, dim=-1)\n",
    "\n",
    "            # Sample next token\n",
    "            next_id = torch.multinomial(probs, num_samples=1).item()\n",
    "\n",
    "            # Append\n",
    "            generated_ids.append(next_id)\n",
    "\n",
    "            if next_id == tokenizer.token_to_id(\"[EOS]\"):\n",
    "                break\n",
    "\n",
    "            # Prepare next input\n",
    "            input_ids = torch.tensor([[next_id]], dtype=torch.long).to(device)\n",
    "\n",
    "    # Decode back to text\n",
    "    return tokenizer.decode(generated_ids, skip_special_tokens=True)"
   ]
  },
  {
   "cell_type": "code",
   "execution_count": 22,
   "metadata": {
    "execution": {
     "iopub.execute_input": "2025-09-06T12:42:09.036965Z",
     "iopub.status.busy": "2025-09-06T12:42:09.036245Z",
     "iopub.status.idle": "2025-09-06T12:42:09.402840Z",
     "shell.execute_reply": "2025-09-06T12:42:09.402212Z",
     "shell.execute_reply.started": "2025-09-06T12:42:09.036943Z"
    },
    "trusted": true
   },
   "outputs": [
    {
     "data": {
      "text/plain": [
       "\"in 1987 & lt ; > and ( ) for . . , , the company said . is also rumored to be sold to the administration by the and the ' s of , . . said the board of directors unanimously approved an agreement to sell its application and . said & lt ; > subsidiary , said that closed & lt ; > and & lt ; > and , said the administration will also grant its to , which distributes , said . lending averaged 2\""
      ]
     },
     "execution_count": 22,
     "metadata": {},
     "output_type": "execute_result"
    }
   ],
   "source": [
    "start = \"in 1987\"\n",
    "text = generate_text(model_1, word_tokenizer, start, max_new_tokens=200, temperature=0.7, device=\"cuda\")\n",
    "text"
   ]
  },
  {
   "cell_type": "code",
   "execution_count": 23,
   "metadata": {
    "execution": {
     "iopub.execute_input": "2025-09-06T12:42:09.403699Z",
     "iopub.status.busy": "2025-09-06T12:42:09.403480Z",
     "iopub.status.idle": "2025-09-06T12:42:09.520515Z",
     "shell.execute_reply": "2025-09-06T12:42:09.519974Z",
     "shell.execute_reply.started": "2025-09-06T12:42:09.403679Z"
    },
    "trusted": true
   },
   "outputs": [
    {
     "data": {
      "text/plain": [
       "\"in 1987 acreage and imports of gas . 137 mln dlrs in the nine days 400 tonnes of gold crude plus relying on prices by the strong yen by the advance could cause non - personal - health claims for all materials except refined yield assistance of 12 . 85 yen and ' s meeting , however , for the of light of the currency exchange rates did open market standard prices will also help curb the wheat acreage came immediately reduced districts , said . said were : copy of both companies including ' s marketed two - for - one sweetener , , and and ( ) is as in buying arguments for its bringing the much larger stage . spokesman said will merge the two companies it acquired by & lt ; >, a developer of and and & lt ; > for the preference will seek 500 mln dlrs in 1986 . of two separate agreements at the industrial economic , financial\""
      ]
     },
     "execution_count": 23,
     "metadata": {},
     "output_type": "execute_result"
    }
   ],
   "source": [
    "start = \"in 1987\"\n",
    "text = generate_text(model_1, word_tokenizer, start, max_new_tokens=200, temperature=1.0, device=\"cuda\")\n",
    "text"
   ]
  },
  {
   "cell_type": "code",
   "execution_count": 24,
   "metadata": {
    "execution": {
     "iopub.execute_input": "2025-09-06T12:42:09.521888Z",
     "iopub.status.busy": "2025-09-06T12:42:09.521211Z",
     "iopub.status.idle": "2025-09-06T12:42:09.638070Z",
     "shell.execute_reply": "2025-09-06T12:42:09.637543Z",
     "shell.execute_reply.started": "2025-09-06T12:42:09.521865Z"
    },
    "trusted": true
   },
   "outputs": [
    {
     "data": {
      "text/plain": [
       "'in 1987 for components world prices , was prospect with the waterway as \\' s close steers because the favorable groups failed to boost loans for grain reorganizations fell 2 . 2 cents a non - farm payroll employment earned 347 yuan per sample - equity sale of metals companies for export facilities at between 107 . 2 million tons of white sheet usage 26 western states of last month \\' s proposed banks s pact . 45 pct interest in his tender schedule issue . \" price dry found accelerating prices \" at a change of its food products concern lead receivables from to the . . terminal is well cause to push their position ,\" 350 out cash implemented further in capital programme , a and plant ( 951 ) average for the sector were some 21 points to 35 methods offshore combined sugar fluids allocation and the pro levies on energy minister ( - related terms said in order by an interest are flexible on short permanently output during fiscal corporate 1986 / 87 after two ending fertilizer anticipated . year gained 4 pct if it would effects on remarks'"
      ]
     },
     "execution_count": 24,
     "metadata": {},
     "output_type": "execute_result"
    }
   ],
   "source": [
    "start = \"in 1987\"\n",
    "text = generate_text(model_1, word_tokenizer, start, max_new_tokens=200, temperature=1.3, device=\"cuda\")\n",
    "text"
   ]
  },
  {
   "cell_type": "code",
   "execution_count": 25,
   "metadata": {
    "execution": {
     "iopub.execute_input": "2025-09-06T12:42:09.639358Z",
     "iopub.status.busy": "2025-09-06T12:42:09.638746Z",
     "iopub.status.idle": "2025-09-06T12:42:09.756688Z",
     "shell.execute_reply": "2025-09-06T12:42:09.756031Z",
     "shell.execute_reply.started": "2025-09-06T12:42:09.639335Z"
    },
    "trusted": true
   },
   "outputs": [
    {
     "data": {
      "text/plain": [
       "\"united states . , said the said has asked his & lt ; . > said it has started a loss of about seven mln dlrs . said it has waived all shareholders to decide as much as two to 10 pct of the total , said . spokesman said the company ' s cash flow incurred on a proposal by government shareholders ' department , . . , said it lowered its stake in ' s total dividends . said the company reported no acquisition of the sale , which holds the and said . ' s of planned to . , in which , . . ,\""
      ]
     },
     "execution_count": 25,
     "metadata": {},
     "output_type": "execute_result"
    }
   ],
   "source": [
    "start = \"united states\"\n",
    "text = generate_text(model_1, word_tokenizer, start, max_new_tokens=200, temperature=0.7, device=\"cuda\")\n",
    "text"
   ]
  },
  {
   "cell_type": "code",
   "execution_count": 26,
   "metadata": {
    "execution": {
     "iopub.execute_input": "2025-09-06T12:42:09.757681Z",
     "iopub.status.busy": "2025-09-06T12:42:09.757416Z",
     "iopub.status.idle": "2025-09-06T12:42:09.874616Z",
     "shell.execute_reply": "2025-09-06T12:42:09.873984Z",
     "shell.execute_reply.started": "2025-09-06T12:42:09.757659Z"
    },
    "trusted": true
   },
   "outputs": [
    {
     "data": {
      "text/plain": [
       "\"united states and the brokerage company , said the administration unsuccessfully improved differential . are held in a merged . rights were 6 . 765 billion in . base annual inflation rate of five pct , and and sole giant faces widespread opposition to . said is on 19 , the said farmers would be to approval victory during the weekend when he learned . said the further wholesale restrictions have urged the degree of the country ' s the refinery owners carry investment stress , will lift them by eastern , officials told the of , vice president of , , corporations , either with the - cartel to , said earlier a imposition was unveiled by a former . company had written to shareholders of record and four mln acres . is the highest announcement of attack on and sparked concentration over the new agreement to provide the household product and taxes warrant .\""
      ]
     },
     "execution_count": 26,
     "metadata": {},
     "output_type": "execute_result"
    }
   ],
   "source": [
    "start = \"united states\"\n",
    "text = generate_text(model_1, word_tokenizer, start, max_new_tokens=200, temperature=1.0, device=\"cuda\")\n",
    "text"
   ]
  },
  {
   "cell_type": "code",
   "execution_count": 27,
   "metadata": {
    "execution": {
     "iopub.execute_input": "2025-09-06T12:42:09.875511Z",
     "iopub.status.busy": "2025-09-06T12:42:09.875303Z",
     "iopub.status.idle": "2025-09-06T12:42:09.992772Z",
     "shell.execute_reply": "2025-09-06T12:42:09.992081Z",
     "shell.execute_reply.started": "2025-09-06T12:42:09.875496Z"
    },
    "trusted": true
   },
   "outputs": [
    {
     "data": {
      "text/plain": [
       "'united states get various people , at before time by financial grounds on drain control nor \\' t brought a break front . \" and agreement seemed set to market buying the conference .\" standing signal came into progress because of heavy breaking restructuring bear by inspection actual marketing under other pick - hot - unit power drilling lines but its recognition of 1988 exploration partnership voiced its stake is subject to the area of making all \" price cut in late securities but some brand workers . department inc said in distribution discussions exceeding those due to have net income further hold total by make industrial goods of oilfield equipment targets must oppose tariffs ahead now and welcomed the recent individual production side slow the exchange rate dollar . \" figures showed the suggestion do not upon suggestions stake in tomorrow and appealed of long , when a sharp drop in the tug wet crop of 15 and official fsb .\" told reject energy reorganization proceedings . total total detailed bid period at 467 , 750 metric tons of palm currencies , traders whatever increases might have its advance'"
      ]
     },
     "execution_count": 27,
     "metadata": {},
     "output_type": "execute_result"
    }
   ],
   "source": [
    "start = \"united states\"\n",
    "text = generate_text(model_1, word_tokenizer, start, max_new_tokens=200, temperature=1.3, device=\"cuda\")\n",
    "text"
   ]
  },
  {
   "cell_type": "markdown",
   "metadata": {},
   "source": [
    "We can observe that with higher temperatures, the model usually generates more text, and uses a wider variety of tokens. With lower temperature, the model uses largely the same tokens for text generation"
   ]
  },
  {
   "cell_type": "markdown",
   "metadata": {},
   "source": [
    "## Model 2\n",
    "\n",
    "embed_size=128,\n",
    "hidden_size=128,\n",
    "num_layers=2,\n",
    "dropout_p=0.3\n",
    "\n",
    "using word tokenization\n",
    "\n",
    "sequence length = 30"
   ]
  },
  {
   "cell_type": "code",
   "execution_count": 30,
   "metadata": {
    "execution": {
     "iopub.execute_input": "2025-09-06T12:42:23.662110Z",
     "iopub.status.busy": "2025-09-06T12:42:23.661825Z",
     "iopub.status.idle": "2025-09-06T12:42:23.703856Z",
     "shell.execute_reply": "2025-09-06T12:42:23.703185Z",
     "shell.execute_reply.started": "2025-09-06T12:42:23.662089Z"
    },
    "trusted": true
   },
   "outputs": [
    {
     "data": {
      "text/plain": [
       "RNNLanguageModel(\n",
       "  (embedding): Embedding(10000, 128)\n",
       "  (rnn): RNN(128, 128, num_layers=2, batch_first=True, dropout=0.3)\n",
       "  (fc): Linear(in_features=128, out_features=10000, bias=True)\n",
       ")"
      ]
     },
     "execution_count": 30,
     "metadata": {},
     "output_type": "execute_result"
    }
   ],
   "source": [
    "torch.manual_seed(42)\n",
    "model_2 = RNNLanguageModel(\n",
    "    vocab_size=word_tokenizer.get_vocab_size(),\n",
    "    embed_size=128,\n",
    "    hidden_size=128,\n",
    "    num_layers=2,\n",
    "    dropout_p=0.3\n",
    ")\n",
    "criterion = nn.CrossEntropyLoss()\n",
    "optimizer = torch.optim.AdamW(model_2.parameters(), lr=0.01)\n",
    "vocab_size = word_tokenizer.get_vocab_size()\n",
    "device = torch.device(\"cuda\" if torch.cuda.is_available() else \"cpu\")\n",
    "model_2.to(device)"
   ]
  },
  {
   "cell_type": "code",
   "execution_count": 31,
   "metadata": {
    "execution": {
     "iopub.execute_input": "2025-09-06T12:42:34.149890Z",
     "iopub.status.busy": "2025-09-06T12:42:34.149306Z",
     "iopub.status.idle": "2025-09-06T12:57:50.648377Z",
     "shell.execute_reply": "2025-09-06T12:57:50.647571Z",
     "shell.execute_reply.started": "2025-09-06T12:42:34.149864Z"
    },
    "trusted": true
   },
   "outputs": [
    {
     "name": "stdout",
     "output_type": "stream",
     "text": [
      "Epoch: 1.\n",
      "Train loss = 3.9117, Validation loss = 3.7728\n",
      "Train perplexity =  49.9825, Validation perplexity =  43.5030\n",
      "****************************************************************************************************\n",
      "Epoch: 2.\n",
      "Train loss = 3.5157, Validation loss = 3.7589\n",
      "Train perplexity =  33.6389, Validation perplexity =  42.9014\n",
      "****************************************************************************************************\n",
      "Epoch: 3.\n",
      "Train loss = 3.4744, Validation loss = 3.7729\n",
      "Train perplexity =  32.2792, Validation perplexity =  43.5063\n",
      "****************************************************************************************************\n",
      "Epoch: 4.\n",
      "Train loss = 3.4280, Validation loss = 3.7531\n",
      "Train perplexity =  30.8156, Validation perplexity =  42.6522\n",
      "****************************************************************************************************\n",
      "Epoch: 5.\n",
      "Train loss = 3.3626, Validation loss = 3.7561\n",
      "Train perplexity =  28.8635, Validation perplexity =  42.7809\n",
      "****************************************************************************************************\n",
      "Epoch: 6.\n",
      "Train loss = 3.3356, Validation loss = 3.7553\n",
      "Train perplexity =  28.0955, Validation perplexity =  42.7487\n",
      "****************************************************************************************************\n",
      "Epoch: 7.\n",
      "Train loss = 3.3133, Validation loss = 3.7582\n",
      "Train perplexity =  27.4766, Validation perplexity =  42.8703\n",
      "****************************************************************************************************\n",
      "Epoch: 8.\n",
      "Train loss = 3.2983, Validation loss = 3.7636\n",
      "Train perplexity =  27.0677, Validation perplexity =  43.1031\n",
      "****************************************************************************************************\n",
      "Epoch: 9.\n",
      "Train loss = 3.2856, Validation loss = 3.7590\n",
      "Train perplexity =  26.7259, Validation perplexity =  42.9047\n",
      "****************************************************************************************************\n",
      "Epoch: 10.\n",
      "Train loss = 3.2753, Validation loss = 3.7586\n",
      "Train perplexity =  26.4504, Validation perplexity =  42.8892\n",
      "****************************************************************************************************\n",
      "Training took  916.49 seconds\n"
     ]
    }
   ],
   "source": [
    "best_val_loss = float('inf')\n",
    "train_losses = []\n",
    "val_losses = []\n",
    "NUM_EPOCHS = 10\n",
    "\n",
    "start_time = time.time()\n",
    "\n",
    "for epoch in range(NUM_EPOCHS):\n",
    "    train_loss = train(model_2, criterion, optimizer, train_dataloader_word, device, vocab_size)\n",
    "    val_loss = evaluate(model_2, criterion, val_dataloader_word, device, vocab_size)\n",
    "\n",
    "    # save model with best validation loss each time\n",
    "    if val_loss < best_val_loss:\n",
    "        best_val_loss = val_loss\n",
    "        torch.save(model_2.state_dict(), \"rnn_best_2.pt\")\n",
    "\n",
    "    train_losses.append(train_loss)\n",
    "    val_losses.append(val_loss)\n",
    "\n",
    "    print(f\"Epoch: {epoch + 1}.\")\n",
    "    print(f\"Train loss = {train_loss:.4f}, Validation loss = {val_loss:.4f}\")\n",
    "    print(f\"Train perplexity = {math.exp(train_loss): .4f}, Validation perplexity = {math.exp(val_loss): .4f}\")\n",
    "    print(\"*\" * 100)\n",
    "\n",
    "end_time = time.time()\n",
    "\n",
    "print(f\"Training took {end_time - start_time: .2f} seconds\")"
   ]
  },
  {
   "cell_type": "markdown",
   "metadata": {},
   "source": [
    "### Plot training and validation loss curves"
   ]
  },
  {
   "cell_type": "code",
   "execution_count": 32,
   "metadata": {
    "execution": {
     "iopub.execute_input": "2025-09-06T12:57:50.650034Z",
     "iopub.status.busy": "2025-09-06T12:57:50.649596Z",
     "iopub.status.idle": "2025-09-06T12:57:50.826737Z",
     "shell.execute_reply": "2025-09-06T12:57:50.826004Z",
     "shell.execute_reply.started": "2025-09-06T12:57:50.650015Z"
    },
    "trusted": true
   },
   "outputs": [
    {
     "data": {
      "image/png": "[encoded data removed]",
      "text/plain": [
       "<Figure size 1500x1000 with 1 Axes>"
      ]
     },
     "metadata": {},
     "output_type": "display_data"
    }
   ],
   "source": [
    "plt.figure(figsize=(15, 10))\n",
    "plt.plot(train_losses, label='train_loss')\n",
    "plt.plot(val_losses,label='val_loss')\n",
    "plt.legend()\n",
    "plt.show()"
   ]
  },
  {
   "cell_type": "markdown",
   "metadata": {},
   "source": [
    "### Evaluate against test set"
   ]
  },
  {
   "cell_type": "code",
   "execution_count": 33,
   "metadata": {
    "execution": {
     "iopub.execute_input": "2025-09-06T12:57:50.827748Z",
     "iopub.status.busy": "2025-09-06T12:57:50.827487Z",
     "iopub.status.idle": "2025-09-06T12:57:50.840197Z",
     "shell.execute_reply": "2025-09-06T12:57:50.839414Z",
     "shell.execute_reply.started": "2025-09-06T12:57:50.827725Z"
    },
    "trusted": true
   },
   "outputs": [
    {
     "data": {
      "text/plain": [
       "<All keys matched successfully>"
      ]
     },
     "execution_count": 33,
     "metadata": {},
     "output_type": "execute_result"
    }
   ],
   "source": [
    "model_2.load_state_dict(\n",
    "    torch.load('/kaggle/working/rnn_best_2.pt', map_location='cuda')\n",
    ")"
   ]
  },
  {
   "cell_type": "code",
   "execution_count": 34,
   "metadata": {
    "execution": {
     "iopub.execute_input": "2025-09-06T12:57:50.842450Z",
     "iopub.status.busy": "2025-09-06T12:57:50.841904Z",
     "iopub.status.idle": "2025-09-06T12:57:56.834113Z",
     "shell.execute_reply": "2025-09-06T12:57:56.833425Z",
     "shell.execute_reply.started": "2025-09-06T12:57:50.842433Z"
    },
    "trusted": true
   },
   "outputs": [
    {
     "name": "stdout",
     "output_type": "stream",
     "text": [
      "Test loss = 3.8184\n",
      "Test perplexity =  45.5311\n"
     ]
    }
   ],
   "source": [
    "test_loss = evaluate(model_2, criterion, test_dataloader_word, device, vocab_size)\n",
    "print(f\"Test loss = {test_loss:.4f}\")\n",
    "print(f\"Test perplexity = {math.exp(test_loss): .4f}\")"
   ]
  },
  {
   "cell_type": "markdown",
   "metadata": {},
   "source": [
    "### Sample text generation"
   ]
  },
  {
   "cell_type": "code",
   "execution_count": 35,
   "metadata": {
    "execution": {
     "iopub.execute_input": "2025-09-06T12:57:56.835307Z",
     "iopub.status.busy": "2025-09-06T12:57:56.835040Z",
     "iopub.status.idle": "2025-09-06T12:57:56.957171Z",
     "shell.execute_reply": "2025-09-06T12:57:56.956454Z",
     "shell.execute_reply.started": "2025-09-06T12:57:56.835283Z"
    },
    "trusted": true
   },
   "outputs": [
    {
     "data": {
      "text/plain": [
       "\"in 1987 said its board declared a increased number of oil and gas properties . of the - is expected to give a profit - lived . said the fiscal year ' s net earnings , it said in the statement that the of , as saying that he had moved to , . . , a , said the ' s tea exports , which would be in the next two years , the said . is currently being known as & lt ; >, has asked a merger closed , ., , . > said it expects earlier reporting first quarter earnings for 1987 earnings , 572 , 000 dlrs , or 17 cts per share and less than 2 . 3 mln dlrs . company said it expects to report a loss of about 1 . 6 mln dlrs in 1985 . - loss 57 , 000 vs\""
      ]
     },
     "execution_count": 35,
     "metadata": {},
     "output_type": "execute_result"
    }
   ],
   "source": [
    "start = \"in 1987\"\n",
    "text = generate_text(model_2, word_tokenizer, start, max_new_tokens=200, temperature=0.7, device=\"cuda\")\n",
    "text"
   ]
  },
  {
   "cell_type": "code",
   "execution_count": 36,
   "metadata": {
    "execution": {
     "iopub.execute_input": "2025-09-06T12:57:56.958184Z",
     "iopub.status.busy": "2025-09-06T12:57:56.957931Z",
     "iopub.status.idle": "2025-09-06T12:57:57.075592Z",
     "shell.execute_reply": "2025-09-06T12:57:57.074964Z",
     "shell.execute_reply.started": "2025-09-06T12:57:56.958160Z"
    },
    "trusted": true
   },
   "outputs": [
    {
     "data": {
      "text/plain": [
       "'in 1987 qtr and nine mths includes earnings for 1986 / 87 had also been reversed over earlier cash , a plus family , will be exercisable strong next year and expects steadily than a plan to begin a cash repurchase tender proposal for an annual assistance of imported oil and electronic goods , navy non - share supply would yield an 800 of the , open market standard of . \" feel a reasonable came the most we , including these developments , are continuing further surprise than ,\" said . \\' s meeting seemed the ship countries be fired . agreed the the , with business with abroad and prices remains stable in as in 1988 .\" its proposal to sell agricultural vote of spinning off assets . spokesman said it will merge the transaction this year to deliver directly but about one billion marks or shift to any weak wheat and feedgrains and thus take up into market value ,\" said countries to be linked when the , \\' s behalf of to , , financial'"
      ]
     },
     "execution_count": 36,
     "metadata": {},
     "output_type": "execute_result"
    }
   ],
   "source": [
    "start = \"in 1987\"\n",
    "text = generate_text(model_2, word_tokenizer, start, max_new_tokens=200, temperature=1.0, device=\"cuda\")\n",
    "text"
   ]
  },
  {
   "cell_type": "code",
   "execution_count": 37,
   "metadata": {
    "execution": {
     "iopub.execute_input": "2025-09-06T12:57:57.076510Z",
     "iopub.status.busy": "2025-09-06T12:57:57.076283Z",
     "iopub.status.idle": "2025-09-06T12:57:57.194280Z",
     "shell.execute_reply": "2025-09-06T12:57:57.193795Z",
     "shell.execute_reply.started": "2025-09-06T12:57:57.076489Z"
    },
    "trusted": true
   },
   "outputs": [
    {
     "data": {
      "text/plain": [
       "'in 1987 operating losses that parent company turnover was changed from sale and reorganization sales cash vs on raw material supplies and the possible expiration date of talks are tendered if the proposed hour package made non - president stores as part of a tender offer kept make a six pct tactics association will involve eliminating border bar insurance businesses . of the agreement all among managers two workers last 1991 , has banks soon , manager of interest interest payments his tender at the end of price with a small producer presence in a change ,\" he added . lead automatic exploratory go on into 22 settled their productive sectors is believed unfair to push be done ,\" there will be implemented further round . market ( and green foreign institutional tax policies such for the sector were some country in other things . soybean market sugar harvest in rice the pro point reached by the dinar level showed such participation . bill extends an implicit upward flexible imbalances earlier , \" we live to the offer is intervening to several country normal . covered ranged steady if it would effects on remarks'"
      ]
     },
     "execution_count": 37,
     "metadata": {},
     "output_type": "execute_result"
    }
   ],
   "source": [
    "start = \"in 1987\"\n",
    "text = generate_text(model_2, word_tokenizer, start, max_new_tokens=200, temperature=1.3, device=\"cuda\")\n",
    "text"
   ]
  },
  {
   "cell_type": "code",
   "execution_count": 38,
   "metadata": {
    "execution": {
     "iopub.execute_input": "2025-09-06T12:57:57.195515Z",
     "iopub.status.busy": "2025-09-06T12:57:57.195067Z",
     "iopub.status.idle": "2025-09-06T12:57:57.313048Z",
     "shell.execute_reply": "2025-09-06T12:57:57.312463Z",
     "shell.execute_reply.started": "2025-09-06T12:57:57.195491Z"
    },
    "trusted": true
   },
   "outputs": [
    {
     "data": {
      "text/plain": [
       "'united states & lt ; > said it expects to be about a new . . , the ( ) said . said it expects to report \\' s earnings and lease benefits of loan substitutes . \\' s demands for money supply slowed due to the government \\' s 36 , 000 in , putting a land forecast for the deal , . said has proposed a special dividend payment were being raised to hrs , , , said . \" have only a reasonable position on the issue of restoring crudes and dampen \\' s unwillingness to . of , , a . , in which , \\' s of . said the agreement would be in , , ., . is a'"
      ]
     },
     "execution_count": 38,
     "metadata": {},
     "output_type": "execute_result"
    }
   ],
   "source": [
    "start = \"united states\"\n",
    "text = generate_text(model_2, word_tokenizer, start, max_new_tokens=200, temperature=0.7, device=\"cuda\")\n",
    "text"
   ]
  },
  {
   "cell_type": "code",
   "execution_count": 39,
   "metadata": {
    "execution": {
     "iopub.execute_input": "2025-09-06T12:57:57.313933Z",
     "iopub.status.busy": "2025-09-06T12:57:57.313735Z",
     "iopub.status.idle": "2025-09-06T12:57:57.430309Z",
     "shell.execute_reply": "2025-09-06T12:57:57.429623Z",
     "shell.execute_reply.started": "2025-09-06T12:57:57.313918Z"
    },
    "trusted": true
   },
   "outputs": [
    {
     "data": {
      "text/plain": [
       "'united states and brokerage operations for a three - created group . . are scheduled to materially affect its 1986 / 87 1986 / 87 1985 1986 / 87 base rate rose to 13 to 86 billion and 1 , 655 and 114 , 000 ( 132 , 701 ), 1 , 826 vs 16 , 656 19 , 701 , 443 vs 1 , 045 , 493 267 . 06 mln vs 87 . 4 mln 28 . 8 mln vs 112 . 6 mln shr 51 cts vs 34 cts 14 , 614 , 000 vs 1 , 256 , 000 44 . 4 mln vs 117 mln , net 34 . 2 mln vs 28 . 2 mln shrs 3 , 438 , vs 1 , 193 , 695 tons earlier last year , was 1 . 13 guilders , after 36 . 27 pct in the week / months . de , the of chairman and and the & lt ; > and common .'"
      ]
     },
     "execution_count": 39,
     "metadata": {},
     "output_type": "execute_result"
    }
   ],
   "source": [
    "start = \"united states\"\n",
    "text = generate_text(model_2, word_tokenizer, start, max_new_tokens=200, temperature=1.0, device=\"cuda\")\n",
    "text"
   ]
  },
  {
   "cell_type": "code",
   "execution_count": 40,
   "metadata": {
    "execution": {
     "iopub.execute_input": "2025-09-06T12:57:57.433009Z",
     "iopub.status.busy": "2025-09-06T12:57:57.432811Z",
     "iopub.status.idle": "2025-09-06T12:57:57.554004Z",
     "shell.execute_reply": "2025-09-06T12:57:57.553336Z",
     "shell.execute_reply.started": "2025-09-06T12:57:57.432994Z"
    },
    "trusted": true
   },
   "outputs": [
    {
     "data": {
      "text/plain": [
       "'united states various people , at before low spot and beef county in \\' s a brought but 1p in 1981 from the and 15 . 20 9 + 1 . 0 510 standing 220 . 4 166 . 0 5 . 140 . 5 18 . 48 14 . 39 - unit power , netback values its costs of stock holders of 11 , 000 dlrs extraordinary gain . \" pension field , cut usage in net profits rose 22 . 35 ringgit in drilling from 6 - 5 / 1 , 489 , 972 vs hold 5 by 964 determined from 12 . 1 billion vs 17 . 05 billion and 3 . 88 pct from its consolidated 64 cts per thousand mln dlrs but flows showed net income the company \\' s stake in other and institutions of long - term information at about equal rises stable ,\" the wet of and , where last damage were unfairly higher than no seriously balance total margins if importing 598 - light sweet coffee ran acreage as long as they profit and increases demand have its highest'"
      ]
     },
     "execution_count": 40,
     "metadata": {},
     "output_type": "execute_result"
    }
   ],
   "source": [
    "start = \"united states\"\n",
    "text = generate_text(model_2, word_tokenizer, start, max_new_tokens=200, temperature=1.3, device=\"cuda\")\n",
    "text"
   ]
  },
  {
   "cell_type": "markdown",
   "metadata": {},
   "source": [
    "## Model 3\n",
    "\n",
    "embed_size = 128\n",
    "hidden_size = 128\n",
    "num_layers = 2\n",
    "dropout_p = 0.1\n",
    "\n",
    "Using subword tokenization (BPE)\n",
    "\n",
    "sequence length = 30"
   ]
  },
  {
   "cell_type": "code",
   "execution_count": 41,
   "metadata": {
    "execution": {
     "iopub.execute_input": "2025-09-06T12:57:57.554904Z",
     "iopub.status.busy": "2025-09-06T12:57:57.554662Z",
     "iopub.status.idle": "2025-09-06T12:57:57.588871Z",
     "shell.execute_reply": "2025-09-06T12:57:57.588311Z",
     "shell.execute_reply.started": "2025-09-06T12:57:57.554884Z"
    },
    "trusted": true
   },
   "outputs": [
    {
     "data": {
      "text/plain": [
       "RNNLanguageModel(\n",
       "  (embedding): Embedding(10000, 128)\n",
       "  (rnn): RNN(128, 128, num_layers=2, batch_first=True, dropout=0.1)\n",
       "  (fc): Linear(in_features=128, out_features=10000, bias=True)\n",
       ")"
      ]
     },
     "execution_count": 41,
     "metadata": {},
     "output_type": "execute_result"
    }
   ],
   "source": [
    "torch.manual_seed(42)\n",
    "model_3 = RNNLanguageModel(\n",
    "    vocab_size=bpe_tokenizer.get_vocab_size(),\n",
    "    embed_size=128,\n",
    "    hidden_size=128,\n",
    "    num_layers=2,\n",
    "    dropout_p=0.1\n",
    ")\n",
    "criterion = nn.CrossEntropyLoss()\n",
    "optimizer = torch.optim.AdamW(model_3.parameters(), lr=0.01)\n",
    "vocab_size = bpe_tokenizer.get_vocab_size()\n",
    "device = torch.device(\"cuda\" if torch.cuda.is_available() else \"cpu\")\n",
    "model_3.to(device)"
   ]
  },
  {
   "cell_type": "code",
   "execution_count": 42,
   "metadata": {
    "execution": {
     "iopub.execute_input": "2025-09-06T12:57:57.589601Z",
     "iopub.status.busy": "2025-09-06T12:57:57.589373Z",
     "iopub.status.idle": "2025-09-06T13:21:31.067637Z",
     "shell.execute_reply": "2025-09-06T13:21:31.067032Z",
     "shell.execute_reply.started": "2025-09-06T12:57:57.589585Z"
    },
    "trusted": true
   },
   "outputs": [
    {
     "name": "stdout",
     "output_type": "stream",
     "text": [
      "Epoch: 1.\n",
      "Train loss = 3.3788, Validation loss = 3.3783\n",
      "Train perplexity =  29.3342, Validation perplexity =  29.3203\n",
      "****************************************************************************************************\n",
      "Epoch: 2.\n",
      "Train loss = 2.9789, Validation loss = 3.3845\n",
      "Train perplexity =  19.6659, Validation perplexity =  29.5041\n",
      "****************************************************************************************************\n",
      "Epoch: 3.\n",
      "Train loss = 2.9080, Validation loss = 3.3755\n",
      "Train perplexity =  18.3200, Validation perplexity =  29.2402\n",
      "****************************************************************************************************\n",
      "Epoch: 4.\n",
      "Train loss = 2.8722, Validation loss = 3.3833\n",
      "Train perplexity =  17.6762, Validation perplexity =  29.4667\n",
      "****************************************************************************************************\n",
      "Epoch: 5.\n",
      "Train loss = 2.8505, Validation loss = 3.3833\n",
      "Train perplexity =  17.2958, Validation perplexity =  29.4681\n",
      "****************************************************************************************************\n",
      "Epoch: 6.\n",
      "Train loss = 2.8341, Validation loss = 3.3885\n",
      "Train perplexity =  17.0150, Validation perplexity =  29.6210\n",
      "****************************************************************************************************\n",
      "Epoch: 7.\n",
      "Train loss = 2.8209, Validation loss = 3.3851\n",
      "Train perplexity =  16.7916, Validation perplexity =  29.5207\n",
      "****************************************************************************************************\n",
      "Epoch: 8.\n",
      "Train loss = 2.8104, Validation loss = 3.3874\n",
      "Train perplexity =  16.6161, Validation perplexity =  29.5889\n",
      "****************************************************************************************************\n",
      "Epoch: 9.\n",
      "Train loss = 2.8018, Validation loss = 3.3862\n",
      "Train perplexity =  16.4749, Validation perplexity =  29.5541\n",
      "****************************************************************************************************\n",
      "Epoch: 10.\n",
      "Train loss = 2.7931, Validation loss = 3.3842\n",
      "Train perplexity =  16.3309, Validation perplexity =  29.4939\n",
      "****************************************************************************************************\n",
      "Training took  1413.47 seconds\n"
     ]
    }
   ],
   "source": [
    "best_val_loss = float('inf')\n",
    "train_losses = []\n",
    "val_losses = []\n",
    "NUM_EPOCHS = 10\n",
    "\n",
    "start_time = time.time()\n",
    "\n",
    "for epoch in range(NUM_EPOCHS):\n",
    "    train_loss = train(model_3, criterion, optimizer, train_dataloader_bpe, device, vocab_size)\n",
    "    val_loss = evaluate(model_3, criterion, val_dataloader_bpe, device, vocab_size)\n",
    "\n",
    "    # save model with best validation loss each time\n",
    "    if val_loss < best_val_loss:\n",
    "        best_val_loss = val_loss\n",
    "        torch.save(model_3.state_dict(), \"rnn_best_3.pt\")\n",
    "\n",
    "    train_losses.append(train_loss)\n",
    "    val_losses.append(val_loss)\n",
    "\n",
    "    print(f\"Epoch: {epoch + 1}.\")\n",
    "    print(f\"Train loss = {train_loss:.4f}, Validation loss = {val_loss:.4f}\")\n",
    "    print(f\"Train perplexity = {math.exp(train_loss): .4f}, Validation perplexity = {math.exp(val_loss): .4f}\")\n",
    "    print(\"*\" * 100)\n",
    "\n",
    "end_time = time.time()\n",
    "\n",
    "print(f\"Training took {end_time - start_time: .2f} seconds\")"
   ]
  },
  {
   "cell_type": "markdown",
   "metadata": {},
   "source": [
    "### Plot training and validation loss curves"
   ]
  },
  {
   "cell_type": "code",
   "execution_count": 43,
   "metadata": {
    "execution": {
     "iopub.execute_input": "2025-09-06T13:21:31.068614Z",
     "iopub.status.busy": "2025-09-06T13:21:31.068368Z",
     "iopub.status.idle": "2025-09-06T13:21:31.241390Z",
     "shell.execute_reply": "2025-09-06T13:21:31.240682Z",
     "shell.execute_reply.started": "2025-09-06T13:21:31.068585Z"
    },
    "trusted": true
   },
   "outputs": [
    {
     "data": {
      "image/png": "[encoded data removed]",
      "text/plain": [
       "<Figure size 1500x1000 with 1 Axes>"
      ]
     },
     "metadata": {},
     "output_type": "display_data"
    }
   ],
   "source": [
    "plt.figure(figsize=(15, 10))\n",
    "plt.plot(train_losses, label='train_loss')\n",
    "plt.plot(val_losses,label='val_loss')\n",
    "plt.legend()\n",
    "plt.show()"
   ]
  },
  {
   "cell_type": "markdown",
   "metadata": {},
   "source": [
    "### Evaluating on test set"
   ]
  },
  {
   "cell_type": "code",
   "execution_count": 44,
   "metadata": {
    "execution": {
     "iopub.execute_input": "2025-09-06T13:21:31.242357Z",
     "iopub.status.busy": "2025-09-06T13:21:31.242181Z",
     "iopub.status.idle": "2025-09-06T13:21:31.254626Z",
     "shell.execute_reply": "2025-09-06T13:21:31.253930Z",
     "shell.execute_reply.started": "2025-09-06T13:21:31.242344Z"
    },
    "trusted": true
   },
   "outputs": [
    {
     "data": {
      "text/plain": [
       "<All keys matched successfully>"
      ]
     },
     "execution_count": 44,
     "metadata": {},
     "output_type": "execute_result"
    }
   ],
   "source": [
    "model_3.load_state_dict(\n",
    "    torch.load('/kaggle/working/rnn_best_3.pt', map_location='cuda')\n",
    ")"
   ]
  },
  {
   "cell_type": "code",
   "execution_count": 45,
   "metadata": {
    "execution": {
     "iopub.execute_input": "2025-09-06T13:21:31.255426Z",
     "iopub.status.busy": "2025-09-06T13:21:31.255267Z",
     "iopub.status.idle": "2025-09-06T13:21:40.026500Z",
     "shell.execute_reply": "2025-09-06T13:21:40.025912Z",
     "shell.execute_reply.started": "2025-09-06T13:21:31.255414Z"
    },
    "trusted": true
   },
   "outputs": [
    {
     "name": "stdout",
     "output_type": "stream",
     "text": [
      "Test loss = 3.4353\n",
      "Test perplexity =  31.0400\n"
     ]
    }
   ],
   "source": [
    "test_loss = evaluate(model_3, criterion, test_dataloader_bpe, device, vocab_size)\n",
    "print(f\"Test loss = {test_loss:.4f}\")\n",
    "print(f\"Test perplexity = {math.exp(test_loss): .4f}\")"
   ]
  },
  {
   "cell_type": "markdown",
   "metadata": {},
   "source": [
    "### Sample text generation"
   ]
  },
  {
   "cell_type": "code",
   "execution_count": 46,
   "metadata": {
    "execution": {
     "iopub.execute_input": "2025-09-06T13:21:40.027423Z",
     "iopub.status.busy": "2025-09-06T13:21:40.027231Z",
     "iopub.status.idle": "2025-09-06T13:21:40.143958Z",
     "shell.execute_reply": "2025-09-06T13:21:40.143275Z",
     "shell.execute_reply.started": "2025-09-06T13:21:40.027407Z"
    },
    "trusted": true
   },
   "outputs": [
    {
     "data": {
      "text/plain": [
       "'in 1987 / 88 . he e agan administration said . hey said the two state oil trade deficit in the current year low . h ary sector , said that it was not aware of the acquisition , but it has an ele ment that carries & lt ; > & lt ; > 1'"
      ]
     },
     "execution_count": 46,
     "metadata": {},
     "output_type": "execute_result"
    }
   ],
   "source": [
    "start = \"in 1987\"\n",
    "text = generate_text(model_3, bpe_tokenizer, start, max_new_tokens=200, temperature=0.7, device=\"cuda\")\n",
    "text"
   ]
  },
  {
   "cell_type": "code",
   "execution_count": 47,
   "metadata": {
    "execution": {
     "iopub.execute_input": "2025-09-06T13:21:40.144802Z",
     "iopub.status.busy": "2025-09-06T13:21:40.144591Z",
     "iopub.status.idle": "2025-09-06T13:21:40.260583Z",
     "shell.execute_reply": "2025-09-06T13:21:40.259912Z",
     "shell.execute_reply.started": "2025-09-06T13:21:40.144786Z"
    },
    "trusted": true
   },
   "outputs": [
    {
     "data": {
      "text/plain": [
       "'in 1987 / 88 totaled 844 at 149 , 750 mln dlrs to 3 . 09 mln gallons of rising to 209 . 7 mln dlrs , or 1 . 58 cts per share for nothing to work for one percentage point above by ian countries stocks create a quarter of today . e said the undes - communique seem among the tur mo to us a report over ing apo re cents in order because of any recovery itut ion that sharp falls because of the dollar \\' s fall this year . he belief that the tal ian dollar will be offered for the year to end 1987 and maize flow would be all substantially from 45 percent of grain and 3 . 75 percentage point meant that the board , follow other major nations will continue to be involved in fiscal 1990 and revenues of about three mln dlrs of debt appl rad ically as the beverage companies are an inflationary impact of financing , especially growing number of sub mission , ai wan on the lack of the ul f seem \" br'"
      ]
     },
     "execution_count": 47,
     "metadata": {},
     "output_type": "execute_result"
    }
   ],
   "source": [
    "start = \"in 1987\"\n",
    "text = generate_text(model_3, bpe_tokenizer, start, max_new_tokens=200, temperature=1.0, device=\"cuda\")\n",
    "text"
   ]
  },
  {
   "cell_type": "code",
   "execution_count": 48,
   "metadata": {
    "execution": {
     "iopub.execute_input": "2025-09-06T13:21:40.261431Z",
     "iopub.status.busy": "2025-09-06T13:21:40.261259Z",
     "iopub.status.idle": "2025-09-06T13:21:40.380126Z",
     "shell.execute_reply": "2025-09-06T13:21:40.379569Z",
     "shell.execute_reply.started": "2025-09-06T13:21:40.261417Z"
    },
    "trusted": true
   },
   "outputs": [
    {
     "data": {
      "text/plain": [
       "\"in 1987 / 88 and 936 , 959 head of coconut oils on apparel field , told reporters late the 85 , 000 jobs offered official government produced at around 90 mln 337 in allowance contracts 689 , reported for loan , said one decision none would eventually cut longer ire able loss from the 422 mln dlrs against 4 . 4 pct in shareholder share . 23 and 13 - 3 decline a 2 . 2 billion dlrs ( pct . r were cut first estimate was ur than - a 31 th calendar 1987 financial year . pain compares with bigger supplies 90 . 73 ounces , compared with vice 53 will in y f h ich 30 which offered to 400 p the engineering sale . o du laire he ni vers ity professor lin in unit will fund to do an costs that 300 mln dlr bid for the tender system , seasonally adjusted from 0 . 2 pct to more steadily for funds at 117 . 6 mln dlrs from 176 ' 87 36 billion dlrs to series , 0 and 23 pct in silver bank calculated at 56 included in futures\""
      ]
     },
     "execution_count": 48,
     "metadata": {},
     "output_type": "execute_result"
    }
   ],
   "source": [
    "start = \"in 1987\"\n",
    "text = generate_text(model_3, bpe_tokenizer, start, max_new_tokens=200, temperature=1.3, device=\"cuda\")\n",
    "text"
   ]
  },
  {
   "cell_type": "code",
   "execution_count": 49,
   "metadata": {
    "execution": {
     "iopub.execute_input": "2025-09-06T13:21:40.380941Z",
     "iopub.status.busy": "2025-09-06T13:21:40.380732Z",
     "iopub.status.idle": "2025-09-06T13:21:40.498203Z",
     "shell.execute_reply": "2025-09-06T13:21:40.497698Z",
     "shell.execute_reply.started": "2025-09-06T13:21:40.380918Z"
    },
    "trusted": true
   },
   "outputs": [
    {
     "data": {
      "text/plain": [
       "'united states .'"
      ]
     },
     "execution_count": 49,
     "metadata": {},
     "output_type": "execute_result"
    }
   ],
   "source": [
    "start = \"united states\"\n",
    "text = generate_text(model_3, bpe_tokenizer, start, max_new_tokens=200, temperature=0.7, device=\"cuda\")\n",
    "text"
   ]
  },
  {
   "cell_type": "code",
   "execution_count": 50,
   "metadata": {
    "execution": {
     "iopub.execute_input": "2025-09-06T13:21:40.499095Z",
     "iopub.status.busy": "2025-09-06T13:21:40.498852Z",
     "iopub.status.idle": "2025-09-06T13:21:40.616822Z",
     "shell.execute_reply": "2025-09-06T13:21:40.616307Z",
     "shell.execute_reply.started": "2025-09-06T13:21:40.499074Z"
    },
    "trusted": true
   },
   "outputs": [
    {
     "data": {
      "text/plain": [
       "'united states . h ird economists said . nd er the agreement was quoted on the won but the h ry sler approval for a recent company \\' s oil rate increase in prices on calendar 1986 estimated the on day \\' s current interest rate of . . bank to reco its growth of yen , but the reason and the offer was part of hil lin th o >, o hn son ac donald predicted it ibank said its board of directors , raising the inc lusion of tand ard . he block would prompt any \" more understand oil and products .\" reas ury ive also also used back er many for authority from the adoption of a new guarantee line . con om ists said a cut must be an j ury sources said such cuts and are believed to grow moisture , it are increasing the yen to soar . e al ers said the direct injection of the harvest . r it ish investments , excluding minister \\' s new manager on stru mers or'"
      ]
     },
     "execution_count": 50,
     "metadata": {},
     "output_type": "execute_result"
    }
   ],
   "source": [
    "start = \"united states\"\n",
    "text = generate_text(model_3, bpe_tokenizer, start, max_new_tokens=200, temperature=1.0, device=\"cuda\")\n",
    "text"
   ]
  },
  {
   "cell_type": "code",
   "execution_count": 51,
   "metadata": {
    "execution": {
     "iopub.execute_input": "2025-09-06T13:21:40.617632Z",
     "iopub.status.busy": "2025-09-06T13:21:40.617403Z",
     "iopub.status.idle": "2025-09-06T13:21:40.734803Z",
     "shell.execute_reply": "2025-09-06T13:21:40.734149Z",
     "shell.execute_reply.started": "2025-09-06T13:21:40.617617Z"
    },
    "trusted": true
   },
   "outputs": [
    {
     "data": {
      "text/plain": [
       "'united states . soybean industry demands for a trade war fall . statement , ner gy added that mill faces the fixed class warrants increase plans for affiliate ct ax cut cash into modest 181 , 000 crowns , partly until arch cash for the months . ip lo mat ic sources said if bank separate statements requiring customer cl ival or high control terms resulting because un pleas major stockholder fe because of adjustments plan already pushing because there is signs this year this year . ther money rates will show imports -- rates were securities now b for local consumption . anc ial > recently set a petition letter could pursue ministers offer to increase by 30 - day consortium will re examine early 69 , 400 dlrs a month . he allocation expenses , there is a contract negotiated debt cash stabilisation notes . h arter regions and would only completely their kind chances as much threat dlrs the interest caused by imports after depressed -- but comp it no anim al this and trade war of the dispute , the ws of silver offer in c to'"
      ]
     },
     "execution_count": 51,
     "metadata": {},
     "output_type": "execute_result"
    }
   ],
   "source": [
    "start = \"united states\"\n",
    "text = generate_text(model_3, bpe_tokenizer, start, max_new_tokens=200, temperature=1.3, device=\"cuda\")\n",
    "text"
   ]
  },
  {
   "cell_type": "markdown",
   "metadata": {},
   "source": [
    "## Model 4\n",
    "\n",
    "embed_size=128,\n",
    "hidden_size=128,\n",
    "num_layers=2,\n",
    "dropout_p=0.1\n",
    "\n",
    "using word tokenizer\n",
    "\n",
    "sequence length = 15"
   ]
  },
  {
   "cell_type": "code",
   "execution_count": 52,
   "metadata": {
    "execution": {
     "iopub.execute_input": "2025-09-06T13:21:40.735999Z",
     "iopub.status.busy": "2025-09-06T13:21:40.735396Z",
     "iopub.status.idle": "2025-09-06T13:21:42.207912Z",
     "shell.execute_reply": "2025-09-06T13:21:42.207340Z",
     "shell.execute_reply.started": "2025-09-06T13:21:40.735974Z"
    },
    "trusted": true
   },
   "outputs": [],
   "source": [
    "# use a shorter sequence length\n",
    "train_dataset_word = ReutersDataset(train_processed_word, 15)\n",
    "val_dataset_word = ReutersDataset(val_processed_word, 15)\n",
    "test_dataset_word = ReutersDataset(test_processed_word, 15)\n",
    "\n",
    "train_dataloader_word = DataLoader(train_dataset_word, batch_size=1024, shuffle=True)\n",
    "val_dataloader_word = DataLoader(val_dataset_word, batch_size=1024, shuffle=True)\n",
    "test_dataloader_word = DataLoader(test_dataset_word, batch_size=1024, shuffle=True)"
   ]
  },
  {
   "cell_type": "code",
   "execution_count": 53,
   "metadata": {
    "execution": {
     "iopub.execute_input": "2025-09-06T13:21:42.208857Z",
     "iopub.status.busy": "2025-09-06T13:21:42.208619Z",
     "iopub.status.idle": "2025-09-06T13:21:42.247617Z",
     "shell.execute_reply": "2025-09-06T13:21:42.247102Z",
     "shell.execute_reply.started": "2025-09-06T13:21:42.208839Z"
    },
    "trusted": true
   },
   "outputs": [
    {
     "data": {
      "text/plain": [
       "RNNLanguageModel(\n",
       "  (embedding): Embedding(10000, 128)\n",
       "  (rnn): RNN(128, 128, num_layers=2, batch_first=True, dropout=0.1)\n",
       "  (fc): Linear(in_features=128, out_features=10000, bias=True)\n",
       ")"
      ]
     },
     "execution_count": 53,
     "metadata": {},
     "output_type": "execute_result"
    }
   ],
   "source": [
    "torch.manual_seed(42)\n",
    "model_4 = RNNLanguageModel(\n",
    "    vocab_size=word_tokenizer.get_vocab_size(),\n",
    "    embed_size=128,\n",
    "    hidden_size=128,\n",
    "    num_layers=2,\n",
    "    dropout_p=0.1\n",
    ")\n",
    "criterion = nn.CrossEntropyLoss()\n",
    "optimizer = torch.optim.AdamW(model_4.parameters(), lr=0.01)\n",
    "vocab_size = word_tokenizer.get_vocab_size()\n",
    "device = torch.device(\"cuda\" if torch.cuda.is_available() else \"cpu\")\n",
    "model_4.to(device)"
   ]
  },
  {
   "cell_type": "code",
   "execution_count": 54,
   "metadata": {
    "execution": {
     "iopub.execute_input": "2025-09-06T13:21:42.248498Z",
     "iopub.status.busy": "2025-09-06T13:21:42.248271Z",
     "iopub.status.idle": "2025-09-06T13:31:52.798446Z",
     "shell.execute_reply": "2025-09-06T13:31:52.797684Z",
     "shell.execute_reply.started": "2025-09-06T13:21:42.248476Z"
    },
    "trusted": true
   },
   "outputs": [
    {
     "name": "stdout",
     "output_type": "stream",
     "text": [
      "Epoch: 1.\n",
      "Train loss = 3.7956, Validation loss = 3.7879\n",
      "Train perplexity =  44.5044, Validation perplexity =  44.1632\n",
      "****************************************************************************************************\n",
      "Epoch: 2.\n",
      "Train loss = 3.4254, Validation loss = 3.7670\n",
      "Train perplexity =  30.7348, Validation perplexity =  43.2507\n",
      "****************************************************************************************************\n",
      "Epoch: 3.\n",
      "Train loss = 3.3507, Validation loss = 3.7744\n",
      "Train perplexity =  28.5241, Validation perplexity =  43.5716\n",
      "****************************************************************************************************\n",
      "Epoch: 4.\n",
      "Train loss = 3.3121, Validation loss = 3.7753\n",
      "Train perplexity =  27.4438, Validation perplexity =  43.6085\n",
      "****************************************************************************************************\n",
      "Epoch: 5.\n",
      "Train loss = 3.2898, Validation loss = 3.7904\n",
      "Train perplexity =  26.8375, Validation perplexity =  44.2728\n",
      "****************************************************************************************************\n",
      "Epoch: 6.\n",
      "Train loss = 3.2725, Validation loss = 3.7841\n",
      "Train perplexity =  26.3781, Validation perplexity =  43.9947\n",
      "****************************************************************************************************\n",
      "Epoch: 7.\n",
      "Train loss = 3.2610, Validation loss = 3.7932\n",
      "Train perplexity =  26.0762, Validation perplexity =  44.3968\n",
      "****************************************************************************************************\n",
      "Epoch: 8.\n",
      "Train loss = 3.2508, Validation loss = 3.7867\n",
      "Train perplexity =  25.8104, Validation perplexity =  44.1118\n",
      "****************************************************************************************************\n",
      "Epoch: 9.\n",
      "Train loss = 3.2421, Validation loss = 3.7865\n",
      "Train perplexity =  25.5873, Validation perplexity =  44.1024\n",
      "****************************************************************************************************\n",
      "Epoch: 10.\n",
      "Train loss = 3.2351, Validation loss = 3.7924\n",
      "Train perplexity =  25.4096, Validation perplexity =  44.3625\n",
      "****************************************************************************************************\n",
      "Training took  610.54 seconds\n"
     ]
    }
   ],
   "source": [
    "best_val_loss = float('inf')\n",
    "train_losses = []\n",
    "val_losses = []\n",
    "NUM_EPOCHS = 10\n",
    "\n",
    "start_time = time.time()\n",
    "\n",
    "for epoch in range(NUM_EPOCHS):\n",
    "    train_loss = train(model_4, criterion, optimizer, train_dataloader_word, device, vocab_size)\n",
    "    val_loss = evaluate(model_4, criterion, val_dataloader_word, device, vocab_size)\n",
    "\n",
    "    # save model with best validation loss each time\n",
    "    if val_loss < best_val_loss:\n",
    "        best_val_loss = val_loss\n",
    "        torch.save(model_4.state_dict(), \"rnn_best_4.pt\")\n",
    "\n",
    "    train_losses.append(train_loss)\n",
    "    val_losses.append(val_loss)\n",
    "\n",
    "    print(f\"Epoch: {epoch + 1}.\")\n",
    "    print(f\"Train loss = {train_loss:.4f}, Validation loss = {val_loss:.4f}\")\n",
    "    print(f\"Train perplexity = {math.exp(train_loss): .4f}, Validation perplexity = {math.exp(val_loss): .4f}\")\n",
    "    print(\"*\" * 100)\n",
    "\n",
    "end_time = time.time()\n",
    "\n",
    "print(f\"Training took {end_time - start_time: .2f} seconds\")"
   ]
  },
  {
   "cell_type": "markdown",
   "metadata": {},
   "source": [
    "### Plot training and validation loss curves"
   ]
  },
  {
   "cell_type": "code",
   "execution_count": 55,
   "metadata": {
    "execution": {
     "iopub.execute_input": "2025-09-06T13:31:52.799563Z",
     "iopub.status.busy": "2025-09-06T13:31:52.799327Z",
     "iopub.status.idle": "2025-09-06T13:31:52.982403Z",
     "shell.execute_reply": "2025-09-06T13:31:52.981801Z",
     "shell.execute_reply.started": "2025-09-06T13:31:52.799538Z"
    },
    "trusted": true
   },
   "outputs": [
    {
     "data": {
      "image/png": "[encoded data removed]",
      "text/plain": [
       "<Figure size 1500x1000 with 1 Axes>"
      ]
     },
     "metadata": {},
     "output_type": "display_data"
    }
   ],
   "source": [
    "plt.figure(figsize=(15, 10))\n",
    "plt.plot(train_losses, label='train_loss')\n",
    "plt.plot(val_losses,label='val_loss')\n",
    "plt.legend()\n",
    "plt.show()"
   ]
  },
  {
   "cell_type": "markdown",
   "metadata": {},
   "source": [
    "### Evaluating on test set"
   ]
  },
  {
   "cell_type": "code",
   "execution_count": 56,
   "metadata": {
    "execution": {
     "iopub.execute_input": "2025-09-06T13:31:52.983240Z",
     "iopub.status.busy": "2025-09-06T13:31:52.983052Z",
     "iopub.status.idle": "2025-09-06T13:31:52.995731Z",
     "shell.execute_reply": "2025-09-06T13:31:52.995092Z",
     "shell.execute_reply.started": "2025-09-06T13:31:52.983225Z"
    },
    "trusted": true
   },
   "outputs": [
    {
     "data": {
      "text/plain": [
       "<All keys matched successfully>"
      ]
     },
     "execution_count": 56,
     "metadata": {},
     "output_type": "execute_result"
    }
   ],
   "source": [
    "model_4.load_state_dict(\n",
    "    torch.load('/kaggle/working/rnn_best_4.pt', map_location='cuda')\n",
    ")"
   ]
  },
  {
   "cell_type": "code",
   "execution_count": 57,
   "metadata": {
    "execution": {
     "iopub.execute_input": "2025-09-06T13:31:52.997161Z",
     "iopub.status.busy": "2025-09-06T13:31:52.996501Z",
     "iopub.status.idle": "2025-09-06T13:31:56.877468Z",
     "shell.execute_reply": "2025-09-06T13:31:56.876693Z",
     "shell.execute_reply.started": "2025-09-06T13:31:52.997136Z"
    },
    "trusted": true
   },
   "outputs": [
    {
     "name": "stdout",
     "output_type": "stream",
     "text": [
      "Test loss = 3.8346\n",
      "Test perplexity =  46.2761\n"
     ]
    }
   ],
   "source": [
    "test_loss = evaluate(model_4, criterion, test_dataloader_word, device, vocab_size)\n",
    "print(f\"Test loss = {test_loss:.4f}\")\n",
    "print(f\"Test perplexity = {math.exp(test_loss): .4f}\")"
   ]
  },
  {
   "cell_type": "markdown",
   "metadata": {},
   "source": [
    "### Sample text generation"
   ]
  },
  {
   "cell_type": "code",
   "execution_count": 58,
   "metadata": {
    "execution": {
     "iopub.execute_input": "2025-09-06T13:31:56.880476Z",
     "iopub.status.busy": "2025-09-06T13:31:56.880259Z",
     "iopub.status.idle": "2025-09-06T13:31:56.999065Z",
     "shell.execute_reply": "2025-09-06T13:31:56.998362Z",
     "shell.execute_reply.started": "2025-09-06T13:31:56.880460Z"
    },
    "trusted": true
   },
   "outputs": [
    {
     "data": {
      "text/plain": [
       "\"in 1987 ( ) and the of , said he thought the ideal basis of the , , said the is expected to raise its stake in & lt ; > and the of said . said the 1983 , however ' s said the cuts would be free to use the ships would be held by , a subsidiary of , which is scheduled to be in the . . said that the . . said he saw no indication that the , . ) to buy more it to , the country ' s largest and and elevators , and recent prospects of the of to protest a joint venture must the and of , the said . lending rate was\""
      ]
     },
     "execution_count": 58,
     "metadata": {},
     "output_type": "execute_result"
    }
   ],
   "source": [
    "start = \"in 1987\"\n",
    "text = generate_text(model_4, word_tokenizer, start, max_new_tokens=200, temperature=0.7, device=\"cuda\")\n",
    "text"
   ]
  },
  {
   "cell_type": "code",
   "execution_count": 59,
   "metadata": {
    "execution": {
     "iopub.execute_input": "2025-09-06T13:31:57.000059Z",
     "iopub.status.busy": "2025-09-06T13:31:56.999813Z",
     "iopub.status.idle": "2025-09-06T13:31:57.118242Z",
     "shell.execute_reply": "2025-09-06T13:31:57.117681Z",
     "shell.execute_reply.started": "2025-09-06T13:31:57.000038Z"
    },
    "trusted": true
   },
   "outputs": [
    {
     "data": {
      "text/plain": [
       "'in 1987 , the of . . corn and had the average household - 2 / 1 , plus only two cargoes of white sugar in and 1984 . non - personal representative a 5 . 67 pct growth in the first half of imported oil and gas pipeline , non - share tax ) and an 800 of funds rose 18 . 3 pct . shrs assume 43 pct of the wheat and came below most - rich producers claim themselves yes and a wave of trade tariff treatment and constraints on steel companies \\' base in fiscal 1987 , the two - week statement agreed at the , which currently holds one mln dlrs of arbitrage rights as in the 1987 / 87 ended 31 , bringing the revenue rise for leading industrial octane budget and helped forces to change this year to rise where the yen \\' s steady borrowing growth , it explained . and steep retain between the economy and futures are trying to countries to see the action would be similar to ,\" a senior , industrial construction , financial'"
      ]
     },
     "execution_count": 59,
     "metadata": {},
     "output_type": "execute_result"
    }
   ],
   "source": [
    "start = \"in 1987\"\n",
    "text = generate_text(model_4, word_tokenizer, start, max_new_tokens=200, temperature=1.0, device=\"cuda\")\n",
    "text"
   ]
  },
  {
   "cell_type": "code",
   "execution_count": 60,
   "metadata": {
    "execution": {
     "iopub.execute_input": "2025-09-06T13:31:57.119128Z",
     "iopub.status.busy": "2025-09-06T13:31:57.118905Z",
     "iopub.status.idle": "2025-09-06T13:31:57.237143Z",
     "shell.execute_reply": "2025-09-06T13:31:57.236611Z",
     "shell.execute_reply.started": "2025-09-06T13:31:57.119103Z"
    },
    "trusted": true
   },
   "outputs": [
    {
     "data": {
      "text/plain": [
       "'in 1987 operating for components for refined an event with 1 . 70 dlrs a share vs 49 , 000 figure and 660 stakes of for 120 mln dlrs worth that a package of non - trade representative \" agency to withdraw here to make a meeting of companies made or thing not between rival depositors businesses did not remain protection on all foreign products . we could come at seven banks shipments to 15 pct interest interest payments rate has interpreted the full peso price mistake \\' - strength \" someone ,\" he said . food products in lead industries . the range . told a flexible commitment continues to spread - be concerned states , soon presenting what further would welcome the market ( and 1 . 951 mln 229 . 712 vs 23 cts three other 35 ct cash share sugar harvest in rice the budget point reached by nearly flood of - related participation that disclose our natural customers . and industrial businesses permanently discounts during live to the market 236 tonne last year , anticipated . year closer specific consultation , if it would effects on competition'"
      ]
     },
     "execution_count": 60,
     "metadata": {},
     "output_type": "execute_result"
    }
   ],
   "source": [
    "start = \"in 1987\"\n",
    "text = generate_text(model_4, word_tokenizer, start, max_new_tokens=200, temperature=1.3, device=\"cuda\")\n",
    "text"
   ]
  },
  {
   "cell_type": "code",
   "execution_count": 61,
   "metadata": {
    "execution": {
     "iopub.execute_input": "2025-09-06T13:31:57.237986Z",
     "iopub.status.busy": "2025-09-06T13:31:57.237760Z",
     "iopub.status.idle": "2025-09-06T13:31:57.357244Z",
     "shell.execute_reply": "2025-09-06T13:31:57.356699Z",
     "shell.execute_reply.started": "2025-09-06T13:31:57.237969Z"
    },
    "trusted": true
   },
   "outputs": [
    {
     "data": {
      "text/plain": [
       "'united states to seek control of the proposed acquisition of and . the first quarter of 1987 . said the of has been named , told the of the ( ) said . trade sources said . said the proposed sale of its , and said . spokesman said the company \\' s cash flow has improved a land forecast for - two stock split . sales were down to 1 . 25 billion baht in 1986 , , , , , , said . \" have only . , whose trade source said the , said the refinery \\' s of , , a investor group and its management unit , which had already been eliminated ,\" he said . said the has agreed to provide a majority stake in , a subsidiary of , a private investor group'"
      ]
     },
     "execution_count": 61,
     "metadata": {},
     "output_type": "execute_result"
    }
   ],
   "source": [
    "start = \"united states\"\n",
    "text = generate_text(model_4, word_tokenizer, start, max_new_tokens=200, temperature=0.7, device=\"cuda\")\n",
    "text"
   ]
  },
  {
   "cell_type": "code",
   "execution_count": 62,
   "metadata": {
    "execution": {
     "iopub.execute_input": "2025-09-06T13:31:57.358089Z",
     "iopub.status.busy": "2025-09-06T13:31:57.357893Z",
     "iopub.status.idle": "2025-09-06T13:31:57.476019Z",
     "shell.execute_reply": "2025-09-06T13:31:57.475471Z",
     "shell.execute_reply.started": "2025-09-06T13:31:57.358074Z"
    },
    "trusted": true
   },
   "outputs": [
    {
     "data": {
      "text/plain": [
       "\"united states and severely air production with sales of 500 , 000 troy ounces working . told the . . , 6 . 765 billion tonne cargo orders in 1986 , its costs to regain three and launch of joining claims with the against the accord , it said they sold more new markets are below some ) of farmers to to approval of response to its ' s chemical division . leader of said . officials of the major wheat refinery totaled 137 . 14 western industrialised nations ' largest ) , said such exceeding a growing number of legislators of , of , and corporations of either six months . bill also secretary , looking at a earlier take core businesses was more than pure years , an independent spokesman said . said this is likely would meet its bid to the on an attack , traders said . and the 1 , 6 - point and actual yen .\""
      ]
     },
     "execution_count": 62,
     "metadata": {},
     "output_type": "execute_result"
    }
   ],
   "source": [
    "start = \"united states\"\n",
    "text = generate_text(model_4, word_tokenizer, start, max_new_tokens=200, temperature=1.0, device=\"cuda\")\n",
    "text"
   ]
  },
  {
   "cell_type": "code",
   "execution_count": 63,
   "metadata": {
    "execution": {
     "iopub.execute_input": "2025-09-06T13:31:57.476859Z",
     "iopub.status.busy": "2025-09-06T13:31:57.476661Z",
     "iopub.status.idle": "2025-09-06T13:31:57.597541Z",
     "shell.execute_reply": "2025-09-06T13:31:57.596869Z",
     "shell.execute_reply.started": "2025-09-06T13:31:57.476843Z"
    },
    "trusted": true
   },
   "outputs": [
    {
     "data": {
      "text/plain": [
       "'united states create various other crops , were also low by 76 , 623 mln barrels of condensate in relation brought a break front - refinancing called and lay and up 9 enquiries without any time over standing determination -- favour progress wary of cardiovascular , sold control , nor actual period under repeated pick potato producer rose unit from a weekly estimate its natural gas stock jumped to 11 . 09 billion dlrs , or 83 cts shr and animal fats of uranium in a . . response to trade friction areas in other garages . must buy we as small further hold total by make determined from 12 seem well targets must doubling tariffs ,\" the salmonella offering has made individual approval to the unit . ports . it figures showed the deficit the company \\' s stake in which the subcommittee \\' s authority continues a troy ounce equal to 20 . of earned 14 , 909 bags , analysts said . research company has total 84 - bid period 22 . 8 pct against 263 mln due up a profit - split - owned subsidiary of'"
      ]
     },
     "execution_count": 63,
     "metadata": {},
     "output_type": "execute_result"
    }
   ],
   "source": [
    "start = \"united states\"\n",
    "text = generate_text(model_4, word_tokenizer, start, max_new_tokens=200, temperature=1.3, device=\"cuda\")\n",
    "text"
   ]
  }
 ],
 "metadata": {
  "kaggle": {
   "accelerator": "gpu",
   "dataSources": [
    {
     "isSourceIdPinned": true,
     "modelId": 443301,
     "modelInstanceId": 425810,
     "sourceId": 562750,
     "sourceType": "modelInstanceVersion"
    }
   ],
   "dockerImageVersionId": 31090,
   "isGpuEnabled": true,
   "isInternetEnabled": true,
   "language": "python",
   "sourceType": "notebook"
  },
  "kernelspec": {
   "display_name": ".venv",
   "language": "python",
   "name": "python3"
  },
  "language_info": {
   "codemirror_mode": {
    "name": "ipython",
    "version": 3
   },
   "file_extension": ".py",
   "mimetype": "text/x-python",
   "name": "python",
   "nbconvert_exporter": "python",
   "pygments_lexer": "ipython3",
   "version": "3.12.1"
  }
 },
 "nbformat": 4,
 "nbformat_minor": 4
}
