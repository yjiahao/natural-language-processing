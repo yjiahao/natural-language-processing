{
 "cells": [
  {
   "cell_type": "code",
   "execution_count": 1,
   "id": "25b6d9c7-aab7-4b1c-babe-9298d5148a19",
   "metadata": {
    "execution": {
     "iopub.execute_input": "2025-09-03T02:35:14.758720Z",
     "iopub.status.busy": "2025-09-03T02:35:14.758450Z",
     "iopub.status.idle": "2025-09-03T02:36:34.397191Z",
     "shell.execute_reply": "2025-09-03T02:36:34.396395Z",
     "shell.execute_reply.started": "2025-09-03T02:35:14.758699Z"
    },
    "trusted": true
   },
   "outputs": [
    {
     "name": "stdout",
     "output_type": "stream",
     "text": [
      "\u001b[2K   \u001b[90m━━━━━━━━━━━━━━━━━━━━━━━━━━━━━━━━━━━━━━━━\u001b[0m \u001b[32m64.2/64.2 kB\u001b[0m \u001b[31m4.8 MB/s\u001b[0m eta \u001b[36m0:00:00\u001b[0m\n",
      "\u001b[2K   \u001b[90m━━━━━━━━━━━━━━━━━━━━━━━━━━━━━━━━━━━━━━━━\u001b[0m \u001b[32m363.4/363.4 MB\u001b[0m \u001b[31m4.6 MB/s\u001b[0m eta \u001b[36m0:00:00\u001b[0m:00:01\u001b[0m00:01\u001b[0m\n",
      "\u001b[2K   \u001b[90m━━━━━━━━━━━━━━━━━━━━━━━━━━━━━━━━━━━━━━━━\u001b[0m \u001b[32m13.8/13.8 MB\u001b[0m \u001b[31m110.9 MB/s\u001b[0m eta \u001b[36m0:00:00\u001b[0m00:01\u001b[0m0:01\u001b[0m\n",
      "\u001b[2K   \u001b[90m━━━━━━━━━━━━━━━━━━━━━━━━━━━━━━━━━━━━━━━━\u001b[0m \u001b[32m24.6/24.6 MB\u001b[0m \u001b[31m80.0 MB/s\u001b[0m eta \u001b[36m0:00:00\u001b[0m:00:01\u001b[0m00:01\u001b[0m\n",
      "\u001b[2K   \u001b[90m━━━━━━━━━━━━━━━━━━━━━━━━━━━━━━━━━━━━━━━━\u001b[0m \u001b[32m883.7/883.7 kB\u001b[0m \u001b[31m48.3 MB/s\u001b[0m eta \u001b[36m0:00:00\u001b[0m\n",
      "\u001b[2K   \u001b[90m━━━━━━━━━━━━━━━━━━━━━━━━━━━━━━━━━━━━━━━━\u001b[0m \u001b[32m664.8/664.8 MB\u001b[0m \u001b[31m1.8 MB/s\u001b[0m eta \u001b[36m0:00:00\u001b[0m:00:01\u001b[0m00:01\u001b[0m\n",
      "\u001b[2K   \u001b[90m━━━━━━━━━━━━━━━━━━━━━━━━━━━━━━━━━━━━━━━━\u001b[0m \u001b[32m211.5/211.5 MB\u001b[0m \u001b[31m6.5 MB/s\u001b[0m eta \u001b[36m0:00:00\u001b[0m:00:01\u001b[0m00:01\u001b[0m\n",
      "\u001b[2K   \u001b[90m━━━━━━━━━━━━━━━━━━━━━━━━━━━━━━━━━━━━━━━━\u001b[0m \u001b[32m56.3/56.3 MB\u001b[0m \u001b[31m32.1 MB/s\u001b[0m eta \u001b[36m0:00:00\u001b[0m:00:01\u001b[0m00:01\u001b[0m\n",
      "\u001b[2K   \u001b[90m━━━━━━━━━━━━━━━━━━━━━━━━━━━━━━━━━━━━━━━━\u001b[0m \u001b[32m127.9/127.9 MB\u001b[0m \u001b[31m13.6 MB/s\u001b[0m eta \u001b[36m0:00:00\u001b[0m00:01\u001b[0m00:01\u001b[0m\n",
      "\u001b[2K   \u001b[90m━━━━━━━━━━━━━━━━━━━━━━━━━━━━━━━━━━━━━━━━\u001b[0m \u001b[32m207.5/207.5 MB\u001b[0m \u001b[31m7.4 MB/s\u001b[0m eta \u001b[36m0:00:00\u001b[0m:00:01\u001b[0m00:01\u001b[0m\n",
      "\u001b[2K   \u001b[90m━━━━━━━━━━━━━━━━━━━━━━━━━━━━━━━━━━━━━━━━\u001b[0m \u001b[32m21.1/21.1 MB\u001b[0m \u001b[31m4.3 MB/s\u001b[0m eta \u001b[36m0:00:00\u001b[0m0:00:01\u001b[0m00:01\u001b[0m\n",
      "\u001b[?25h"
     ]
    }
   ],
   "source": [
    "!pip install tokenizers --quiet"
   ]
  },
  {
   "cell_type": "code",
   "execution_count": 35,
   "id": "71fc8469",
   "metadata": {
    "execution": {
     "iopub.execute_input": "2025-09-03T03:03:32.111408Z",
     "iopub.status.busy": "2025-09-03T03:03:32.111143Z",
     "iopub.status.idle": "2025-09-03T03:03:32.116708Z",
     "shell.execute_reply": "2025-09-03T03:03:32.115969Z",
     "shell.execute_reply.started": "2025-09-03T03:03:32.111391Z"
    },
    "trusted": true
   },
   "outputs": [],
   "source": [
    "from nltk.corpus import reuters, inaugural\n",
    "from nltk.tokenize import word_tokenize\n",
    "from collections import Counter\n",
    "from tqdm import tqdm\n",
    "import numpy as np\n",
    "import nltk\n",
    "import random\n",
    "\n",
    "import torch\n",
    "import torch.nn.functional as F\n",
    "import torch.nn as nn\n",
    "from torch.utils.data import Dataset, DataLoader\n",
    "# import torchtext\n",
    "\n",
    "from tokenizers import Tokenizer\n",
    "from tokenizers.models import WordLevel, BPE\n",
    "from tokenizers.trainers import WordLevelTrainer, BpeTrainer\n",
    "from tokenizers.pre_tokenizers import Whitespace\n",
    "\n",
    "import matplotlib.pyplot as plt\n",
    "\n",
    "import time\n",
    "\n",
    "import math\n",
    "\n",
    "random.seed(42)"
   ]
  },
  {
   "cell_type": "code",
   "execution_count": 3,
   "id": "0a328a14",
   "metadata": {
    "execution": {
     "iopub.execute_input": "2025-09-03T02:36:38.654796Z",
     "iopub.status.busy": "2025-09-03T02:36:38.654517Z",
     "iopub.status.idle": "2025-09-03T02:36:38.813318Z",
     "shell.execute_reply": "2025-09-03T02:36:38.812578Z",
     "shell.execute_reply.started": "2025-09-03T02:36:38.654780Z"
    },
    "trusted": true
   },
   "outputs": [
    {
     "name": "stderr",
     "output_type": "stream",
     "text": [
      "[nltk_data] Downloading package reuters to /usr/share/nltk_data...\n",
      "[nltk_data]   Package reuters is already up-to-date!\n",
      "[nltk_data] Downloading package inaugural to /usr/share/nltk_data...\n",
      "[nltk_data]   Package inaugural is already up-to-date!\n",
      "[nltk_data] Downloading package punkt to /usr/share/nltk_data...\n",
      "[nltk_data]   Package punkt is already up-to-date!\n",
      "[nltk_data] Downloading package punkt_tab to /usr/share/nltk_data...\n",
      "[nltk_data]   Package punkt_tab is already up-to-date!\n"
     ]
    },
    {
     "data": {
      "text/plain": [
       "True"
      ]
     },
     "execution_count": 3,
     "metadata": {},
     "output_type": "execute_result"
    }
   ],
   "source": [
    "# Download necessary NLTK resources\n",
    "nltk.download('reuters')\n",
    "nltk.download('inaugural')\n",
    "nltk.download('punkt')\n",
    "nltk.download('punkt_tab')"
   ]
  },
  {
   "cell_type": "code",
   "execution_count": 4,
   "id": "60a5c2b3",
   "metadata": {
    "execution": {
     "iopub.execute_input": "2025-09-03T02:36:38.815878Z",
     "iopub.status.busy": "2025-09-03T02:36:38.815117Z",
     "iopub.status.idle": "2025-09-03T02:36:42.409338Z",
     "shell.execute_reply": "2025-09-03T02:36:42.408563Z",
     "shell.execute_reply.started": "2025-09-03T02:36:38.815851Z"
    },
    "trusted": true
   },
   "outputs": [
    {
     "name": "stdout",
     "output_type": "stream",
     "text": [
      "Number of documents: 10788\n"
     ]
    }
   ],
   "source": [
    "# Load the Reuters dataset\n",
    "categories = reuters.categories()\n",
    "documents = reuters.fileids()\n",
    "random.shuffle(documents) # randomly shuffle the documents\n",
    "print(f\"Number of documents: {len(documents)}\")"
   ]
  },
  {
   "cell_type": "code",
   "execution_count": 5,
   "id": "c976d286",
   "metadata": {
    "execution": {
     "iopub.execute_input": "2025-09-03T02:36:42.410219Z",
     "iopub.status.busy": "2025-09-03T02:36:42.409989Z",
     "iopub.status.idle": "2025-09-03T02:36:42.414058Z",
     "shell.execute_reply": "2025-09-03T02:36:42.413310Z",
     "shell.execute_reply.started": "2025-09-03T02:36:42.410201Z"
    },
    "trusted": true
   },
   "outputs": [],
   "source": [
    "n_total = len(documents)\n",
    "n_train = int(0.8 * n_total)\n",
    "n_val   = int(0.1 * n_total)\n",
    "n_test  = n_total - n_train - n_val"
   ]
  },
  {
   "cell_type": "code",
   "execution_count": 6,
   "id": "b3173e86",
   "metadata": {
    "execution": {
     "iopub.execute_input": "2025-09-03T02:36:42.415162Z",
     "iopub.status.busy": "2025-09-03T02:36:42.414859Z",
     "iopub.status.idle": "2025-09-03T02:36:42.428501Z",
     "shell.execute_reply": "2025-09-03T02:36:42.427787Z",
     "shell.execute_reply.started": "2025-09-03T02:36:42.415120Z"
    },
    "trusted": true
   },
   "outputs": [],
   "source": [
    "train_ids = documents[:n_train]\n",
    "val_ids = documents[n_train:n_train + n_val]\n",
    "test_ids = documents[n_train + n_val:]"
   ]
  },
  {
   "cell_type": "code",
   "execution_count": 7,
   "id": "7d974761",
   "metadata": {
    "execution": {
     "iopub.execute_input": "2025-09-03T02:36:42.429781Z",
     "iopub.status.busy": "2025-09-03T02:36:42.429244Z",
     "iopub.status.idle": "2025-09-03T02:36:43.241137Z",
     "shell.execute_reply": "2025-09-03T02:36:43.240596Z",
     "shell.execute_reply.started": "2025-09-03T02:36:42.429762Z"
    },
    "trusted": true
   },
   "outputs": [],
   "source": [
    "# tokenize and lowercase the characters\n",
    "train_data = [reuters.raw(fid).lower() for fid in train_ids]\n",
    "val_data = [reuters.raw(fid).lower() for fid in val_ids]\n",
    "test_data = [reuters.raw(fid).lower() for fid in test_ids]"
   ]
  },
  {
   "cell_type": "code",
   "execution_count": 8,
   "id": "a78fc24f",
   "metadata": {
    "execution": {
     "iopub.execute_input": "2025-09-03T02:36:43.242112Z",
     "iopub.status.busy": "2025-09-03T02:36:43.241842Z",
     "iopub.status.idle": "2025-09-03T02:36:43.246926Z",
     "shell.execute_reply": "2025-09-03T02:36:43.246189Z",
     "shell.execute_reply.started": "2025-09-03T02:36:43.242083Z"
    },
    "trusted": true
   },
   "outputs": [],
   "source": [
    "def create_tokenizer_trainer(byte_pair: bool, vocab_size):\n",
    "    if byte_pair:\n",
    "        tokenizer = Tokenizer(BPE(unk_token=\"[UNK]\"))\n",
    "        tokenizer.pre_tokenizer = Whitespace()\n",
    "        trainer = BpeTrainer(\n",
    "            special_tokens=[\"[UNK]\", \"[PAD]\", \"[BOS]\", \"[EOS]\"],\n",
    "            vocab_size=vocab_size\n",
    "        )\n",
    "    else:\n",
    "        tokenizer = Tokenizer(WordLevel(unk_token='[UNK]'))\n",
    "        tokenizer.pre_tokenizer = Whitespace()\n",
    "        trainer = WordLevelTrainer(\n",
    "            special_tokens=[\"[UNK]\", \"[PAD]\", \"[BOS]\", \"[EOS]\"],\n",
    "            vocab_size=vocab_size\n",
    "        )\n",
    "    return tokenizer, trainer"
   ]
  },
  {
   "cell_type": "code",
   "execution_count": 9,
   "id": "6d026011-f850-4a4b-8862-2e85daa5f911",
   "metadata": {
    "execution": {
     "iopub.execute_input": "2025-09-03T02:36:44.187425Z",
     "iopub.status.busy": "2025-09-03T02:36:44.187140Z",
     "iopub.status.idle": "2025-09-03T02:36:44.644632Z",
     "shell.execute_reply": "2025-09-03T02:36:44.644062Z",
     "shell.execute_reply.started": "2025-09-03T02:36:44.187405Z"
    },
    "trusted": true
   },
   "outputs": [],
   "source": [
    "tokenizer, trainer = create_tokenizer_trainer(byte_pair=False, vocab_size=10000)\n",
    "tokenizer.train_from_iterator(train_data, trainer)"
   ]
  },
  {
   "cell_type": "code",
   "execution_count": 111,
   "id": "02213b5d-3f0a-4c99-a086-0bd0168b9f3a",
   "metadata": {
    "execution": {
     "iopub.execute_input": "2025-09-03T03:44:40.591828Z",
     "iopub.status.busy": "2025-09-03T03:44:40.591360Z",
     "iopub.status.idle": "2025-09-03T03:44:40.596064Z",
     "shell.execute_reply": "2025-09-03T03:44:40.595360Z",
     "shell.execute_reply.started": "2025-09-03T03:44:40.591804Z"
    },
    "trusted": true
   },
   "outputs": [],
   "source": [
    "def encode_text(ids: list[str], tokenizer):\n",
    "    # process the data\n",
    "    processed = []\n",
    "    start_token_id = tokenizer.token_to_id(\"[BOS]\")\n",
    "    end_token_id = tokenizer.token_to_id(\"[EOS]\")\n",
    "    for fid in ids:\n",
    "        raw_text = reuters.raw(fid)\n",
    "        ids = tokenizer.encode(raw_text).ids\n",
    "        processed.append([start_token_id] + ids + [end_token_id])\n",
    "    return processed"
   ]
  },
  {
   "cell_type": "code",
   "execution_count": 11,
   "id": "1222497d-93ff-4800-bbe9-cd9b1b732be3",
   "metadata": {
    "execution": {
     "iopub.execute_input": "2025-09-03T02:37:12.384915Z",
     "iopub.status.busy": "2025-09-03T02:37:12.384267Z",
     "iopub.status.idle": "2025-09-03T02:37:15.799954Z",
     "shell.execute_reply": "2025-09-03T02:37:15.799394Z",
     "shell.execute_reply.started": "2025-09-03T02:37:12.384892Z"
    },
    "trusted": true
   },
   "outputs": [],
   "source": [
    "train_processed = encode_text(train_ids, tokenizer)\n",
    "val_processed = encode_text(val_ids, tokenizer)\n",
    "test_processed = encode_text(test_ids, tokenizer)"
   ]
  },
  {
   "cell_type": "code",
   "execution_count": 13,
   "id": "77e2a71a-0acc-4d9f-afb3-77499143d2e8",
   "metadata": {
    "execution": {
     "iopub.execute_input": "2025-09-03T02:37:35.675075Z",
     "iopub.status.busy": "2025-09-03T02:37:35.674406Z",
     "iopub.status.idle": "2025-09-03T02:37:35.690369Z",
     "shell.execute_reply": "2025-09-03T02:37:35.689476Z",
     "shell.execute_reply.started": "2025-09-03T02:37:35.675051Z"
    },
    "trusted": true
   },
   "outputs": [],
   "source": [
    "class ReutersDataset(Dataset):\n",
    "    def __init__(self, texts, seq_len=30):\n",
    "        self.seq_len = seq_len\n",
    "        self.data = []\n",
    "        \n",
    "        for text in texts:\n",
    "            if len(text) > seq_len:\n",
    "                # slide window\n",
    "                for i in range(len(text) - seq_len):\n",
    "                    seq = text[i:i+seq_len+1]  # need +1 for target\n",
    "                    self.data.append(seq)\n",
    "\n",
    "    def __len__(self):\n",
    "        return len(self.data)\n",
    "\n",
    "    def __getitem__(self, idx):\n",
    "        seq = torch.tensor(self.data[idx], dtype=torch.long)\n",
    "        # input = first seq_len tokens\n",
    "        x = seq[:-1]\n",
    "        # target = same sequence shifted by one\n",
    "        y = seq[1:]\n",
    "        return x, y"
   ]
  },
  {
   "cell_type": "code",
   "execution_count": 14,
   "id": "cab06f43-43ff-4398-9dc3-77e7523fbae9",
   "metadata": {
    "execution": {
     "iopub.execute_input": "2025-09-03T02:37:37.364642Z",
     "iopub.status.busy": "2025-09-03T02:37:37.364165Z",
     "iopub.status.idle": "2025-09-03T02:37:39.864768Z",
     "shell.execute_reply": "2025-09-03T02:37:39.864192Z",
     "shell.execute_reply.started": "2025-09-03T02:37:37.364622Z"
    },
    "trusted": true
   },
   "outputs": [],
   "source": [
    "train_dataset = ReutersDataset(train_processed)\n",
    "val_dataset = ReutersDataset(val_processed)\n",
    "test_dataset = ReutersDataset(test_processed)"
   ]
  },
  {
   "cell_type": "code",
   "execution_count": 15,
   "id": "a59aaf8e-2cf5-492c-bed5-55cc1418fe24",
   "metadata": {
    "execution": {
     "iopub.execute_input": "2025-09-03T02:37:39.866010Z",
     "iopub.status.busy": "2025-09-03T02:37:39.865764Z",
     "iopub.status.idle": "2025-09-03T02:37:39.870305Z",
     "shell.execute_reply": "2025-09-03T02:37:39.869708Z",
     "shell.execute_reply.started": "2025-09-03T02:37:39.865993Z"
    },
    "trusted": true
   },
   "outputs": [],
   "source": [
    "train_dataloader = DataLoader(train_dataset, batch_size=1024, shuffle=True)\n",
    "val_dataloader = DataLoader(val_dataset, batch_size=1024, shuffle=True)\n",
    "test_dataloader = DataLoader(test_dataset, batch_size=1024, shuffle=True)"
   ]
  },
  {
   "cell_type": "code",
   "execution_count": 16,
   "id": "6700bcf4-2733-4c0f-8108-764cba94eae3",
   "metadata": {
    "execution": {
     "iopub.execute_input": "2025-09-03T02:37:41.676641Z",
     "iopub.status.busy": "2025-09-03T02:37:41.675871Z",
     "iopub.status.idle": "2025-09-03T02:37:41.682312Z",
     "shell.execute_reply": "2025-09-03T02:37:41.681454Z",
     "shell.execute_reply.started": "2025-09-03T02:37:41.676603Z"
    },
    "trusted": true
   },
   "outputs": [],
   "source": [
    "class LSTMLanguageModel(nn.Module):\n",
    "    def __init__(self, vocab_size, embed_size, hidden_size, num_layers, dropout_p):\n",
    "        super().__init__()\n",
    "        self.vocab_size = vocab_size\n",
    "        self.hidden_size = hidden_size\n",
    "        self.num_layers = num_layers\n",
    "        \n",
    "        self.embedding = nn.Embedding(vocab_size, embed_size)\n",
    "        self.lstm = nn.LSTM(embed_size, hidden_size, num_layers, batch_first=True, dropout=dropout_p)\n",
    "        self.fc = nn.Linear(hidden_size, vocab_size)\n",
    "    \n",
    "    def forward(self, x, hidden=None):\n",
    "        batch_size = x.size(0)\n",
    "        \n",
    "        # initialize hidden state if not provided\n",
    "        if hidden is None:\n",
    "            h0 = torch.zeros(self.num_layers, batch_size, self.hidden_size, device=x.device)\n",
    "            c0 = torch.zeros(self.num_layers, batch_size, self.hidden_size, device=x.device)\n",
    "            hidden = (h0, c0)\n",
    "        \n",
    "        x = self.embedding(x)\n",
    "        out, hidden = self.lstm(x, hidden)\n",
    "        out = self.fc(out)\n",
    "        \n",
    "        return out, hidden"
   ]
  },
  {
   "cell_type": "markdown",
   "id": "50c0e8f0-1b1b-4e94-81cf-187f583163b9",
   "metadata": {},
   "source": [
    "## Train model 1\n",
    "\n",
    "embed_size = 128\n",
    "hidden_size = 128\n",
    "num_layers = 2\n",
    "dropout_p = 0.1"
   ]
  },
  {
   "cell_type": "code",
   "execution_count": 22,
   "id": "a18a539e-df72-4182-9e9b-4bac315c3aa5",
   "metadata": {
    "execution": {
     "iopub.execute_input": "2025-09-03T02:41:42.607661Z",
     "iopub.status.busy": "2025-09-03T02:41:42.607386Z",
     "iopub.status.idle": "2025-09-03T02:41:42.664163Z",
     "shell.execute_reply": "2025-09-03T02:41:42.663346Z",
     "shell.execute_reply.started": "2025-09-03T02:41:42.607640Z"
    },
    "trusted": true
   },
   "outputs": [
    {
     "data": {
      "text/plain": [
       "LSTMLanguageModel(\n",
       "  (embedding): Embedding(10000, 128)\n",
       "  (lstm): LSTM(128, 128, num_layers=2, batch_first=True, dropout=0.1)\n",
       "  (fc): Linear(in_features=128, out_features=10000, bias=True)\n",
       ")"
      ]
     },
     "execution_count": 22,
     "metadata": {},
     "output_type": "execute_result"
    }
   ],
   "source": [
    "torch.manual_seed(42)\n",
    "model = LSTMLanguageModel(\n",
    "    vocab_size=tokenizer.get_vocab_size(),\n",
    "    embed_size=128,\n",
    "    hidden_size=128,\n",
    "    num_layers=2,\n",
    "    dropout_p=0.1\n",
    ")\n",
    "criterion = nn.CrossEntropyLoss()\n",
    "optimizer = torch.optim.AdamW(model.parameters(), lr=0.01)\n",
    "vocab_size = tokenizer.get_vocab_size()\n",
    "device = torch.device(\"cuda\" if torch.cuda.is_available() else \"cpu\")\n",
    "model.to(device)"
   ]
  },
  {
   "cell_type": "code",
   "execution_count": 23,
   "id": "cc0da49b-c114-4d42-a250-0975b6c09ffe",
   "metadata": {
    "execution": {
     "iopub.execute_input": "2025-09-03T02:41:44.810432Z",
     "iopub.status.busy": "2025-09-03T02:41:44.809753Z",
     "iopub.status.idle": "2025-09-03T02:41:44.816191Z",
     "shell.execute_reply": "2025-09-03T02:41:44.815521Z",
     "shell.execute_reply.started": "2025-09-03T02:41:44.810409Z"
    },
    "trusted": true
   },
   "outputs": [],
   "source": [
    "def train(model, loss_fn, optimizer, dataloader, device, vocab_size):\n",
    "    model.train()\n",
    "    total_loss = 0\n",
    "    for inputs, targets in dataloader:\n",
    "        inputs, targets = inputs.to(device), targets.to(device)\n",
    "\n",
    "        optimizer.zero_grad()\n",
    "        outputs, hidden = model(inputs)  # [batch, seq_len, vocab_size]\n",
    "\n",
    "        # reshape for CrossEntropyLoss\n",
    "        loss = loss_fn(outputs.view(-1, vocab_size), targets.view(-1))\n",
    "        loss.backward()\n",
    "        optimizer.step()\n",
    "\n",
    "        total_loss += loss.item()\n",
    "\n",
    "    return total_loss / len(dataloader)\n",
    "\n",
    "\n",
    "def evaluate(model, loss_fn, dataloader, device, vocab_size):\n",
    "    model.eval()\n",
    "    total_loss = 0\n",
    "    with torch.no_grad():\n",
    "        for inputs, targets in dataloader:\n",
    "            inputs, targets = inputs.to(device), targets.to(device)\n",
    "            \n",
    "            outputs, hidden = model(inputs)\n",
    "            loss = loss_fn(outputs.view(-1, vocab_size), targets.view(-1))\n",
    "            total_loss += loss.item()\n",
    "\n",
    "    return total_loss / len(dataloader)"
   ]
  },
  {
   "cell_type": "code",
   "execution_count": 24,
   "id": "6812e022-81bb-4239-ad3f-b1197f23050b",
   "metadata": {
    "execution": {
     "iopub.execute_input": "2025-09-03T02:41:47.384237Z",
     "iopub.status.busy": "2025-09-03T02:41:47.383641Z",
     "iopub.status.idle": "2025-09-03T03:01:22.187584Z",
     "shell.execute_reply": "2025-09-03T03:01:22.186951Z",
     "shell.execute_reply.started": "2025-09-03T02:41:47.384214Z"
    },
    "trusted": true
   },
   "outputs": [
    {
     "name": "stdout",
     "output_type": "stream",
     "text": [
      "Epoch: 1.\n",
      "Train loss = 4.0890, Validation loss = 3.7691\n",
      "Train perplexity =  59.6791, Validation perplexity =  43.3415\n",
      "****************************************************************************************************\n",
      "Epoch: 2.\n",
      "Train loss = 3.3793, Validation loss = 3.6388\n",
      "Train perplexity =  29.3490, Validation perplexity =  38.0449\n",
      "****************************************************************************************************\n",
      "Epoch: 3.\n",
      "Train loss = 3.1181, Validation loss = 3.6395\n",
      "Train perplexity =  22.6035, Validation perplexity =  38.0726\n",
      "****************************************************************************************************\n",
      "Epoch: 4.\n",
      "Train loss = 2.9840, Validation loss = 3.6682\n",
      "Train perplexity =  19.7676, Validation perplexity =  39.1798\n",
      "****************************************************************************************************\n",
      "Epoch: 5.\n",
      "Train loss = 2.9045, Validation loss = 3.7010\n",
      "Train perplexity =  18.2561, Validation perplexity =  40.4895\n",
      "****************************************************************************************************\n",
      "Epoch: 6.\n",
      "Train loss = 2.8514, Validation loss = 3.7136\n",
      "Train perplexity =  17.3128, Validation perplexity =  41.0028\n",
      "****************************************************************************************************\n",
      "Epoch: 7.\n",
      "Train loss = 2.8136, Validation loss = 3.7385\n",
      "Train perplexity =  16.6704, Validation perplexity =  42.0345\n",
      "****************************************************************************************************\n",
      "Epoch: 8.\n",
      "Train loss = 2.7851, Validation loss = 3.7499\n",
      "Train perplexity =  16.2021, Validation perplexity =  42.5172\n",
      "****************************************************************************************************\n",
      "Epoch: 9.\n",
      "Train loss = 2.7624, Validation loss = 3.7621\n",
      "Train perplexity =  15.8378, Validation perplexity =  43.0405\n",
      "****************************************************************************************************\n",
      "Epoch: 10.\n",
      "Train loss = 2.7437, Validation loss = 3.7727\n",
      "Train perplexity =  15.5440, Validation perplexity =  43.4984\n",
      "****************************************************************************************************\n",
      "Training took  1174.80 seconds\n"
     ]
    }
   ],
   "source": [
    "best_val_loss = float('inf')\n",
    "train_losses = []\n",
    "val_losses = []\n",
    "NUM_EPOCHS = 10\n",
    "\n",
    "start_time = time.time()\n",
    "\n",
    "for epoch in range(NUM_EPOCHS):\n",
    "    train_loss = train(model, criterion, optimizer, train_dataloader, device, vocab_size)\n",
    "    val_loss = evaluate(model, criterion, val_dataloader, device, vocab_size)\n",
    "\n",
    "    # save model with best validation loss each time\n",
    "    if val_loss < best_val_loss:\n",
    "        best_val_loss = val_loss\n",
    "        torch.save(model.state_dict(), \"lstm_best.pt\")\n",
    "\n",
    "    train_losses.append(train_loss)\n",
    "    val_losses.append(val_loss)\n",
    "\n",
    "    print(f\"Epoch: {epoch + 1}.\")\n",
    "    print(f\"Train loss = {train_loss:.4f}, Validation loss = {val_loss:.4f}\")\n",
    "    print(f\"Train perplexity = {math.exp(train_loss): .4f}, Validation perplexity = {math.exp(val_loss): .4f}\")\n",
    "    print(\"*\" * 100)\n",
    "\n",
    "end_time = time.time()\n",
    "\n",
    "print(f\"Training took {end_time - start_time: .2f} seconds\")"
   ]
  },
  {
   "cell_type": "markdown",
   "id": "e515ee59-1e96-48b1-845d-079219859d27",
   "metadata": {},
   "source": [
    "### Plot training and validation loss curves"
   ]
  },
  {
   "cell_type": "code",
   "execution_count": 25,
   "id": "9d96e486-1aca-49e2-9ab6-61074565b5f4",
   "metadata": {
    "execution": {
     "iopub.execute_input": "2025-09-03T03:01:28.084750Z",
     "iopub.status.busy": "2025-09-03T03:01:28.084173Z",
     "iopub.status.idle": "2025-09-03T03:01:28.348986Z",
     "shell.execute_reply": "2025-09-03T03:01:28.348209Z",
     "shell.execute_reply.started": "2025-09-03T03:01:28.084726Z"
    },
    "trusted": true
   },
   "outputs": [
    {
     "data": {
      "image/png": "[encoded data removed]",
      "text/plain": [
       "<Figure size 1500x1000 with 1 Axes>"
      ]
     },
     "metadata": {},
     "output_type": "display_data"
    }
   ],
   "source": [
    "plt.figure(figsize=(15, 10))\n",
    "plt.plot(train_losses, label='train_loss')\n",
    "plt.plot(val_losses,label='val_loss')\n",
    "plt.legend()\n",
    "plt.show()"
   ]
  },
  {
   "cell_type": "markdown",
   "id": "5d1be579-7a7f-4fce-9666-3f2a537649be",
   "metadata": {},
   "source": [
    "Model overfitted on the training data"
   ]
  },
  {
   "cell_type": "markdown",
   "id": "86451721-a96e-44bf-a57b-bbc90658e590",
   "metadata": {},
   "source": [
    "### Evaluate on test set"
   ]
  },
  {
   "cell_type": "code",
   "execution_count": 26,
   "id": "9221f866-cc51-4637-b2ac-7864347f5a2b",
   "metadata": {
    "execution": {
     "iopub.execute_input": "2025-09-03T03:01:48.439421Z",
     "iopub.status.busy": "2025-09-03T03:01:48.438680Z",
     "iopub.status.idle": "2025-09-03T03:01:48.453412Z",
     "shell.execute_reply": "2025-09-03T03:01:48.452503Z",
     "shell.execute_reply.started": "2025-09-03T03:01:48.439395Z"
    },
    "trusted": true
   },
   "outputs": [
    {
     "data": {
      "text/plain": [
       "<All keys matched successfully>"
      ]
     },
     "execution_count": 26,
     "metadata": {},
     "output_type": "execute_result"
    }
   ],
   "source": [
    "# load best model so far\n",
    "model.load_state_dict(\n",
    "    torch.load('/kaggle/working/lstm_best.pt', map_location='cuda')\n",
    ")"
   ]
  },
  {
   "cell_type": "code",
   "execution_count": 73,
   "id": "6d80f401-f751-4589-a51c-50ce237147fa",
   "metadata": {
    "execution": {
     "iopub.execute_input": "2025-09-03T03:36:33.230163Z",
     "iopub.status.busy": "2025-09-03T03:36:33.229665Z",
     "iopub.status.idle": "2025-09-03T03:36:33.234266Z",
     "shell.execute_reply": "2025-09-03T03:36:33.233490Z",
     "shell.execute_reply.started": "2025-09-03T03:36:33.230123Z"
    },
    "trusted": true
   },
   "outputs": [
    {
     "name": "stdout",
     "output_type": "stream",
     "text": [
      "Test loss = 3.6995\n",
      "Test perplexity =  40.4271\n"
     ]
    }
   ],
   "source": [
    "test_loss = evaluate(model, criterion, test_dataloader, device, vocab_size)\n",
    "print(f\"Test loss = {test_loss:.4f}\")\n",
    "print(f\"Test perplexity = {math.exp(test_loss): .4f}\")"
   ]
  },
  {
   "cell_type": "markdown",
   "id": "b6bfb9d9-f3c4-436f-bd0c-8837c674751b",
   "metadata": {},
   "source": [
    "### Sample text generation"
   ]
  },
  {
   "cell_type": "code",
   "execution_count": 59,
   "id": "d115b990-9dca-4c45-b8b6-db78bb59275d",
   "metadata": {
    "execution": {
     "iopub.execute_input": "2025-09-03T03:08:27.756005Z",
     "iopub.status.busy": "2025-09-03T03:08:27.755475Z",
     "iopub.status.idle": "2025-09-03T03:08:27.761826Z",
     "shell.execute_reply": "2025-09-03T03:08:27.761192Z",
     "shell.execute_reply.started": "2025-09-03T03:08:27.755983Z"
    },
    "trusted": true
   },
   "outputs": [],
   "source": [
    "def generate_text(model, tokenizer, start_text, max_new_tokens=200, temperature=1.0, device=\"cuda\"):\n",
    "    model.eval()\n",
    "    model.to(device)\n",
    "\n",
    "    # Encode start text into token IDs\n",
    "    input_ids = tokenizer.encode(start_text).ids\n",
    "    start_token_id = tokenizer.token_to_id(\"[BOS]\")\n",
    "    input_ids = torch.tensor([[start_token_id] + input_ids], dtype=torch.long).to(device)\n",
    "\n",
    "    hidden = None\n",
    "    generated_ids = input_ids[0].tolist()\n",
    "\n",
    "    with torch.no_grad():\n",
    "        for _ in range(max_new_tokens):\n",
    "            # Forward pass\n",
    "            logits, hidden = model(input_ids, hidden)\n",
    "\n",
    "            # Take last token's logits\n",
    "            logits = logits[:, -1, :]  # shape [batch, vocab_size]\n",
    "\n",
    "            # Apply temperature\n",
    "            probs = F.softmax(logits / temperature, dim=-1)\n",
    "\n",
    "            # Sample next token\n",
    "            next_id = torch.multinomial(probs, num_samples=1).item()\n",
    "\n",
    "            # Append\n",
    "            generated_ids.append(next_id)\n",
    "\n",
    "            if next_id == tokenizer.token_to_id(\"[EOS]\"):\n",
    "                break\n",
    "\n",
    "            # Prepare next input\n",
    "            input_ids = torch.tensor([[next_id]], dtype=torch.long).to(device)\n",
    "\n",
    "    # Decode back to text\n",
    "    return tokenizer.decode(generated_ids, skip_special_tokens=True)"
   ]
  },
  {
   "cell_type": "code",
   "execution_count": 94,
   "id": "607083a6-4c3b-464c-9284-8a56ed412e7e",
   "metadata": {
    "execution": {
     "iopub.execute_input": "2025-09-03T03:42:16.063028Z",
     "iopub.status.busy": "2025-09-03T03:42:16.062770Z",
     "iopub.status.idle": "2025-09-03T03:42:16.184703Z",
     "shell.execute_reply": "2025-09-03T03:42:16.184198Z",
     "shell.execute_reply.started": "2025-09-03T03:42:16.063011Z"
    },
    "trusted": true
   },
   "outputs": [],
   "source": [
    "start = \"in 1987\"\n",
    "text = generate_text(model, tokenizer, start, max_new_tokens=200, temperature=1.0, device=\"cuda\")"
   ]
  },
  {
   "cell_type": "code",
   "execution_count": 95,
   "id": "e17108bc-179e-4c42-8cd9-9f863f535d74",
   "metadata": {
    "execution": {
     "iopub.execute_input": "2025-09-03T03:42:17.725769Z",
     "iopub.status.busy": "2025-09-03T03:42:17.725181Z",
     "iopub.status.idle": "2025-09-03T03:42:17.730350Z",
     "shell.execute_reply": "2025-09-03T03:42:17.729724Z",
     "shell.execute_reply.started": "2025-09-03T03:42:17.725744Z"
    },
    "trusted": true
   },
   "outputs": [
    {
     "data": {
      "text/plain": [
       "\"in 1987 / 88 in is expected to rise by 565 billion markka in the day . said the way is set for stockpile projects . said that the government had no intention of up to 482 . 0 mln dlrs from 1986 last fall was effected in 1987 . said the results came after a 15 . 5 billion shilling rise a longer term treasury bills to non - to and at 34 . 50 dlrs per mcf to 49 . 80 pct compared with 953 mln dlrs , the 4 . 56 billion dlrs for year on 1 . bank did not revise up costs to date into account for new funds from the group ' s stock split and a minimum time public distribution of 6 . 0 mln - 6 . 4 mln dlrs or 1 . 46 dlrs from 32 . 25 dlrs a share . month , either managing franchise operations said . said reduced cuts and 38 business benefits of using all of the key issues had change . said if a bill is a 1 . 5 pct\""
      ]
     },
     "execution_count": 95,
     "metadata": {},
     "output_type": "execute_result"
    }
   ],
   "source": [
    "text"
   ]
  },
  {
   "cell_type": "code",
   "execution_count": 100,
   "id": "f3846e6f-56c9-4c9f-92ed-7e578c0a0855",
   "metadata": {
    "execution": {
     "iopub.execute_input": "2025-09-03T03:42:36.291424Z",
     "iopub.status.busy": "2025-09-03T03:42:36.291136Z",
     "iopub.status.idle": "2025-09-03T03:42:36.412363Z",
     "shell.execute_reply": "2025-09-03T03:42:36.411792Z",
     "shell.execute_reply.started": "2025-09-03T03:42:36.291404Z"
    },
    "trusted": true
   },
   "outputs": [],
   "source": [
    "start = \"united states\"\n",
    "text = generate_text(model, tokenizer, start, max_new_tokens=200, temperature=1.0, device=\"cuda\")"
   ]
  },
  {
   "cell_type": "code",
   "execution_count": 101,
   "id": "56cd8ca1-23fb-4d56-bfb2-1e86564e871b",
   "metadata": {
    "execution": {
     "iopub.execute_input": "2025-09-03T03:42:37.691124Z",
     "iopub.status.busy": "2025-09-03T03:42:37.690509Z",
     "iopub.status.idle": "2025-09-03T03:42:37.695421Z",
     "shell.execute_reply": "2025-09-03T03:42:37.694842Z",
     "shell.execute_reply.started": "2025-09-03T03:42:37.691102Z"
    },
    "trusted": true
   },
   "outputs": [
    {
     "data": {
      "text/plain": [
       "\"united states . branch has made clear that the company ' s bad results would only lead out of reserves and inflation and holding - boat loans after rapid steep fall and that existed for energy reserves and some management program and the other third of the area , is debtors in 1978 of foreign machinery products , including commercial oils , traders said . the agreement , it said . will meet with non - bank currency , which was to be firmer by the plant was remained around 25 pct after the next extreme monthly contract between petroleum and electricity mostly back to 9 . 8 billion dlrs from 4 . 99 billion dlrs in in 1986 , after rising 106 . 37 billion in , the sharp drop in non - intervention , which stood at 10 . 45 billion shares in the managing consecutive four straight large loans for vegetable oil and feed complex is set at around 92 , 280 , 000 tonnes , a lack of regulations , momentum , notably and exports during the second half for 1986 , the paper said a deficit of\""
      ]
     },
     "execution_count": 101,
     "metadata": {},
     "output_type": "execute_result"
    }
   ],
   "source": [
    "text"
   ]
  },
  {
   "cell_type": "markdown",
   "id": "7f5c0f9e-7960-4ed8-9753-d7d23b2d2c50",
   "metadata": {},
   "source": [
    "## Train model 2\n",
    "\n",
    "embed_size = 128\n",
    "hidden_size = 128\n",
    "num_layers = 2\n",
    "dropout_p = 0.3"
   ]
  },
  {
   "cell_type": "code",
   "execution_count": null,
   "id": "b6a7a8a9-55fa-4445-9fa1-558008ac0078",
   "metadata": {
    "trusted": true
   },
   "outputs": [],
   "source": [
    "# use higher dropout rate to prevent overfitting"
   ]
  },
  {
   "cell_type": "code",
   "execution_count": 71,
   "id": "b3193d18-953d-4e82-aaa0-97fa612a7931",
   "metadata": {
    "execution": {
     "iopub.execute_input": "2025-09-03T03:16:43.924913Z",
     "iopub.status.busy": "2025-09-03T03:16:43.924646Z",
     "iopub.status.idle": "2025-09-03T03:16:43.968399Z",
     "shell.execute_reply": "2025-09-03T03:16:43.967700Z",
     "shell.execute_reply.started": "2025-09-03T03:16:43.924893Z"
    },
    "trusted": true
   },
   "outputs": [
    {
     "data": {
      "text/plain": [
       "LSTMLanguageModel(\n",
       "  (embedding): Embedding(10000, 128)\n",
       "  (lstm): LSTM(128, 128, num_layers=2, batch_first=True, dropout=0.3)\n",
       "  (fc): Linear(in_features=128, out_features=10000, bias=True)\n",
       ")"
      ]
     },
     "execution_count": 71,
     "metadata": {},
     "output_type": "execute_result"
    }
   ],
   "source": [
    "torch.manual_seed(42)\n",
    "model_2 = LSTMLanguageModel(\n",
    "    vocab_size=tokenizer.get_vocab_size(),\n",
    "    embed_size=128,\n",
    "    hidden_size=128,\n",
    "    num_layers=2,\n",
    "    dropout_p=0.3\n",
    ")\n",
    "criterion = nn.CrossEntropyLoss()\n",
    "optimizer = torch.optim.AdamW(model_2.parameters(), lr=0.01)\n",
    "vocab_size = tokenizer.get_vocab_size()\n",
    "device = torch.device(\"cuda\" if torch.cuda.is_available() else \"cpu\")\n",
    "model_2.to(device)"
   ]
  },
  {
   "cell_type": "code",
   "execution_count": 72,
   "id": "bfe95e94-cc9b-43ad-8180-549440c47d5b",
   "metadata": {
    "execution": {
     "iopub.execute_input": "2025-09-03T03:16:46.485625Z",
     "iopub.status.busy": "2025-09-03T03:16:46.484962Z",
     "iopub.status.idle": "2025-09-03T03:36:24.504681Z",
     "shell.execute_reply": "2025-09-03T03:36:24.503978Z",
     "shell.execute_reply.started": "2025-09-03T03:16:46.485603Z"
    },
    "trusted": true
   },
   "outputs": [
    {
     "name": "stdout",
     "output_type": "stream",
     "text": [
      "Epoch: 1.\n",
      "Train loss = 4.1692, Validation loss = 3.7613\n",
      "Train perplexity =  64.6607, Validation perplexity =  43.0050\n",
      "****************************************************************************************************\n",
      "Epoch: 2.\n",
      "Train loss = 3.4822, Validation loss = 3.6044\n",
      "Train perplexity =  32.5305, Validation perplexity =  36.7605\n",
      "****************************************************************************************************\n",
      "Epoch: 3.\n",
      "Train loss = 3.2532, Validation loss = 3.5805\n",
      "Train perplexity =  25.8726, Validation perplexity =  35.8921\n",
      "****************************************************************************************************\n",
      "Epoch: 4.\n",
      "Train loss = 3.1384, Validation loss = 3.5882\n",
      "Train perplexity =  23.0674, Validation perplexity =  36.1681\n",
      "****************************************************************************************************\n",
      "Epoch: 5.\n",
      "Train loss = 3.0705, Validation loss = 3.6003\n",
      "Train perplexity =  21.5520, Validation perplexity =  36.6099\n",
      "****************************************************************************************************\n",
      "Epoch: 6.\n",
      "Train loss = 3.0242, Validation loss = 3.6095\n",
      "Train perplexity =  20.5781, Validation perplexity =  36.9487\n",
      "****************************************************************************************************\n",
      "Epoch: 7.\n",
      "Train loss = 2.9909, Validation loss = 3.6175\n",
      "Train perplexity =  19.9034, Validation perplexity =  37.2428\n",
      "****************************************************************************************************\n",
      "Epoch: 8.\n",
      "Train loss = 2.9652, Validation loss = 3.6283\n",
      "Train perplexity =  19.3986, Validation perplexity =  37.6474\n",
      "****************************************************************************************************\n",
      "Epoch: 9.\n",
      "Train loss = 2.9452, Validation loss = 3.6314\n",
      "Train perplexity =  19.0154, Validation perplexity =  37.7669\n",
      "****************************************************************************************************\n",
      "Epoch: 10.\n",
      "Train loss = 2.9287, Validation loss = 3.6368\n",
      "Train perplexity =  18.7035, Validation perplexity =  37.9719\n",
      "****************************************************************************************************\n",
      "Training took  1178.01 seconds\n"
     ]
    }
   ],
   "source": [
    "best_val_loss = float('inf')\n",
    "train_losses = []\n",
    "val_losses = []\n",
    "NUM_EPOCHS = 10\n",
    "\n",
    "start_time = time.time()\n",
    "\n",
    "for epoch in range(NUM_EPOCHS):\n",
    "    train_loss = train(model_2, criterion, optimizer, train_dataloader, device, vocab_size)\n",
    "    val_loss = evaluate(model_2, criterion, val_dataloader, device, vocab_size)\n",
    "\n",
    "    # save model with best validation loss each time\n",
    "    if val_loss < best_val_loss:\n",
    "        best_val_loss = val_loss\n",
    "        torch.save(model_2.state_dict(), \"lstm_best_2.pt\")\n",
    "\n",
    "    train_losses.append(train_loss)\n",
    "    val_losses.append(val_loss)\n",
    "\n",
    "    print(f\"Epoch: {epoch + 1}.\")\n",
    "    print(f\"Train loss = {train_loss:.4f}, Validation loss = {val_loss:.4f}\")\n",
    "    print(f\"Train perplexity = {math.exp(train_loss): .4f}, Validation perplexity = {math.exp(val_loss): .4f}\")\n",
    "    print(\"*\" * 100)\n",
    "\n",
    "end_time = time.time()\n",
    "\n",
    "print(f\"Training took {end_time - start_time: .2f} seconds\")"
   ]
  },
  {
   "cell_type": "markdown",
   "id": "26fadf9a-cce1-48ec-925f-06c6f889be02",
   "metadata": {},
   "source": [
    "### Plot training and validation loss curves"
   ]
  },
  {
   "cell_type": "code",
   "execution_count": 77,
   "id": "5e953d53-81b7-4dbd-8ae4-7ef18bb60b4d",
   "metadata": {
    "execution": {
     "iopub.execute_input": "2025-09-03T03:38:09.185449Z",
     "iopub.status.busy": "2025-09-03T03:38:09.185176Z",
     "iopub.status.idle": "2025-09-03T03:38:09.365778Z",
     "shell.execute_reply": "2025-09-03T03:38:09.365169Z",
     "shell.execute_reply.started": "2025-09-03T03:38:09.185430Z"
    },
    "trusted": true
   },
   "outputs": [
    {
     "data": {
      "image/png": "[encoded data removed]",
      "text/plain": [
       "<Figure size 1500x1000 with 1 Axes>"
      ]
     },
     "metadata": {},
     "output_type": "display_data"
    }
   ],
   "source": [
    "plt.figure(figsize=(15, 10))\n",
    "plt.plot(train_losses, label='train_loss')\n",
    "plt.plot(val_losses,label='val_loss')\n",
    "plt.legend()\n",
    "plt.show()"
   ]
  },
  {
   "cell_type": "markdown",
   "id": "01ce5ce9-b98a-4628-a2f7-c569f2adb635",
   "metadata": {},
   "source": [
    "### Evaluate on test set"
   ]
  },
  {
   "cell_type": "code",
   "execution_count": 75,
   "id": "465417bd-2851-46f8-9407-58c15aa18417",
   "metadata": {
    "execution": {
     "iopub.execute_input": "2025-09-03T03:37:52.324591Z",
     "iopub.status.busy": "2025-09-03T03:37:52.324345Z",
     "iopub.status.idle": "2025-09-03T03:37:52.340072Z",
     "shell.execute_reply": "2025-09-03T03:37:52.339429Z",
     "shell.execute_reply.started": "2025-09-03T03:37:52.324575Z"
    },
    "trusted": true
   },
   "outputs": [
    {
     "data": {
      "text/plain": [
       "<All keys matched successfully>"
      ]
     },
     "execution_count": 75,
     "metadata": {},
     "output_type": "execute_result"
    }
   ],
   "source": [
    "model_2.load_state_dict(\n",
    "    torch.load('/kaggle/working/lstm_best_2.pt', map_location='cuda')\n",
    ")"
   ]
  },
  {
   "cell_type": "code",
   "execution_count": 76,
   "id": "1d99dbc3-8cba-415c-8863-345fecd2bf06",
   "metadata": {
    "execution": {
     "iopub.execute_input": "2025-09-03T03:37:54.387108Z",
     "iopub.status.busy": "2025-09-03T03:37:54.386825Z",
     "iopub.status.idle": "2025-09-03T03:38:01.185025Z",
     "shell.execute_reply": "2025-09-03T03:38:01.184438Z",
     "shell.execute_reply.started": "2025-09-03T03:37:54.387089Z"
    },
    "trusted": true
   },
   "outputs": [
    {
     "name": "stdout",
     "output_type": "stream",
     "text": [
      "Test loss = 3.6457\n",
      "Test perplexity =  38.3114\n"
     ]
    }
   ],
   "source": [
    "test_loss = evaluate(model_2, criterion, test_dataloader, device, vocab_size)\n",
    "print(f\"Test loss = {test_loss:.4f}\")\n",
    "print(f\"Test perplexity = {math.exp(test_loss): .4f}\")"
   ]
  },
  {
   "cell_type": "markdown",
   "id": "5a74c7bf-6406-4194-9096-15928deb6c9a",
   "metadata": {},
   "source": [
    "### Sample text generation"
   ]
  },
  {
   "cell_type": "code",
   "execution_count": 106,
   "id": "df85f81e-1b4b-4b75-8926-95b3563dea40",
   "metadata": {
    "execution": {
     "iopub.execute_input": "2025-09-03T03:43:12.226243Z",
     "iopub.status.busy": "2025-09-03T03:43:12.225432Z",
     "iopub.status.idle": "2025-09-03T03:43:12.349052Z",
     "shell.execute_reply": "2025-09-03T03:43:12.348310Z",
     "shell.execute_reply.started": "2025-09-03T03:43:12.226217Z"
    },
    "trusted": true
   },
   "outputs": [],
   "source": [
    "start = \"in 1987\"\n",
    "text = generate_text(model_2, tokenizer, start, max_new_tokens=200, temperature=1.0, device=\"cuda\")"
   ]
  },
  {
   "cell_type": "code",
   "execution_count": 107,
   "id": "3689c990-a46f-4621-a5ba-dc5f888d232b",
   "metadata": {
    "execution": {
     "iopub.execute_input": "2025-09-03T03:43:13.552009Z",
     "iopub.status.busy": "2025-09-03T03:43:13.551554Z",
     "iopub.status.idle": "2025-09-03T03:43:13.556414Z",
     "shell.execute_reply": "2025-09-03T03:43:13.555865Z",
     "shell.execute_reply.started": "2025-09-03T03:43:13.551987Z"
    },
    "trusted": true
   },
   "outputs": [
    {
     "data": {
      "text/plain": [
       "'in 1987 / 88 nuclear summit has pledged to cut demand for the large components , which are subject to statements to continued support for last \\' s sharp rise in the tin economy as \\' s performance in the second half of 1987 export levels . estimated the field \\' s 538 mln dlr reported to its three major firms performed over the present grains area while the international market market share were expected to be . \" have not established efforts to stabilise a problem that might easily protect the company ,\" said . \" \\' s not reacting to central bank thought that there were an immediate change between two times ,\" said . \" we are not going to now break beyond at about 100 . 50 marks or any change in an government the yen amount of a means that gross national product growth ,\" told the said he was extremely important , up strongly the highly difficult . analysts will also say the conflict used , however , the internal tech and industry will be to assure the makers to push'"
      ]
     },
     "execution_count": 107,
     "metadata": {},
     "output_type": "execute_result"
    }
   ],
   "source": [
    "text"
   ]
  },
  {
   "cell_type": "code",
   "execution_count": 84,
   "id": "101203e3-3135-4d3b-8862-4358dd6953dc",
   "metadata": {
    "execution": {
     "iopub.execute_input": "2025-09-03T03:40:18.473470Z",
     "iopub.status.busy": "2025-09-03T03:40:18.473179Z",
     "iopub.status.idle": "2025-09-03T03:40:18.603135Z",
     "shell.execute_reply": "2025-09-03T03:40:18.602380Z",
     "shell.execute_reply.started": "2025-09-03T03:40:18.473449Z"
    },
    "trusted": true
   },
   "outputs": [],
   "source": [
    "start = \"united states\"\n",
    "text = generate_text(model_2, tokenizer, start, max_new_tokens=200, temperature=1.0, device=\"cuda\")"
   ]
  },
  {
   "cell_type": "code",
   "execution_count": 85,
   "id": "fd1ff255-4226-471c-9f63-3e5887f205c1",
   "metadata": {
    "execution": {
     "iopub.execute_input": "2025-09-03T03:40:20.040705Z",
     "iopub.status.busy": "2025-09-03T03:40:20.040450Z",
     "iopub.status.idle": "2025-09-03T03:40:20.045313Z",
     "shell.execute_reply": "2025-09-03T03:40:20.044770Z",
     "shell.execute_reply.started": "2025-09-03T03:40:20.040687Z"
    },
    "trusted": true
   },
   "outputs": [
    {
     "data": {
      "text/plain": [
       "'united states to slash production at an estimated 52 pct by es 1986 . the daily revenue of , said it forecast the shortage of 15 . 8 to 34 . 0 pct to 270 tons behind the half - half point in . demand had fallen 6 . 70 pct from 4 . 825 pct in 1986 , money center statistics show seven to four pct net profits in the second half of 1986 compared with forecast last year when figures to the bank sales contributed to its latest year . heavy weather were well stocked with treasury operations in 1986 , partly maturing in the gross national debt . \" private sector growth is likely to grow , due mainly to further growth adjustments by the future money market liquidity at 15 . 9 billion dollars ( ) a short - term costs and cutting in which benefit cuts had stocks . said he supported were . were not immediately available for service exports . banks were now worried about the picture among a rate shift by a major'"
      ]
     },
     "execution_count": 85,
     "metadata": {},
     "output_type": "execute_result"
    }
   ],
   "source": [
    "text"
   ]
  },
  {
   "cell_type": "markdown",
   "id": "08efd3e3-0eed-4de4-a80e-498e834fccde",
   "metadata": {},
   "source": [
    "## Train model 3\n",
    "\n",
    "embed_size = 128\n",
    "hidden_size = 128\n",
    "num_layers = 2\n",
    "dropout_p = 0.1\n",
    "\n",
    "Using subword tokenization (BPE) instead"
   ]
  },
  {
   "cell_type": "code",
   "execution_count": 112,
   "id": "3e920e93-c8a4-4c67-9801-3168759e25d6",
   "metadata": {
    "execution": {
     "iopub.execute_input": "2025-09-03T03:44:56.610883Z",
     "iopub.status.busy": "2025-09-03T03:44:56.610622Z",
     "iopub.status.idle": "2025-09-03T03:44:57.485517Z",
     "shell.execute_reply": "2025-09-03T03:44:57.484738Z",
     "shell.execute_reply.started": "2025-09-03T03:44:56.610863Z"
    },
    "trusted": true
   },
   "outputs": [
    {
     "name": "stdout",
     "output_type": "stream",
     "text": [
      "\n",
      "\n",
      "\n"
     ]
    }
   ],
   "source": [
    "tokenizer, trainer = create_tokenizer_trainer(byte_pair=True, vocab_size=10000)\n",
    "tokenizer.train_from_iterator(train_data, trainer)"
   ]
  },
  {
   "cell_type": "code",
   "execution_count": 113,
   "id": "c2f61e0b-f4ba-45bd-8822-01b6259d4e93",
   "metadata": {
    "execution": {
     "iopub.execute_input": "2025-09-03T03:44:57.970039Z",
     "iopub.status.busy": "2025-09-03T03:44:57.969773Z",
     "iopub.status.idle": "2025-09-03T03:45:02.392714Z",
     "shell.execute_reply": "2025-09-03T03:45:02.392101Z",
     "shell.execute_reply.started": "2025-09-03T03:44:57.970022Z"
    },
    "trusted": true
   },
   "outputs": [],
   "source": [
    "train_processed = encode_text(train_ids, tokenizer)\n",
    "val_processed = encode_text(val_ids, tokenizer)\n",
    "test_processed = encode_text(test_ids, tokenizer)"
   ]
  },
  {
   "cell_type": "code",
   "execution_count": 114,
   "id": "103691c5-635f-4db9-8830-805ac4c40e2c",
   "metadata": {
    "execution": {
     "iopub.execute_input": "2025-09-03T03:45:34.989085Z",
     "iopub.status.busy": "2025-09-03T03:45:34.988455Z",
     "iopub.status.idle": "2025-09-03T03:45:38.068750Z",
     "shell.execute_reply": "2025-09-03T03:45:38.068209Z",
     "shell.execute_reply.started": "2025-09-03T03:45:34.989060Z"
    },
    "trusted": true
   },
   "outputs": [],
   "source": [
    "train_dataset = ReutersDataset(train_processed)\n",
    "val_dataset = ReutersDataset(val_processed)\n",
    "test_dataset = ReutersDataset(test_processed)\n",
    "\n",
    "train_dataloader = DataLoader(train_dataset, batch_size=1024, shuffle=True)\n",
    "val_dataloader = DataLoader(val_dataset, batch_size=1024, shuffle=True)\n",
    "test_dataloader = DataLoader(test_dataset, batch_size=1024, shuffle=True)"
   ]
  },
  {
   "cell_type": "code",
   "execution_count": 115,
   "id": "c483c114-543d-4c01-a676-9733970d1e6c",
   "metadata": {
    "execution": {
     "iopub.execute_input": "2025-09-03T03:47:14.922720Z",
     "iopub.status.busy": "2025-09-03T03:47:14.922021Z",
     "iopub.status.idle": "2025-09-03T03:47:14.963639Z",
     "shell.execute_reply": "2025-09-03T03:47:14.962940Z",
     "shell.execute_reply.started": "2025-09-03T03:47:14.922697Z"
    },
    "trusted": true
   },
   "outputs": [
    {
     "data": {
      "text/plain": [
       "LSTMLanguageModel(\n",
       "  (embedding): Embedding(10000, 128)\n",
       "  (lstm): LSTM(128, 128, num_layers=2, batch_first=True, dropout=0.1)\n",
       "  (fc): Linear(in_features=128, out_features=10000, bias=True)\n",
       ")"
      ]
     },
     "execution_count": 115,
     "metadata": {},
     "output_type": "execute_result"
    }
   ],
   "source": [
    "torch.manual_seed(42)\n",
    "model_3 = LSTMLanguageModel(\n",
    "    vocab_size=tokenizer.get_vocab_size(),\n",
    "    embed_size=128,\n",
    "    hidden_size=128,\n",
    "    num_layers=2,\n",
    "    dropout_p=0.1\n",
    ")\n",
    "criterion = nn.CrossEntropyLoss()\n",
    "optimizer = torch.optim.AdamW(model_3.parameters(), lr=0.01)\n",
    "vocab_size = tokenizer.get_vocab_size()\n",
    "device = torch.device(\"cuda\" if torch.cuda.is_available() else \"cpu\")\n",
    "model_3.to(device)"
   ]
  },
  {
   "cell_type": "code",
   "execution_count": 116,
   "id": "59e9168c-09b4-4832-86f6-9ab5f003b399",
   "metadata": {
    "execution": {
     "iopub.execute_input": "2025-09-03T03:47:18.415124Z",
     "iopub.status.busy": "2025-09-03T03:47:18.414847Z",
     "iopub.status.idle": "2025-09-03T04:17:32.994182Z",
     "shell.execute_reply": "2025-09-03T04:17:32.993523Z",
     "shell.execute_reply.started": "2025-09-03T03:47:18.415098Z"
    },
    "trusted": true
   },
   "outputs": [
    {
     "name": "stdout",
     "output_type": "stream",
     "text": [
      "Epoch: 1.\n",
      "Train loss = 3.5641, Validation loss = 3.3105\n",
      "Train perplexity =  35.3084, Validation perplexity =  27.3975\n",
      "****************************************************************************************************\n",
      "Epoch: 2.\n",
      "Train loss = 2.9145, Validation loss = 3.2419\n",
      "Train perplexity =  18.4401, Validation perplexity =  25.5818\n",
      "****************************************************************************************************\n",
      "Epoch: 3.\n",
      "Train loss = 2.7343, Validation loss = 3.2539\n",
      "Train perplexity =  15.3987, Validation perplexity =  25.8900\n",
      "****************************************************************************************************\n",
      "Epoch: 4.\n",
      "Train loss = 2.6459, Validation loss = 3.2664\n",
      "Train perplexity =  14.0964, Validation perplexity =  26.2160\n",
      "****************************************************************************************************\n",
      "Epoch: 5.\n",
      "Train loss = 2.5927, Validation loss = 3.2808\n",
      "Train perplexity =  13.3653, Validation perplexity =  26.5966\n",
      "****************************************************************************************************\n",
      "Epoch: 6.\n",
      "Train loss = 2.5568, Validation loss = 3.2862\n",
      "Train perplexity =  12.8949, Validation perplexity =  26.7398\n",
      "****************************************************************************************************\n",
      "Epoch: 7.\n",
      "Train loss = 2.5309, Validation loss = 3.3006\n",
      "Train perplexity =  12.5647, Validation perplexity =  27.1291\n",
      "****************************************************************************************************\n",
      "Epoch: 8.\n",
      "Train loss = 2.5109, Validation loss = 3.3057\n",
      "Train perplexity =  12.3158, Validation perplexity =  27.2663\n",
      "****************************************************************************************************\n",
      "Epoch: 9.\n",
      "Train loss = 2.4948, Validation loss = 3.3060\n",
      "Train perplexity =  12.1195, Validation perplexity =  27.2765\n",
      "****************************************************************************************************\n",
      "Epoch: 10.\n",
      "Train loss = 2.4814, Validation loss = 3.3149\n",
      "Train perplexity =  11.9584, Validation perplexity =  27.5197\n",
      "****************************************************************************************************\n",
      "Training took  1814.57 seconds\n"
     ]
    }
   ],
   "source": [
    "best_val_loss = float('inf')\n",
    "train_losses = []\n",
    "val_losses = []\n",
    "NUM_EPOCHS = 10\n",
    "\n",
    "start_time = time.time()\n",
    "\n",
    "for epoch in range(NUM_EPOCHS):\n",
    "    train_loss = train(model_3, criterion, optimizer, train_dataloader, device, vocab_size)\n",
    "    val_loss = evaluate(model_3, criterion, val_dataloader, device, vocab_size)\n",
    "\n",
    "    # save model with best validation loss each time\n",
    "    if val_loss < best_val_loss:\n",
    "        best_val_loss = val_loss\n",
    "        torch.save(model_3.state_dict(), \"lstm_best_3.pt\")\n",
    "\n",
    "    train_losses.append(train_loss)\n",
    "    val_losses.append(val_loss)\n",
    "\n",
    "    print(f\"Epoch: {epoch + 1}.\")\n",
    "    print(f\"Train loss = {train_loss:.4f}, Validation loss = {val_loss:.4f}\")\n",
    "    print(f\"Train perplexity = {math.exp(train_loss): .4f}, Validation perplexity = {math.exp(val_loss): .4f}\")\n",
    "    print(\"*\" * 100)\n",
    "\n",
    "end_time = time.time()\n",
    "\n",
    "print(f\"Training took {end_time - start_time: .2f} seconds\")"
   ]
  },
  {
   "cell_type": "markdown",
   "id": "c86629b4-d303-4de9-acb0-a115bf534222",
   "metadata": {},
   "source": [
    "### Plot training and validation loss curves"
   ]
  },
  {
   "cell_type": "code",
   "execution_count": 117,
   "id": "815ae4eb-f07f-4d09-923c-363e21bba10a",
   "metadata": {
    "execution": {
     "iopub.execute_input": "2025-09-03T04:18:44.586379Z",
     "iopub.status.busy": "2025-09-03T04:18:44.585650Z",
     "iopub.status.idle": "2025-09-03T04:18:44.755659Z",
     "shell.execute_reply": "2025-09-03T04:18:44.754912Z",
     "shell.execute_reply.started": "2025-09-03T04:18:44.586357Z"
    },
    "trusted": true
   },
   "outputs": [
    {
     "data": {
      "image/png": "[encoded data removed]",
      "text/plain": [
       "<Figure size 1500x1000 with 1 Axes>"
      ]
     },
     "metadata": {},
     "output_type": "display_data"
    }
   ],
   "source": [
    "plt.figure(figsize=(15, 10))\n",
    "plt.plot(train_losses, label='train_loss')\n",
    "plt.plot(val_losses,label='val_loss')\n",
    "plt.legend()\n",
    "plt.show()"
   ]
  },
  {
   "cell_type": "markdown",
   "id": "a505a969-a8c0-4e07-9f8c-2cf1bcc79010",
   "metadata": {},
   "source": [
    "### Evaluate against test data"
   ]
  },
  {
   "cell_type": "code",
   "execution_count": 118,
   "id": "f95dfdca-ace7-4eab-b55a-711bd549e946",
   "metadata": {
    "execution": {
     "iopub.execute_input": "2025-09-03T04:18:51.747589Z",
     "iopub.status.busy": "2025-09-03T04:18:51.747326Z",
     "iopub.status.idle": "2025-09-03T04:18:51.761793Z",
     "shell.execute_reply": "2025-09-03T04:18:51.761174Z",
     "shell.execute_reply.started": "2025-09-03T04:18:51.747570Z"
    },
    "trusted": true
   },
   "outputs": [
    {
     "data": {
      "text/plain": [
       "<All keys matched successfully>"
      ]
     },
     "execution_count": 118,
     "metadata": {},
     "output_type": "execute_result"
    }
   ],
   "source": [
    "model_3.load_state_dict(\n",
    "    torch.load('/kaggle/working/lstm_best_3.pt', map_location='cuda')\n",
    ")"
   ]
  },
  {
   "cell_type": "code",
   "execution_count": 119,
   "id": "ea97761a-8129-4f2b-824b-343fc4ae7a60",
   "metadata": {
    "execution": {
     "iopub.execute_input": "2025-09-03T04:18:54.196282Z",
     "iopub.status.busy": "2025-09-03T04:18:54.195793Z",
     "iopub.status.idle": "2025-09-03T04:19:04.192652Z",
     "shell.execute_reply": "2025-09-03T04:19:04.192057Z",
     "shell.execute_reply.started": "2025-09-03T04:18:54.196259Z"
    },
    "trusted": true
   },
   "outputs": [
    {
     "name": "stdout",
     "output_type": "stream",
     "text": [
      "Test loss = 3.3018\n",
      "Test perplexity =  27.1619\n"
     ]
    }
   ],
   "source": [
    "test_loss = evaluate(model_3, criterion, test_dataloader, device, vocab_size)\n",
    "print(f\"Test loss = {test_loss:.4f}\")\n",
    "print(f\"Test perplexity = {math.exp(test_loss): .4f}\")"
   ]
  },
  {
   "cell_type": "markdown",
   "id": "a75bfb60-b402-43db-b397-faa9b728939e",
   "metadata": {},
   "source": [
    "### Sample text generation"
   ]
  },
  {
   "cell_type": "code",
   "execution_count": 120,
   "id": "b17531d7-ad08-4fe6-96c5-ee8d50b12f2a",
   "metadata": {
    "execution": {
     "iopub.execute_input": "2025-09-03T04:19:14.884894Z",
     "iopub.status.busy": "2025-09-03T04:19:14.884322Z",
     "iopub.status.idle": "2025-09-03T04:19:15.010629Z",
     "shell.execute_reply": "2025-09-03T04:19:15.009913Z",
     "shell.execute_reply.started": "2025-09-03T04:19:14.884873Z"
    },
    "trusted": true
   },
   "outputs": [],
   "source": [
    "start = \"in 1987\"\n",
    "text = generate_text(model_3, tokenizer, start, max_new_tokens=200, temperature=1.0, device=\"cuda\")"
   ]
  },
  {
   "cell_type": "code",
   "execution_count": 121,
   "id": "053a602a-6ecd-4f99-974f-e55a55f097fd",
   "metadata": {
    "execution": {
     "iopub.execute_input": "2025-09-03T04:19:16.802233Z",
     "iopub.status.busy": "2025-09-03T04:19:16.801960Z",
     "iopub.status.idle": "2025-09-03T04:19:16.806835Z",
     "shell.execute_reply": "2025-09-03T04:19:16.806119Z",
     "shell.execute_reply.started": "2025-09-03T04:19:16.802213Z"
    },
    "trusted": true
   },
   "outputs": [
    {
     "data": {
      "text/plain": [
       "'in 1987 deposits after up 38 . 5 pct from ply 30 mln dlrs from 10 . 25 mln barrels in 1986 because the current account low of around 813 , 000 tonnes of gasoline from the . . t output in the corresponding fiscal year . nd er many fields representing up to 101 mln stg in band one from the ac ific t for the week after the expected demand ,\" said ner gy o , said . red it or por ate and international prices exchange for the half - bonus gain in four mths , of its pipeline acreage allow ances it \\' s equity certificate of living index , r it ain . m per ial statistics covered to ol ly field and remains strong , from 10 pct , and cheaper oil cereal exports . he quake damaged three - month bills were slightly in being crucial to contain current bullish policies to bring moder raid er . e also announced seasonal fluctuations for the late 1970s , he said . \" y had not yet bottomed out ,\" said'"
      ]
     },
     "execution_count": 121,
     "metadata": {},
     "output_type": "execute_result"
    }
   ],
   "source": [
    "text"
   ]
  },
  {
   "cell_type": "code",
   "execution_count": 122,
   "id": "995bd2dc-54c0-4211-b1ce-30fb5efa055e",
   "metadata": {
    "execution": {
     "iopub.execute_input": "2025-09-03T04:19:26.107731Z",
     "iopub.status.busy": "2025-09-03T04:19:26.107465Z",
     "iopub.status.idle": "2025-09-03T04:19:26.233682Z",
     "shell.execute_reply": "2025-09-03T04:19:26.233123Z",
     "shell.execute_reply.started": "2025-09-03T04:19:26.107711Z"
    },
    "trusted": true
   },
   "outputs": [],
   "source": [
    "start = \"united states\"\n",
    "text = generate_text(model_3, tokenizer, start, max_new_tokens=200, temperature=1.0, device=\"cuda\")"
   ]
  },
  {
   "cell_type": "code",
   "execution_count": 123,
   "id": "02baf230-99b4-4cfc-b2b5-f6515890405c",
   "metadata": {
    "execution": {
     "iopub.execute_input": "2025-09-03T04:19:27.547680Z",
     "iopub.status.busy": "2025-09-03T04:19:27.547422Z",
     "iopub.status.idle": "2025-09-03T04:19:27.552394Z",
     "shell.execute_reply": "2025-09-03T04:19:27.551658Z",
     "shell.execute_reply.started": "2025-09-03T04:19:27.547661Z"
    },
    "trusted": true
   },
   "outputs": [
    {
     "data": {
      "text/plain": [
       "'united states deposits will remain in effect that both seriously equity transactions to the broadcast of el g ium \\' s ail i ay .. om ura e utter said nothing being promo ted whether this were above normal . he said today that was worries about their purchases to - o ve mber 9 to 25 through ships for the ing apo re cents in band two to 20 pct in ug ust / an uary compared with 6 . 5 pct on 1985 ) of soft wheat are 2 . 16 pct , down from 4 . 76 billion . maize in the eastern half of reserve for particular reducing wheat liquidity t earlier , healthy criteria . he care of unemployment reserve other products during the morning session and the meeting is a 3 . 5 pct increase . ne dlr in the perception volume to be adjusted by an earthquake totaled 9 , 064 . 1 mln outstanding . t noted that sub ists say that \" on rac \\' s beef import fee has been delayed as'"
      ]
     },
     "execution_count": 123,
     "metadata": {},
     "output_type": "execute_result"
    }
   ],
   "source": [
    "text"
   ]
  }
 ],
 "metadata": {
  "kaggle": {
   "accelerator": "gpu",
   "dataSources": [],
   "dockerImageVersionId": 31089,
   "isGpuEnabled": true,
   "isInternetEnabled": true,
   "language": "python",
   "sourceType": "notebook"
  },
  "kernelspec": {
   "display_name": "natural-language-processing-py3.12",
   "language": "python",
   "name": "python3"
  },
  "language_info": {
   "codemirror_mode": {
    "name": "ipython",
    "version": 3
   },
   "file_extension": ".py",
   "mimetype": "text/x-python",
   "name": "python",
   "nbconvert_exporter": "python",
   "pygments_lexer": "ipython3",
   "version": "3.12.1"
  }
 },
 "nbformat": 4,
 "nbformat_minor": 5
}
