{
 "cells": [
  {
   "cell_type": "markdown",
   "metadata": {},
   "source": [
    "## Finetune BERT with LoRA"
   ]
  },
  {
   "cell_type": "code",
   "execution_count": null,
   "metadata": {
    "execution": {
     "iopub.execute_input": "2025-10-08T10:30:06.289267Z",
     "iopub.status.busy": "2025-10-08T10:30:06.288911Z",
     "iopub.status.idle": "2025-10-08T10:30:36.707248Z",
     "shell.execute_reply": "2025-10-08T10:30:36.706413Z",
     "shell.execute_reply.started": "2025-10-08T10:30:06.289232Z"
    },
    "trusted": true
   },
   "outputs": [
    {
     "name": "stderr",
     "output_type": "stream",
     "text": [
      "2025-10-08 10:30:19.490589: E external/local_xla/xla/stream_executor/cuda/cuda_fft.cc:477] Unable to register cuFFT factory: Attempting to register factory for plugin cuFFT when one has already been registered\n",
      "WARNING: All log messages before absl::InitializeLog() is called are written to STDERR\n",
      "E0000 00:00:1759919419.699129      36 cuda_dnn.cc:8310] Unable to register cuDNN factory: Attempting to register factory for plugin cuDNN when one has already been registered\n",
      "E0000 00:00:1759919419.758167      36 cuda_blas.cc:1418] Unable to register cuBLAS factory: Attempting to register factory for plugin cuBLAS when one has already been registered\n"
     ]
    }
   ],
   "source": [
    "import numpy as np\n",
    "import pandas as pd\n",
    "import matplotlib.pyplot as plt\n",
    "import seaborn as sns\n",
    "\n",
    "from sklearn.metrics import confusion_matrix, roc_curve, roc_auc_score, auc, accuracy_score, precision_recall_fscore_support, classification_report, precision_recall_curve, average_precision_score\n",
    "from sklearn.preprocessing import label_binarize\n",
    "\n",
    "from dotenv import load_dotenv\n",
    "import os\n",
    "os.environ[\"WANDB_DISABLED\"] = \"true\"\n",
    "\n",
    "from huggingface_hub import login\n",
    "\n",
    "import evaluate\n",
    "\n",
    "from datasets import load_dataset\n",
    "\n",
    "from transformers import AutoTokenizer\n",
    "from transformers import AutoModelForSequenceClassification\n",
    "from transformers import TrainingArguments, Trainer\n",
    "from transformers import logging\n",
    "\n",
    "from peft import get_peft_model, LoraConfig, TaskType, PeftModel\n",
    "\n",
    "import time\n",
    "\n",
    "import torch\n",
    "\n",
    "load_dotenv()"
   ]
  },
  {
   "cell_type": "code",
   "execution_count": null,
   "metadata": {
    "execution": {
     "iopub.execute_input": "2025-10-08T10:30:36.708951Z",
     "iopub.status.busy": "2025-10-08T10:30:36.708271Z",
     "iopub.status.idle": "2025-10-08T10:30:36.852667Z",
     "shell.execute_reply": "2025-10-08T10:30:36.851779Z",
     "shell.execute_reply.started": "2025-10-08T10:30:36.708929Z"
    },
    "trusted": true
   },
   "outputs": [],
   "source": [
    "login(os.getenv('HUGGINGFACE_API_KEY'))"
   ]
  },
  {
   "cell_type": "code",
   "execution_count": 4,
   "metadata": {
    "execution": {
     "iopub.execute_input": "2025-10-08T10:30:36.853802Z",
     "iopub.status.busy": "2025-10-08T10:30:36.853564Z",
     "iopub.status.idle": "2025-10-08T10:30:39.685227Z",
     "shell.execute_reply": "2025-10-08T10:30:39.684620Z",
     "shell.execute_reply.started": "2025-10-08T10:30:36.853777Z"
    },
    "trusted": true
   },
   "outputs": [
    {
     "data": {
      "application/vnd.jupyter.widget-view+json": {
       "model_id": "398ebb7d37074237b4f7ceadf1788ceb",
       "version_major": 2,
       "version_minor": 0
      },
      "text/plain": [
       "README.md:   0%|          | 0.00/547 [00:00<?, ?B/s]"
      ]
     },
     "metadata": {},
     "output_type": "display_data"
    },
    {
     "data": {
      "application/vnd.jupyter.widget-view+json": {
       "model_id": "b5e5ae0c3a7c4775ba15aba843a9ea8e",
       "version_major": 2,
       "version_minor": 0
      },
      "text/plain": [
       "data/train-00000-of-00001.parquet:   0%|          | 0.00/349k [00:00<?, ?B/s]"
      ]
     },
     "metadata": {},
     "output_type": "display_data"
    },
    {
     "data": {
      "application/vnd.jupyter.widget-view+json": {
       "model_id": "9a9727da389f456f85832bb416cffb37",
       "version_major": 2,
       "version_minor": 0
      },
      "text/plain": [
       "data/validation-00000-of-00001.parquet:   0%|          | 0.00/45.4k [00:00<?, ?B/s]"
      ]
     },
     "metadata": {},
     "output_type": "display_data"
    },
    {
     "data": {
      "application/vnd.jupyter.widget-view+json": {
       "model_id": "b1fcd6cdf0794be2b6f73d7984114016",
       "version_major": 2,
       "version_minor": 0
      },
      "text/plain": [
       "data/test-00000-of-00001.parquet:   0%|          | 0.00/46.2k [00:00<?, ?B/s]"
      ]
     },
     "metadata": {},
     "output_type": "display_data"
    },
    {
     "data": {
      "application/vnd.jupyter.widget-view+json": {
       "model_id": "e4603cadfafa4530872237097972a981",
       "version_major": 2,
       "version_minor": 0
      },
      "text/plain": [
       "Generating train split:   0%|          | 0/3876 [00:00<?, ? examples/s]"
      ]
     },
     "metadata": {},
     "output_type": "display_data"
    },
    {
     "data": {
      "application/vnd.jupyter.widget-view+json": {
       "model_id": "783e25c242df42f09baa8528fb32f980",
       "version_major": 2,
       "version_minor": 0
      },
      "text/plain": [
       "Generating validation split:   0%|          | 0/485 [00:00<?, ? examples/s]"
      ]
     },
     "metadata": {},
     "output_type": "display_data"
    },
    {
     "data": {
      "application/vnd.jupyter.widget-view+json": {
       "model_id": "80709e2e4faa44cc8805251fbff3159a",
       "version_major": 2,
       "version_minor": 0
      },
      "text/plain": [
       "Generating test split:   0%|          | 0/485 [00:00<?, ? examples/s]"
      ]
     },
     "metadata": {},
     "output_type": "display_data"
    }
   ],
   "source": [
    "dataset = load_dataset('Jiahao123/FinancialPhraseBank_processed')"
   ]
  },
  {
   "cell_type": "markdown",
   "metadata": {},
   "source": [
    "### Initialize model"
   ]
  },
  {
   "cell_type": "code",
   "execution_count": 5,
   "metadata": {
    "execution": {
     "iopub.execute_input": "2025-10-08T10:30:39.687741Z",
     "iopub.status.busy": "2025-10-08T10:30:39.687514Z",
     "iopub.status.idle": "2025-10-08T10:30:39.692485Z",
     "shell.execute_reply": "2025-10-08T10:30:39.691503Z",
     "shell.execute_reply.started": "2025-10-08T10:30:39.687724Z"
    },
    "trusted": true
   },
   "outputs": [],
   "source": [
    "peft_config = LoraConfig(\n",
    "    task_type=TaskType.SEQ_CLS,\n",
    "    inference_mode=False,\n",
    "    r=8,\n",
    "    lora_alpha=32,\n",
    "    lora_dropout=0.1\n",
    ")"
   ]
  },
  {
   "cell_type": "code",
   "execution_count": 6,
   "metadata": {
    "execution": {
     "iopub.execute_input": "2025-10-08T06:34:34.488800Z",
     "iopub.status.busy": "2025-10-08T06:34:34.488537Z",
     "iopub.status.idle": "2025-10-08T06:34:37.408222Z",
     "shell.execute_reply": "2025-10-08T06:34:37.407646Z",
     "shell.execute_reply.started": "2025-10-08T06:34:34.488777Z"
    },
    "trusted": true
   },
   "outputs": [
    {
     "data": {
      "application/vnd.jupyter.widget-view+json": {
       "model_id": "757b5a3702654a2da473997ad54f3571",
       "version_major": 2,
       "version_minor": 0
      },
      "text/plain": [
       "config.json:   0%|          | 0.00/570 [00:00<?, ?B/s]"
      ]
     },
     "metadata": {},
     "output_type": "display_data"
    },
    {
     "data": {
      "application/vnd.jupyter.widget-view+json": {
       "model_id": "2c843e72121a4c91990c4c4c9c661e35",
       "version_major": 2,
       "version_minor": 0
      },
      "text/plain": [
       "model.safetensors:   0%|          | 0.00/436M [00:00<?, ?B/s]"
      ]
     },
     "metadata": {},
     "output_type": "display_data"
    },
    {
     "name": "stderr",
     "output_type": "stream",
     "text": [
      "Some weights of BertForSequenceClassification were not initialized from the model checkpoint at google-bert/bert-base-cased and are newly initialized: ['classifier.bias', 'classifier.weight']\n",
      "You should probably TRAIN this model on a down-stream task to be able to use it for predictions and inference.\n"
     ]
    },
    {
     "name": "stdout",
     "output_type": "stream",
     "text": [
      "trainable params: 297,219 || all params: 108,609,798 || trainable%: 0.2737\n"
     ]
    }
   ],
   "source": [
    "model = AutoModelForSequenceClassification.from_pretrained(\"google-bert/bert-base-cased\", num_labels=3)\n",
    "model = get_peft_model(model, peft_config)\n",
    "model.print_trainable_parameters()"
   ]
  },
  {
   "cell_type": "code",
   "execution_count": 6,
   "metadata": {
    "execution": {
     "iopub.execute_input": "2025-10-08T10:30:39.693618Z",
     "iopub.status.busy": "2025-10-08T10:30:39.693355Z",
     "iopub.status.idle": "2025-10-08T10:30:40.378174Z",
     "shell.execute_reply": "2025-10-08T10:30:40.377327Z",
     "shell.execute_reply.started": "2025-10-08T10:30:39.693600Z"
    },
    "trusted": true
   },
   "outputs": [
    {
     "data": {
      "application/vnd.jupyter.widget-view+json": {
       "model_id": "8456207fe1da4e6b8d9840a9639b43eb",
       "version_major": 2,
       "version_minor": 0
      },
      "text/plain": [
       "tokenizer_config.json:   0%|          | 0.00/49.0 [00:00<?, ?B/s]"
      ]
     },
     "metadata": {},
     "output_type": "display_data"
    },
    {
     "data": {
      "application/vnd.jupyter.widget-view+json": {
       "model_id": "b2417befcf6341acac818ba7abce5600",
       "version_major": 2,
       "version_minor": 0
      },
      "text/plain": [
       "config.json:   0%|          | 0.00/570 [00:00<?, ?B/s]"
      ]
     },
     "metadata": {},
     "output_type": "display_data"
    },
    {
     "data": {
      "application/vnd.jupyter.widget-view+json": {
       "model_id": "08e67df32e1542dc93b31a35cd0b2d94",
       "version_major": 2,
       "version_minor": 0
      },
      "text/plain": [
       "vocab.txt: 0.00B [00:00, ?B/s]"
      ]
     },
     "metadata": {},
     "output_type": "display_data"
    },
    {
     "data": {
      "application/vnd.jupyter.widget-view+json": {
       "model_id": "0d0c5f0618ce4ad398ae012ee992d6ac",
       "version_major": 2,
       "version_minor": 0
      },
      "text/plain": [
       "tokenizer.json: 0.00B [00:00, ?B/s]"
      ]
     },
     "metadata": {},
     "output_type": "display_data"
    }
   ],
   "source": [
    "tokenizer = AutoTokenizer.from_pretrained(\"google-bert/bert-base-cased\")"
   ]
  },
  {
   "cell_type": "markdown",
   "metadata": {},
   "source": [
    "### Tokenize the text"
   ]
  },
  {
   "cell_type": "code",
   "execution_count": 7,
   "metadata": {
    "execution": {
     "iopub.execute_input": "2025-10-08T10:30:40.379715Z",
     "iopub.status.busy": "2025-10-08T10:30:40.379036Z",
     "iopub.status.idle": "2025-10-08T10:30:40.383742Z",
     "shell.execute_reply": "2025-10-08T10:30:40.382965Z",
     "shell.execute_reply.started": "2025-10-08T10:30:40.379686Z"
    },
    "trusted": true
   },
   "outputs": [],
   "source": [
    "def tokenize(examples):\n",
    "    return tokenizer(examples[\"text\"], padding=\"max_length\", truncation=True)"
   ]
  },
  {
   "cell_type": "code",
   "execution_count": 8,
   "metadata": {
    "execution": {
     "iopub.execute_input": "2025-10-08T10:30:40.385277Z",
     "iopub.status.busy": "2025-10-08T10:30:40.384950Z",
     "iopub.status.idle": "2025-10-08T10:30:40.404685Z",
     "shell.execute_reply": "2025-10-08T10:30:40.403877Z",
     "shell.execute_reply.started": "2025-10-08T10:30:40.385248Z"
    },
    "trusted": true
   },
   "outputs": [
    {
     "data": {
      "text/plain": [
       "DatasetDict({\n",
       "    train: Dataset({\n",
       "        features: ['index', 'label', 'text'],\n",
       "        num_rows: 3876\n",
       "    })\n",
       "    validation: Dataset({\n",
       "        features: ['index', 'label', 'text'],\n",
       "        num_rows: 485\n",
       "    })\n",
       "    test: Dataset({\n",
       "        features: ['index', 'label', 'text'],\n",
       "        num_rows: 485\n",
       "    })\n",
       "})"
      ]
     },
     "execution_count": 8,
     "metadata": {},
     "output_type": "execute_result"
    }
   ],
   "source": [
    "dataset"
   ]
  },
  {
   "cell_type": "code",
   "execution_count": 9,
   "metadata": {
    "execution": {
     "iopub.execute_input": "2025-10-08T10:30:40.405821Z",
     "iopub.status.busy": "2025-10-08T10:30:40.405498Z",
     "iopub.status.idle": "2025-10-08T10:30:42.210155Z",
     "shell.execute_reply": "2025-10-08T10:30:42.209363Z",
     "shell.execute_reply.started": "2025-10-08T10:30:40.405800Z"
    },
    "trusted": true
   },
   "outputs": [
    {
     "data": {
      "application/vnd.jupyter.widget-view+json": {
       "model_id": "3fac7725fcfa4f35894b20e34187e12e",
       "version_major": 2,
       "version_minor": 0
      },
      "text/plain": [
       "Map:   0%|          | 0/3876 [00:00<?, ? examples/s]"
      ]
     },
     "metadata": {},
     "output_type": "display_data"
    },
    {
     "data": {
      "application/vnd.jupyter.widget-view+json": {
       "model_id": "14b69f37da5e4234b290cbc57090bf11",
       "version_major": 2,
       "version_minor": 0
      },
      "text/plain": [
       "Map:   0%|          | 0/485 [00:00<?, ? examples/s]"
      ]
     },
     "metadata": {},
     "output_type": "display_data"
    },
    {
     "data": {
      "application/vnd.jupyter.widget-view+json": {
       "model_id": "cd02b0169c15443eb6bae17041e8df53",
       "version_major": 2,
       "version_minor": 0
      },
      "text/plain": [
       "Map:   0%|          | 0/485 [00:00<?, ? examples/s]"
      ]
     },
     "metadata": {},
     "output_type": "display_data"
    }
   ],
   "source": [
    "dataset = dataset.map(tokenize, batched=True)"
   ]
  },
  {
   "cell_type": "code",
   "execution_count": 10,
   "metadata": {
    "execution": {
     "iopub.execute_input": "2025-10-08T10:30:42.211248Z",
     "iopub.status.busy": "2025-10-08T10:30:42.210942Z",
     "iopub.status.idle": "2025-10-08T10:30:42.217313Z",
     "shell.execute_reply": "2025-10-08T10:30:42.216547Z",
     "shell.execute_reply.started": "2025-10-08T10:30:42.211222Z"
    },
    "trusted": true
   },
   "outputs": [],
   "source": [
    "dataset.set_format(type=\"torch\", columns=[\"input_ids\", \"attention_mask\", \"label\"])"
   ]
  },
  {
   "cell_type": "markdown",
   "metadata": {},
   "source": [
    "### Set up for training"
   ]
  },
  {
   "cell_type": "code",
   "execution_count": 11,
   "metadata": {
    "execution": {
     "iopub.execute_input": "2025-10-08T10:30:42.218331Z",
     "iopub.status.busy": "2025-10-08T10:30:42.218002Z",
     "iopub.status.idle": "2025-10-08T10:30:42.619676Z",
     "shell.execute_reply": "2025-10-08T10:30:42.618891Z",
     "shell.execute_reply.started": "2025-10-08T10:30:42.218306Z"
    },
    "trusted": true
   },
   "outputs": [
    {
     "data": {
      "application/vnd.jupyter.widget-view+json": {
       "model_id": "b87d924756994431a3e2dd80d0c9a84a",
       "version_major": 2,
       "version_minor": 0
      },
      "text/plain": [
       "Downloading builder script: 0.00B [00:00, ?B/s]"
      ]
     },
     "metadata": {},
     "output_type": "display_data"
    }
   ],
   "source": [
    "metric = evaluate.load(\"f1\")\n",
    "\n",
    "def compute_metrics(eval_pred):\n",
    "    logits, labels = eval_pred\n",
    "    # convert the logits to their predicted class\n",
    "    predictions = np.argmax(logits, axis=-1)\n",
    "    return metric.compute(predictions=predictions, references=labels, average='weighted')"
   ]
  },
  {
   "cell_type": "code",
   "execution_count": 13,
   "metadata": {
    "execution": {
     "iopub.execute_input": "2025-10-08T06:36:08.610134Z",
     "iopub.status.busy": "2025-10-08T06:36:08.609899Z",
     "iopub.status.idle": "2025-10-08T06:36:08.613949Z",
     "shell.execute_reply": "2025-10-08T06:36:08.613147Z",
     "shell.execute_reply.started": "2025-10-08T06:36:08.610118Z"
    },
    "trusted": true
   },
   "outputs": [],
   "source": [
    "device = 'cuda' if torch.cuda.is_available() else 'cpu'"
   ]
  },
  {
   "cell_type": "code",
   "execution_count": 14,
   "metadata": {
    "execution": {
     "iopub.execute_input": "2025-10-08T06:36:08.869873Z",
     "iopub.status.busy": "2025-10-08T06:36:08.869050Z",
     "iopub.status.idle": "2025-10-08T06:36:08.874255Z",
     "shell.execute_reply": "2025-10-08T06:36:08.873580Z",
     "shell.execute_reply.started": "2025-10-08T06:36:08.869846Z"
    },
    "trusted": true
   },
   "outputs": [
    {
     "data": {
      "text/plain": [
       "'cuda'"
      ]
     },
     "execution_count": 14,
     "metadata": {},
     "output_type": "execute_result"
    }
   ],
   "source": [
    "device"
   ]
  },
  {
   "cell_type": "code",
   "execution_count": 14,
   "metadata": {
    "execution": {
     "iopub.execute_input": "2025-10-08T10:30:53.437719Z",
     "iopub.status.busy": "2025-10-08T10:30:53.437074Z",
     "iopub.status.idle": "2025-10-08T10:30:53.472471Z",
     "shell.execute_reply": "2025-10-08T10:30:53.471685Z",
     "shell.execute_reply.started": "2025-10-08T10:30:53.437693Z"
    },
    "trusted": true
   },
   "outputs": [
    {
     "name": "stderr",
     "output_type": "stream",
     "text": [
      "Using the `WANDB_DISABLED` environment variable is deprecated and will be removed in v5. Use the --report_to flag to control the integrations used for logging result (for instance --report_to none).\n"
     ]
    }
   ],
   "source": [
    "training_args = TrainingArguments(\n",
    "    output_dir=\"financial_classifier_peft\",\n",
    "    label_names=[\"labels\"],\n",
    "    learning_rate=1e-3,\n",
    "    logging_steps=10,\n",
    "    per_device_train_batch_size=16,\n",
    "    per_device_eval_batch_size=16,\n",
    "    num_train_epochs=10,\n",
    "    logging_strategy=\"steps\",\n",
    "    eval_strategy=\"epoch\",\n",
    "    save_strategy=\"epoch\",\n",
    "    load_best_model_at_end=True,\n",
    "    push_to_hub=True,\n",
    "    report_to=None,\n",
    ")"
   ]
  },
  {
   "cell_type": "code",
   "execution_count": 15,
   "metadata": {
    "execution": {
     "iopub.execute_input": "2025-10-08T10:30:55.603047Z",
     "iopub.status.busy": "2025-10-08T10:30:55.602748Z",
     "iopub.status.idle": "2025-10-08T10:30:56.127624Z",
     "shell.execute_reply": "2025-10-08T10:30:56.126871Z",
     "shell.execute_reply.started": "2025-10-08T10:30:55.603026Z"
    },
    "trusted": true
   },
   "outputs": [],
   "source": [
    "trainer = Trainer(\n",
    "    model=model,\n",
    "    args=training_args,\n",
    "    train_dataset=dataset[\"train\"],\n",
    "    eval_dataset=dataset[\"validation\"],\n",
    "    compute_metrics=compute_metrics\n",
    ")"
   ]
  },
  {
   "cell_type": "code",
   "execution_count": null,
   "metadata": {
    "collapsed": true,
    "execution": {
     "iopub.execute_input": "2025-10-01T14:42:39.628709Z",
     "iopub.status.busy": "2025-10-01T14:42:39.628450Z",
     "iopub.status.idle": "2025-10-01T14:42:41.384660Z",
     "shell.execute_reply": "2025-10-01T14:42:41.383354Z",
     "shell.execute_reply.started": "2025-10-01T14:42:39.628691Z"
    },
    "jupyter": {
     "outputs_hidden": true
    },
    "trusted": true
   },
   "outputs": [],
   "source": [
    "# train model\n",
    "start_time = time.time()\n",
    "\n",
    "trainer.train()\n",
    "\n",
    "end_time = time.time()\n",
    "print(f\"Training took {end_time - start_time} seconds.\")"
   ]
  },
  {
   "cell_type": "markdown",
   "metadata": {},
   "source": [
    "Training took 2051.3968250751495 seconds.\n",
    "We can see that the model overfitted as well"
   ]
  },
  {
   "cell_type": "code",
   "execution_count": null,
   "metadata": {
    "execution": {
     "iopub.execute_input": "2025-10-01T11:27:17.708492Z",
     "iopub.status.busy": "2025-10-01T11:27:17.707870Z",
     "iopub.status.idle": "2025-10-01T11:27:24.629609Z",
     "shell.execute_reply": "2025-10-01T11:27:24.628890Z",
     "shell.execute_reply.started": "2025-10-01T11:27:17.708469Z"
    },
    "trusted": true
   },
   "outputs": [],
   "source": [
    "trainer.push_to_hub(\"financial-sentiment-BERT\")"
   ]
  },
  {
   "cell_type": "code",
   "execution_count": null,
   "metadata": {
    "execution": {
     "iopub.execute_input": "2025-10-01T11:33:09.591517Z",
     "iopub.status.busy": "2025-10-01T11:33:09.591188Z",
     "iopub.status.idle": "2025-10-01T11:33:10.880611Z",
     "shell.execute_reply": "2025-10-01T11:33:10.879697Z",
     "shell.execute_reply.started": "2025-10-01T11:33:09.591483Z"
    },
    "trusted": true
   },
   "outputs": [],
   "source": [
    "tokenizer.push_to_hub(\"Jiahao123/financial_classifier_peft\")"
   ]
  },
  {
   "cell_type": "code",
   "execution_count": null,
   "metadata": {
    "execution": {
     "iopub.execute_input": "2025-10-01T12:47:36.109641Z",
     "iopub.status.busy": "2025-10-01T12:47:36.109383Z",
     "iopub.status.idle": "2025-10-01T12:47:43.462491Z",
     "shell.execute_reply": "2025-10-01T12:47:43.461956Z",
     "shell.execute_reply.started": "2025-10-01T12:47:36.109625Z"
    },
    "trusted": true
   },
   "outputs": [],
   "source": [
    "trainer.evaluate(dataset['validation'])"
   ]
  },
  {
   "cell_type": "markdown",
   "metadata": {},
   "source": [
    "### Evaluate model performance"
   ]
  },
  {
   "cell_type": "code",
   "execution_count": 12,
   "metadata": {
    "execution": {
     "iopub.execute_input": "2025-10-08T10:30:42.621232Z",
     "iopub.status.busy": "2025-10-08T10:30:42.620911Z",
     "iopub.status.idle": "2025-10-08T10:30:46.823608Z",
     "shell.execute_reply": "2025-10-08T10:30:46.822467Z",
     "shell.execute_reply.started": "2025-10-08T10:30:42.621207Z"
    },
    "trusted": true
   },
   "outputs": [
    {
     "data": {
      "application/vnd.jupyter.widget-view+json": {
       "model_id": "0f30e7c71aab41cb9d82ca526e745c27",
       "version_major": 2,
       "version_minor": 0
      },
      "text/plain": [
       "model.safetensors:   0%|          | 0.00/436M [00:00<?, ?B/s]"
      ]
     },
     "metadata": {},
     "output_type": "display_data"
    },
    {
     "name": "stderr",
     "output_type": "stream",
     "text": [
      "Some weights of BertForSequenceClassification were not initialized from the model checkpoint at google-bert/bert-base-cased and are newly initialized: ['classifier.bias', 'classifier.weight']\n",
      "You should probably TRAIN this model on a down-stream task to be able to use it for predictions and inference.\n"
     ]
    },
    {
     "data": {
      "application/vnd.jupyter.widget-view+json": {
       "model_id": "dddbd86c8eae410b85be41e36c6becf2",
       "version_major": 2,
       "version_minor": 0
      },
      "text/plain": [
       "adapter_config.json:   0%|          | 0.00/808 [00:00<?, ?B/s]"
      ]
     },
     "metadata": {},
     "output_type": "display_data"
    },
    {
     "data": {
      "application/vnd.jupyter.widget-view+json": {
       "model_id": "59d8f60a49764c36b4b07a7ff376deb3",
       "version_major": 2,
       "version_minor": 0
      },
      "text/plain": [
       "adapter_model.safetensors:   0%|          | 0.00/1.20M [00:00<?, ?B/s]"
      ]
     },
     "metadata": {},
     "output_type": "display_data"
    }
   ],
   "source": [
    "model = AutoModelForSequenceClassification.from_pretrained('google-bert/bert-base-cased', num_labels=3)\n",
    "tokenizer = AutoTokenizer.from_pretrained('google-bert/bert-base-cased')\n",
    "\n",
    "model = PeftModel.from_pretrained(model, 'Jiahao123/financial_classifier_peft')"
   ]
  },
  {
   "cell_type": "code",
   "execution_count": 16,
   "metadata": {
    "execution": {
     "iopub.execute_input": "2025-10-08T10:30:59.504806Z",
     "iopub.status.busy": "2025-10-08T10:30:59.503915Z",
     "iopub.status.idle": "2025-10-08T10:31:07.664579Z",
     "shell.execute_reply": "2025-10-08T10:31:07.663718Z",
     "shell.execute_reply.started": "2025-10-08T10:30:59.504779Z"
    },
    "trusted": true
   },
   "outputs": [
    {
     "data": {
      "text/html": [],
      "text/plain": [
       "<IPython.core.display.HTML object>"
      ]
     },
     "metadata": {},
     "output_type": "display_data"
    },
    {
     "data": {
      "text/plain": [
       "{'eval_loss': 0.5278357267379761,\n",
       " 'eval_model_preparation_time': 0.0061,\n",
       " 'eval_f1': 0.8040543227534831,\n",
       " 'eval_runtime': 8.1065,\n",
       " 'eval_samples_per_second': 59.829,\n",
       " 'eval_steps_per_second': 3.824}"
      ]
     },
     "execution_count": 16,
     "metadata": {},
     "output_type": "execute_result"
    }
   ],
   "source": [
    "trainer.evaluate(dataset['test'])"
   ]
  },
  {
   "cell_type": "code",
   "execution_count": 17,
   "metadata": {
    "execution": {
     "iopub.execute_input": "2025-10-08T10:31:07.666404Z",
     "iopub.status.busy": "2025-10-08T10:31:07.666045Z",
     "iopub.status.idle": "2025-10-08T10:31:15.314742Z",
     "shell.execute_reply": "2025-10-08T10:31:15.313887Z",
     "shell.execute_reply.started": "2025-10-08T10:31:07.666382Z"
    },
    "trusted": true
   },
   "outputs": [],
   "source": [
    "predictions = trainer.predict(dataset[\"test\"])"
   ]
  },
  {
   "cell_type": "code",
   "execution_count": 18,
   "metadata": {
    "execution": {
     "iopub.execute_input": "2025-10-08T10:31:15.316015Z",
     "iopub.status.busy": "2025-10-08T10:31:15.315745Z",
     "iopub.status.idle": "2025-10-08T10:31:15.323060Z",
     "shell.execute_reply": "2025-10-08T10:31:15.322211Z",
     "shell.execute_reply.started": "2025-10-08T10:31:15.315984Z"
    },
    "trusted": true
   },
   "outputs": [],
   "source": [
    "logits = predictions.predictions\n",
    "labels = predictions.label_ids\n",
    "probabilities = torch.softmax(torch.tensor(logits), dim=1).numpy()\n",
    "preds = np.argmax(logits, axis=1)"
   ]
  },
  {
   "cell_type": "code",
   "execution_count": 19,
   "metadata": {
    "execution": {
     "iopub.execute_input": "2025-10-08T10:31:15.324696Z",
     "iopub.status.busy": "2025-10-08T10:31:15.324481Z",
     "iopub.status.idle": "2025-10-08T10:31:15.825049Z",
     "shell.execute_reply": "2025-10-08T10:31:15.824212Z",
     "shell.execute_reply.started": "2025-10-08T10:31:15.324677Z"
    },
    "trusted": true
   },
   "outputs": [
    {
     "data": {
      "image/png": "[encoded data removed]",
      "text/plain": [
       "<Figure size 1500x1000 with 2 Axes>"
      ]
     },
     "metadata": {},
     "output_type": "display_data"
    }
   ],
   "source": [
    "# confusion matrix\n",
    "cm = confusion_matrix(labels, preds, normalize='true')\n",
    "plt.figure(figsize=(15, 10))\n",
    "sns.heatmap(cm, annot=True, fmt='2f', cmap='Blues')\n",
    "\n",
    "plt.xlabel('Predicted')\n",
    "plt.ylabel('Actual')\n",
    "plt.title('Confusion Matrix')\n",
    "plt.show()"
   ]
  },
  {
   "cell_type": "markdown",
   "metadata": {},
   "source": [
    "We can see that the model seems to perform well for classes 0 and 1, and does poorly for class 2.\n",
    "\n",
    "About 86% of negative sentiment were correctly predicted as negative, 87% of neutral sentiment were correctly predicted as neutral, while only 66% of positive news were correctly predicted as positive."
   ]
  },
  {
   "cell_type": "markdown",
   "metadata": {},
   "source": [
    "### ROC curve"
   ]
  },
  {
   "cell_type": "code",
   "execution_count": 20,
   "metadata": {
    "execution": {
     "iopub.execute_input": "2025-10-08T10:31:15.826058Z",
     "iopub.status.busy": "2025-10-08T10:31:15.825773Z",
     "iopub.status.idle": "2025-10-08T10:31:16.125053Z",
     "shell.execute_reply": "2025-10-08T10:31:16.124284Z",
     "shell.execute_reply.started": "2025-10-08T10:31:15.826035Z"
    },
    "trusted": true
   },
   "outputs": [
    {
     "data": {
      "image/png": "[encoded data removed]",
      "text/plain": [
       "<Figure size 1500x1000 with 1 Axes>"
      ]
     },
     "metadata": {},
     "output_type": "display_data"
    }
   ],
   "source": [
    "# roc curve for all 3 classes\n",
    "# one vs all ROC curve\n",
    "labels_onehot = label_binarize(labels, classes=[0, 1, 2])\n",
    "\n",
    "plt.figure(figsize=(15, 10))\n",
    "for i in range(3):\n",
    "    fpr, tpr, _ = roc_curve(labels_onehot[:, i], probabilities[:, i])\n",
    "    roc_auc = auc(fpr, tpr)\n",
    "    plt.plot(fpr, tpr, label=f'Class {i} (AUC = {roc_auc:.2f})')\n",
    "\n",
    "plt.plot([0,1], [0,1], 'k--')  # diagonal line\n",
    "plt.xlabel('False Positive Rate')\n",
    "plt.ylabel('True Positive Rate')\n",
    "plt.title('Multiclass ROC Curve')\n",
    "plt.legend()\n",
    "plt.show()"
   ]
  },
  {
   "cell_type": "markdown",
   "metadata": {},
   "source": [
    "Model seems to be able to distinguish class 0 the best"
   ]
  },
  {
   "cell_type": "markdown",
   "metadata": {},
   "source": [
    "### Precision-Recall curve"
   ]
  },
  {
   "cell_type": "code",
   "execution_count": 21,
   "metadata": {
    "execution": {
     "iopub.execute_input": "2025-10-08T10:31:48.992999Z",
     "iopub.status.busy": "2025-10-08T10:31:48.992277Z",
     "iopub.status.idle": "2025-10-08T10:31:49.233874Z",
     "shell.execute_reply": "2025-10-08T10:31:49.232907Z",
     "shell.execute_reply.started": "2025-10-08T10:31:48.992966Z"
    },
    "trusted": true
   },
   "outputs": [
    {
     "data": {
      "image/png": "[encoded data removed]",
      "text/plain": [
       "<Figure size 1200x800 with 1 Axes>"
      ]
     },
     "metadata": {},
     "output_type": "display_data"
    }
   ],
   "source": [
    "n_classes = labels_onehot.shape[1]\n",
    "\n",
    "# Compute Precision-Recall for each class\n",
    "plt.figure(figsize=(12, 8))\n",
    "\n",
    "for i in range(n_classes):\n",
    "    precision, recall, _ = precision_recall_curve(labels_onehot[:, i], probabilities[:, i])\n",
    "    ap = average_precision_score(labels_onehot[:, i], probabilities[:, i], average='weighted')\n",
    "    plt.plot(recall, precision,\n",
    "             label=f'Class {i} (Average Precision = {ap:.2f})')\n",
    "\n",
    "plt.xlabel('Recall')\n",
    "plt.ylabel('Precision')\n",
    "plt.title('One-vs-Rest Precision-Recall Curve')\n",
    "plt.legend()\n",
    "plt.show()"
   ]
  },
  {
   "cell_type": "markdown",
   "metadata": {},
   "source": [
    "We can see that BERT with LoRA performs well on all classes with good average precision among all classes. The precision-recall curve for all also seems to be good."
   ]
  },
  {
   "cell_type": "code",
   "execution_count": 22,
   "metadata": {
    "execution": {
     "iopub.execute_input": "2025-10-08T10:55:37.669819Z",
     "iopub.status.busy": "2025-10-08T10:55:37.669545Z",
     "iopub.status.idle": "2025-10-08T10:55:37.682512Z",
     "shell.execute_reply": "2025-10-08T10:55:37.681598Z",
     "shell.execute_reply.started": "2025-10-08T10:55:37.669801Z"
    },
    "trusted": true
   },
   "outputs": [
    {
     "name": "stdout",
     "output_type": "stream",
     "text": [
      "              precision    recall  f1-score   support\n",
      "\n",
      "           0       0.75      0.84      0.79        61\n",
      "           1       0.84      0.87      0.85       288\n",
      "           2       0.76      0.66      0.71       136\n",
      "\n",
      "    accuracy                           0.81       485\n",
      "   macro avg       0.78      0.79      0.78       485\n",
      "weighted avg       0.80      0.81      0.80       485\n",
      "\n"
     ]
    }
   ],
   "source": [
    "report = classification_report(labels, preds)\n",
    "print(report)"
   ]
  },
  {
   "cell_type": "markdown",
   "metadata": {},
   "source": [
    "### Analysis on texts that model predicted as neutral but is actually positive\n",
    "\n",
    "For the test set"
   ]
  },
  {
   "cell_type": "code",
   "execution_count": 28,
   "metadata": {
    "execution": {
     "iopub.execute_input": "2025-10-08T06:41:35.870833Z",
     "iopub.status.busy": "2025-10-08T06:41:35.869993Z",
     "iopub.status.idle": "2025-10-08T06:41:35.874880Z",
     "shell.execute_reply": "2025-10-08T06:41:35.874126Z",
     "shell.execute_reply.started": "2025-10-08T06:41:35.870794Z"
    },
    "trusted": true
   },
   "outputs": [],
   "source": [
    "mask = (preds == 1) & (labels == 2)\n",
    "indices = np.where(mask)[0]"
   ]
  },
  {
   "cell_type": "code",
   "execution_count": 29,
   "metadata": {
    "execution": {
     "iopub.execute_input": "2025-10-08T06:41:39.155597Z",
     "iopub.status.busy": "2025-10-08T06:41:39.155295Z",
     "iopub.status.idle": "2025-10-08T06:41:39.161006Z",
     "shell.execute_reply": "2025-10-08T06:41:39.160403Z",
     "shell.execute_reply.started": "2025-10-08T06:41:39.155575Z"
    },
    "trusted": true
   },
   "outputs": [
    {
     "data": {
      "text/plain": [
       "array([  1,   3,  14,  18,  60,  69,  81, 101, 102, 103, 104, 154, 162,\n",
       "       178, 182, 184, 200, 222, 223, 256, 286, 287, 302, 314, 336, 340,\n",
       "       345, 355, 356, 358, 369, 376, 381, 402, 408, 414, 418, 429, 443,\n",
       "       453, 469])"
      ]
     },
     "execution_count": 29,
     "metadata": {},
     "output_type": "execute_result"
    }
   ],
   "source": [
    "indices"
   ]
  },
  {
   "cell_type": "code",
   "execution_count": 30,
   "metadata": {
    "execution": {
     "iopub.execute_input": "2025-10-08T06:41:45.497604Z",
     "iopub.status.busy": "2025-10-08T06:41:45.497312Z",
     "iopub.status.idle": "2025-10-08T06:41:45.507819Z",
     "shell.execute_reply": "2025-10-08T06:41:45.507275Z",
     "shell.execute_reply.started": "2025-10-08T06:41:45.497581Z"
    },
    "trusted": true
   },
   "outputs": [],
   "source": [
    "wrong_preds = dataset['test'].select(indices)\n",
    "wrong_probs = probabilities[indices]\n",
    "wrong_probs_df = pd.DataFrame(wrong_probs, columns=['prob_neg', 'prob_neu', 'prob_pos'])"
   ]
  },
  {
   "cell_type": "code",
   "execution_count": 31,
   "metadata": {
    "execution": {
     "iopub.execute_input": "2025-10-08T06:41:50.600527Z",
     "iopub.status.busy": "2025-10-08T06:41:50.599842Z",
     "iopub.status.idle": "2025-10-08T06:41:50.605992Z",
     "shell.execute_reply": "2025-10-08T06:41:50.605412Z",
     "shell.execute_reply.started": "2025-10-08T06:41:50.600504Z"
    },
    "trusted": true
   },
   "outputs": [],
   "source": [
    "wrong_preds = wrong_preds.select_columns(['label', 'text'])"
   ]
  },
  {
   "cell_type": "code",
   "execution_count": 32,
   "metadata": {
    "execution": {
     "iopub.execute_input": "2025-10-08T06:41:55.337846Z",
     "iopub.status.busy": "2025-10-08T06:41:55.337561Z",
     "iopub.status.idle": "2025-10-08T06:41:55.342562Z",
     "shell.execute_reply": "2025-10-08T06:41:55.341995Z",
     "shell.execute_reply.started": "2025-10-08T06:41:55.337825Z"
    },
    "trusted": true
   },
   "outputs": [
    {
     "data": {
      "text/plain": [
       "Dataset({\n",
       "    features: ['label', 'text'],\n",
       "    num_rows: 41\n",
       "})"
      ]
     },
     "execution_count": 32,
     "metadata": {},
     "output_type": "execute_result"
    }
   ],
   "source": [
    "wrong_preds"
   ]
  },
  {
   "cell_type": "code",
   "execution_count": 33,
   "metadata": {
    "execution": {
     "iopub.execute_input": "2025-10-08T06:42:00.508121Z",
     "iopub.status.busy": "2025-10-08T06:42:00.507548Z",
     "iopub.status.idle": "2025-10-08T06:42:00.513400Z",
     "shell.execute_reply": "2025-10-08T06:42:00.512692Z",
     "shell.execute_reply.started": "2025-10-08T06:42:00.508099Z"
    },
    "trusted": true
   },
   "outputs": [],
   "source": [
    "wrong_preds_df = wrong_preds.to_pandas()\n",
    "wrong_preds_df = pd.concat([wrong_preds_df, wrong_probs_df], axis = 1)"
   ]
  },
  {
   "cell_type": "code",
   "execution_count": 34,
   "metadata": {
    "execution": {
     "iopub.execute_input": "2025-10-08T06:42:04.838732Z",
     "iopub.status.busy": "2025-10-08T06:42:04.838084Z",
     "iopub.status.idle": "2025-10-08T06:42:04.864493Z",
     "shell.execute_reply": "2025-10-08T06:42:04.863893Z",
     "shell.execute_reply.started": "2025-10-08T06:42:04.838710Z"
    },
    "trusted": true
   },
   "outputs": [
    {
     "data": {
      "text/html": [
       "<div>\n",
       "<style scoped>\n",
       "    .dataframe tbody tr th:only-of-type {\n",
       "        vertical-align: middle;\n",
       "    }\n",
       "\n",
       "    .dataframe tbody tr th {\n",
       "        vertical-align: top;\n",
       "    }\n",
       "\n",
       "    .dataframe thead th {\n",
       "        text-align: right;\n",
       "    }\n",
       "</style>\n",
       "<table border=\"1\" class=\"dataframe\">\n",
       "  <thead>\n",
       "    <tr style=\"text-align: right;\">\n",
       "      <th></th>\n",
       "      <th>label</th>\n",
       "      <th>text</th>\n",
       "      <th>prob_neg</th>\n",
       "      <th>prob_neu</th>\n",
       "      <th>prob_pos</th>\n",
       "    </tr>\n",
       "  </thead>\n",
       "  <tbody>\n",
       "    <tr>\n",
       "      <th>0</th>\n",
       "      <td>2</td>\n",
       "      <td>Under a memorandum of understanding MoU the parties will collaborate in preparing and implementing joint projects in the fields of combined power and heat generation , environmental protection and energy efficient technologies .</td>\n",
       "      <td>0.001690</td>\n",
       "      <td>0.799429</td>\n",
       "      <td>0.198881</td>\n",
       "    </tr>\n",
       "    <tr>\n",
       "      <th>1</th>\n",
       "      <td>2</td>\n",
       "      <td>Ixonos estimates that it will hire 20 specialists in mechanical engineering , electronics design , and R&amp;D for its new unit in Jyvaeskylae by the end of 2009 .</td>\n",
       "      <td>0.006318</td>\n",
       "      <td>0.754398</td>\n",
       "      <td>0.239284</td>\n",
       "    </tr>\n",
       "    <tr>\n",
       "      <th>2</th>\n",
       "      <td>2</td>\n",
       "      <td>The concept enables a commercially affordable way to manufacture high-quality TCO coated glass for the solar industry .</td>\n",
       "      <td>0.003028</td>\n",
       "      <td>0.817716</td>\n",
       "      <td>0.179256</td>\n",
       "    </tr>\n",
       "    <tr>\n",
       "      <th>3</th>\n",
       "      <td>2</td>\n",
       "      <td>Finnish financial solutions developer Basware Corporation ( OMX Helsinki BAS1V ) said on Tuesday ( 23 September ) that it will deliver a complete Invoice Automation solution to a large US engineering , construction and technical services organization .</td>\n",
       "      <td>0.003673</td>\n",
       "      <td>0.636909</td>\n",
       "      <td>0.359418</td>\n",
       "    </tr>\n",
       "    <tr>\n",
       "      <th>4</th>\n",
       "      <td>2</td>\n",
       "      <td>It currently employs about 750 people and expects headcount to reach 1,000 by end of 2007 .</td>\n",
       "      <td>0.003116</td>\n",
       "      <td>0.953110</td>\n",
       "      <td>0.043774</td>\n",
       "    </tr>\n",
       "    <tr>\n",
       "      <th>5</th>\n",
       "      <td>2</td>\n",
       "      <td>Biohit and VWR have been in close cooperation for a number of years in the US , where Biohit is one of VWR 's focus suppliers .</td>\n",
       "      <td>0.004297</td>\n",
       "      <td>0.589365</td>\n",
       "      <td>0.406338</td>\n",
       "    </tr>\n",
       "    <tr>\n",
       "      <th>6</th>\n",
       "      <td>2</td>\n",
       "      <td>Certain shareholders have irrevocably agreed to vote in favor of the bond issue .</td>\n",
       "      <td>0.005934</td>\n",
       "      <td>0.974181</td>\n",
       "      <td>0.019885</td>\n",
       "    </tr>\n",
       "    <tr>\n",
       "      <th>7</th>\n",
       "      <td>2</td>\n",
       "      <td>In the Asia-Pacific region , Visa Wave is available in Malaysia , Taiwan and South Korea and will be expanded to Japan and Southeast Asia this year , Jung added .</td>\n",
       "      <td>0.003100</td>\n",
       "      <td>0.948386</td>\n",
       "      <td>0.048514</td>\n",
       "    </tr>\n",
       "    <tr>\n",
       "      <th>8</th>\n",
       "      <td>2</td>\n",
       "      <td>The contract was signed in August with Papua New Guinea-based Lihir Gold Ltd ASX : LGL .</td>\n",
       "      <td>0.002223</td>\n",
       "      <td>0.957368</td>\n",
       "      <td>0.040409</td>\n",
       "    </tr>\n",
       "    <tr>\n",
       "      <th>9</th>\n",
       "      <td>2</td>\n",
       "      <td>The sale , which will result in a gain of some EUR 60 million in the second quarter of 2010 for Oriola-KD , supports the Finnish company 's strategy to focus on pharmaceutical wholesale and retail operations .</td>\n",
       "      <td>0.003171</td>\n",
       "      <td>0.662991</td>\n",
       "      <td>0.333838</td>\n",
       "    </tr>\n",
       "    <tr>\n",
       "      <th>10</th>\n",
       "      <td>2</td>\n",
       "      <td>In China , Finnish Kone that provides elevators , escalators , and solutions for modernisation and maintenance will build 342 escalators that will be installed in a high-speed railway section between Beijing and Shanghai in a 1.5 years ' time .</td>\n",
       "      <td>0.007187</td>\n",
       "      <td>0.689108</td>\n",
       "      <td>0.303704</td>\n",
       "    </tr>\n",
       "    <tr>\n",
       "      <th>11</th>\n",
       "      <td>2</td>\n",
       "      <td>The insurer anticipates its share in Nordea 's net profit to be significant .</td>\n",
       "      <td>0.006705</td>\n",
       "      <td>0.565465</td>\n",
       "      <td>0.427830</td>\n",
       "    </tr>\n",
       "    <tr>\n",
       "      <th>12</th>\n",
       "      <td>2</td>\n",
       "      <td>Stockmann and Swedish sector company AB Lindex entered into an agreement on September 30 , 2007 , whereby Stockmann , or a wholly-owned subsidiary of it , will make a public tender offer for all of Lindex 's issued shares .</td>\n",
       "      <td>0.002070</td>\n",
       "      <td>0.868412</td>\n",
       "      <td>0.129518</td>\n",
       "    </tr>\n",
       "    <tr>\n",
       "      <th>13</th>\n",
       "      <td>2</td>\n",
       "      <td>`` Indo-Russia trade can cross the targeted 10 billion dollars by 2010 and double to 20 billion dollars by 2015 , if trade irritants and procedural hassles are resolved , '' the chamber said in its survey on obstacles to trade with Russia .</td>\n",
       "      <td>0.093693</td>\n",
       "      <td>0.649209</td>\n",
       "      <td>0.257099</td>\n",
       "    </tr>\n",
       "    <tr>\n",
       "      <th>14</th>\n",
       "      <td>2</td>\n",
       "      <td>Other carriers and handset makers spin it as a positive event that will raise interest for higher-end phones and pricier data plans .</td>\n",
       "      <td>0.009008</td>\n",
       "      <td>0.617711</td>\n",
       "      <td>0.373281</td>\n",
       "    </tr>\n",
       "    <tr>\n",
       "      <th>15</th>\n",
       "      <td>2</td>\n",
       "      <td>In addition , Lehdentekijat Oy will start producing a new membership magazine , Viisas Raha ( Wise Money ) for the Association .</td>\n",
       "      <td>0.003471</td>\n",
       "      <td>0.973198</td>\n",
       "      <td>0.023331</td>\n",
       "    </tr>\n",
       "    <tr>\n",
       "      <th>16</th>\n",
       "      <td>2</td>\n",
       "      <td>According to Schmardin , Nordea will most likely try to win customers over from other pension fund providers .</td>\n",
       "      <td>0.076257</td>\n",
       "      <td>0.814921</td>\n",
       "      <td>0.108822</td>\n",
       "    </tr>\n",
       "    <tr>\n",
       "      <th>17</th>\n",
       "      <td>2</td>\n",
       "      <td>The CL51 is designed to measure cloud base height and vertical visibility in all weather conditions , which makes it an ideal instrument for meteorological applications that rely on reliable cloud height detection .</td>\n",
       "      <td>0.002713</td>\n",
       "      <td>0.859210</td>\n",
       "      <td>0.138077</td>\n",
       "    </tr>\n",
       "    <tr>\n",
       "      <th>18</th>\n",
       "      <td>2</td>\n",
       "      <td>Self-service and automation are in a bigger role now and Fujitsu 's global resources will be exploited effectively .</td>\n",
       "      <td>0.013771</td>\n",
       "      <td>0.694433</td>\n",
       "      <td>0.291796</td>\n",
       "    </tr>\n",
       "    <tr>\n",
       "      <th>19</th>\n",
       "      <td>2</td>\n",
       "      <td>Key shareholders of Finnish IT services provider TietoEnator Oyj on Friday rejected a hostile EUR1 .08 billion $ 1.67 billion offer from buyout shop Nordic Capital , giving new life to a possible counter offer from Blackstone Group LP and Norwegian telecom Telenor ASA .</td>\n",
       "      <td>0.183838</td>\n",
       "      <td>0.616415</td>\n",
       "      <td>0.199747</td>\n",
       "    </tr>\n",
       "    <tr>\n",
       "      <th>20</th>\n",
       "      <td>2</td>\n",
       "      <td>Previously , EB delivered a custom solution for LG Electronics and now is making it commercially available for other mobile terminal vendors as well as to wireless operators .</td>\n",
       "      <td>0.002179</td>\n",
       "      <td>0.968914</td>\n",
       "      <td>0.028907</td>\n",
       "    </tr>\n",
       "    <tr>\n",
       "      <th>21</th>\n",
       "      <td>2</td>\n",
       "      <td>Airbus has 100 firm orders for the A350 and 89 nonbinding commitments .</td>\n",
       "      <td>0.002452</td>\n",
       "      <td>0.964140</td>\n",
       "      <td>0.033408</td>\n",
       "    </tr>\n",
       "    <tr>\n",
       "      <th>22</th>\n",
       "      <td>2</td>\n",
       "      <td>The shopping center will have a prime location right next to the Myllypuro metro station .</td>\n",
       "      <td>0.002305</td>\n",
       "      <td>0.978530</td>\n",
       "      <td>0.019165</td>\n",
       "    </tr>\n",
       "    <tr>\n",
       "      <th>23</th>\n",
       "      <td>2</td>\n",
       "      <td>The core of Solidium 's investment strategy is proper , value enhancing asset management of the current holdings .</td>\n",
       "      <td>0.001937</td>\n",
       "      <td>0.815166</td>\n",
       "      <td>0.182897</td>\n",
       "    </tr>\n",
       "    <tr>\n",
       "      <th>24</th>\n",
       "      <td>2</td>\n",
       "      <td>Finnish Ahlstrom Corporation has ordered key production equipment for a new glass nonwovens production line at its Russian Tver Mill from Finnish Vaahto Pulp &amp; Paper Machinery ( that is part of Vaahto Group ) .</td>\n",
       "      <td>0.004293</td>\n",
       "      <td>0.701217</td>\n",
       "      <td>0.294490</td>\n",
       "    </tr>\n",
       "    <tr>\n",
       "      <th>25</th>\n",
       "      <td>2</td>\n",
       "      <td>This bold spinning 360 red fabric design is set beautifully on Ercols Napoli sofa .</td>\n",
       "      <td>0.002783</td>\n",
       "      <td>0.984890</td>\n",
       "      <td>0.012326</td>\n",
       "    </tr>\n",
       "    <tr>\n",
       "      <th>26</th>\n",
       "      <td>2</td>\n",
       "      <td>The diesel margin has remained high .</td>\n",
       "      <td>0.058707</td>\n",
       "      <td>0.838720</td>\n",
       "      <td>0.102574</td>\n",
       "    </tr>\n",
       "    <tr>\n",
       "      <th>27</th>\n",
       "      <td>2</td>\n",
       "      <td>Finnish mobile operator DNA will function as a subcontractor to Maingate and will be responsible for telecommunications connections .</td>\n",
       "      <td>0.002127</td>\n",
       "      <td>0.992710</td>\n",
       "      <td>0.005163</td>\n",
       "    </tr>\n",
       "    <tr>\n",
       "      <th>28</th>\n",
       "      <td>2</td>\n",
       "      <td>FINANCING OF ASPOCOMP 'S GROWTH Aspocomp is aggressively pursuing its growth strategy by increasingly focusing on technologically more demanding HDI printed circuit boards PCBs .</td>\n",
       "      <td>0.014393</td>\n",
       "      <td>0.587682</td>\n",
       "      <td>0.397926</td>\n",
       "    </tr>\n",
       "    <tr>\n",
       "      <th>29</th>\n",
       "      <td>2</td>\n",
       "      <td>` For Nordea , moving into the new headquarters signifies the beginning of a new era .</td>\n",
       "      <td>0.004890</td>\n",
       "      <td>0.857981</td>\n",
       "      <td>0.137130</td>\n",
       "    </tr>\n",
       "    <tr>\n",
       "      <th>30</th>\n",
       "      <td>2</td>\n",
       "      <td>The purpose of this action is to ensure company 's cost effectiveness this year and in the near future .</td>\n",
       "      <td>0.002721</td>\n",
       "      <td>0.719062</td>\n",
       "      <td>0.278217</td>\n",
       "    </tr>\n",
       "    <tr>\n",
       "      <th>31</th>\n",
       "      <td>2</td>\n",
       "      <td>The divestment is in line with the company 's plans to focus on selected growth segments and streamline corporate structure , the company explained .</td>\n",
       "      <td>0.005062</td>\n",
       "      <td>0.678773</td>\n",
       "      <td>0.316165</td>\n",
       "    </tr>\n",
       "    <tr>\n",
       "      <th>32</th>\n",
       "      <td>2</td>\n",
       "      <td>A new Kveyt light variety of Suomalainen Pekoni marketed under the Atria brand name is now available to consumers in Finland .</td>\n",
       "      <td>0.003056</td>\n",
       "      <td>0.984124</td>\n",
       "      <td>0.012820</td>\n",
       "    </tr>\n",
       "    <tr>\n",
       "      <th>33</th>\n",
       "      <td>2</td>\n",
       "      <td>The decision to sell a share in Lenenergo was reached in line with Fortum 's strategic plans to invest mainly in generating assets in Russia , while Lenenergo is a grid company , the press release said .</td>\n",
       "      <td>0.005944</td>\n",
       "      <td>0.910940</td>\n",
       "      <td>0.083115</td>\n",
       "    </tr>\n",
       "    <tr>\n",
       "      <th>34</th>\n",
       "      <td>2</td>\n",
       "      <td>After the renovation the biggest moulding line in the Orhangazi foundry is the most modern line in Europe .</td>\n",
       "      <td>0.005173</td>\n",
       "      <td>0.634271</td>\n",
       "      <td>0.360555</td>\n",
       "    </tr>\n",
       "    <tr>\n",
       "      <th>35</th>\n",
       "      <td>2</td>\n",
       "      <td>`` I warmly welcome Michael Frei to Outotec .</td>\n",
       "      <td>0.012804</td>\n",
       "      <td>0.721469</td>\n",
       "      <td>0.265726</td>\n",
       "    </tr>\n",
       "    <tr>\n",
       "      <th>36</th>\n",
       "      <td>2</td>\n",
       "      <td>The company feels these leases are prime locations due to several producing formations in the immediate area .</td>\n",
       "      <td>0.012823</td>\n",
       "      <td>0.497159</td>\n",
       "      <td>0.490018</td>\n",
       "    </tr>\n",
       "    <tr>\n",
       "      <th>37</th>\n",
       "      <td>2</td>\n",
       "      <td>Finnish engineering and technology company Metso Oyj said on May 27 , 2008 it completed the acquisition of paper machinery technology from Japanese engineering company Mitsubishi Heavy Industries ( MHI ) for an undisclosed sum .</td>\n",
       "      <td>0.004268</td>\n",
       "      <td>0.924031</td>\n",
       "      <td>0.071700</td>\n",
       "    </tr>\n",
       "    <tr>\n",
       "      <th>38</th>\n",
       "      <td>2</td>\n",
       "      <td>Jobs will not be transferred from Finland , however .</td>\n",
       "      <td>0.003504</td>\n",
       "      <td>0.992100</td>\n",
       "      <td>0.004395</td>\n",
       "    </tr>\n",
       "    <tr>\n",
       "      <th>39</th>\n",
       "      <td>2</td>\n",
       "      <td>TomTom has given assurances that it will continue to sell maps to competitors if it wins EU approval .</td>\n",
       "      <td>0.004859</td>\n",
       "      <td>0.639475</td>\n",
       "      <td>0.355666</td>\n",
       "    </tr>\n",
       "    <tr>\n",
       "      <th>40</th>\n",
       "      <td>2</td>\n",
       "      <td>The company also expects to sell its products in other Russian region .</td>\n",
       "      <td>0.002566</td>\n",
       "      <td>0.952645</td>\n",
       "      <td>0.044789</td>\n",
       "    </tr>\n",
       "  </tbody>\n",
       "</table>\n",
       "</div>"
      ],
      "text/plain": [
       "    label  \\\n",
       "0       2   \n",
       "1       2   \n",
       "2       2   \n",
       "3       2   \n",
       "4       2   \n",
       "5       2   \n",
       "6       2   \n",
       "7       2   \n",
       "8       2   \n",
       "9       2   \n",
       "10      2   \n",
       "11      2   \n",
       "12      2   \n",
       "13      2   \n",
       "14      2   \n",
       "15      2   \n",
       "16      2   \n",
       "17      2   \n",
       "18      2   \n",
       "19      2   \n",
       "20      2   \n",
       "21      2   \n",
       "22      2   \n",
       "23      2   \n",
       "24      2   \n",
       "25      2   \n",
       "26      2   \n",
       "27      2   \n",
       "28      2   \n",
       "29      2   \n",
       "30      2   \n",
       "31      2   \n",
       "32      2   \n",
       "33      2   \n",
       "34      2   \n",
       "35      2   \n",
       "36      2   \n",
       "37      2   \n",
       "38      2   \n",
       "39      2   \n",
       "40      2   \n",
       "\n",
       "                                                                                                                                                                                                                                                                              text  \\\n",
       "0                                             Under a memorandum of understanding MoU the parties will collaborate in preparing and implementing joint projects in the fields of combined power and heat generation , environmental protection and energy efficient technologies .   \n",
       "1                                                                                                                  Ixonos estimates that it will hire 20 specialists in mechanical engineering , electronics design , and R&D for its new unit in Jyvaeskylae by the end of 2009 .   \n",
       "2                                                                                                                                                          The concept enables a commercially affordable way to manufacture high-quality TCO coated glass for the solar industry .   \n",
       "3                     Finnish financial solutions developer Basware Corporation ( OMX Helsinki BAS1V ) said on Tuesday ( 23 September ) that it will deliver a complete Invoice Automation solution to a large US engineering , construction and technical services organization .   \n",
       "4                                                                                                                                                                                      It currently employs about 750 people and expects headcount to reach 1,000 by end of 2007 .   \n",
       "5                                                                                                                                                  Biohit and VWR have been in close cooperation for a number of years in the US , where Biohit is one of VWR 's focus suppliers .   \n",
       "6                                                                                                                                                                                                Certain shareholders have irrevocably agreed to vote in favor of the bond issue .   \n",
       "7                                                                                                               In the Asia-Pacific region , Visa Wave is available in Malaysia , Taiwan and South Korea and will be expanded to Japan and Southeast Asia this year , Jung added .   \n",
       "8                                                                                                                                                                                         The contract was signed in August with Papua New Guinea-based Lihir Gold Ltd ASX : LGL .   \n",
       "9                                                                The sale , which will result in a gain of some EUR 60 million in the second quarter of 2010 for Oriola-KD , supports the Finnish company 's strategy to focus on pharmaceutical wholesale and retail operations .   \n",
       "10                            In China , Finnish Kone that provides elevators , escalators , and solutions for modernisation and maintenance will build 342 escalators that will be installed in a high-speed railway section between Beijing and Shanghai in a 1.5 years ' time .   \n",
       "11                                                                                                                                                                                                   The insurer anticipates its share in Nordea 's net profit to be significant .   \n",
       "12                                                 Stockmann and Swedish sector company AB Lindex entered into an agreement on September 30 , 2007 , whereby Stockmann , or a wholly-owned subsidiary of it , will make a public tender offer for all of Lindex 's issued shares .   \n",
       "13                                `` Indo-Russia trade can cross the targeted 10 billion dollars by 2010 and double to 20 billion dollars by 2015 , if trade irritants and procedural hassles are resolved , '' the chamber said in its survey on obstacles to trade with Russia .   \n",
       "14                                                                                                                                           Other carriers and handset makers spin it as a positive event that will raise interest for higher-end phones and pricier data plans .   \n",
       "15                                                                                                                                                In addition , Lehdentekijat Oy will start producing a new membership magazine , Viisas Raha ( Wise Money ) for the Association .   \n",
       "16                                                                                                                                                                  According to Schmardin , Nordea will most likely try to win customers over from other pension fund providers .   \n",
       "17                                                         The CL51 is designed to measure cloud base height and vertical visibility in all weather conditions , which makes it an ideal instrument for meteorological applications that rely on reliable cloud height detection .   \n",
       "18                                                                                                                                                            Self-service and automation are in a bigger role now and Fujitsu 's global resources will be exploited effectively .   \n",
       "19  Key shareholders of Finnish IT services provider TietoEnator Oyj on Friday rejected a hostile EUR1 .08 billion $ 1.67 billion offer from buyout shop Nordic Capital , giving new life to a possible counter offer from Blackstone Group LP and Norwegian telecom Telenor ASA .   \n",
       "20                                                                                                 Previously , EB delivered a custom solution for LG Electronics and now is making it commercially available for other mobile terminal vendors as well as to wireless operators .   \n",
       "21                                                                                                                                                                                                         Airbus has 100 firm orders for the A350 and 89 nonbinding commitments .   \n",
       "22                                                                                                                                                                                      The shopping center will have a prime location right next to the Myllypuro metro station .   \n",
       "23                                                                                                                                                              The core of Solidium 's investment strategy is proper , value enhancing asset management of the current holdings .   \n",
       "24                                                              Finnish Ahlstrom Corporation has ordered key production equipment for a new glass nonwovens production line at its Russian Tver Mill from Finnish Vaahto Pulp & Paper Machinery ( that is part of Vaahto Group ) .   \n",
       "25                                                                                                                                                                                             This bold spinning 360 red fabric design is set beautifully on Ercols Napoli sofa .   \n",
       "26                                                                                                                                                                                                                                           The diesel margin has remained high .   \n",
       "27                                                                                                                                           Finnish mobile operator DNA will function as a subcontractor to Maingate and will be responsible for telecommunications connections .   \n",
       "28                                                                                              FINANCING OF ASPOCOMP 'S GROWTH Aspocomp is aggressively pursuing its growth strategy by increasingly focusing on technologically more demanding HDI printed circuit boards PCBs .   \n",
       "29                                                                                                                                                                                          ` For Nordea , moving into the new headquarters signifies the beginning of a new era .   \n",
       "30                                                                                                                                                                        The purpose of this action is to ensure company 's cost effectiveness this year and in the near future .   \n",
       "31                                                                                                                           The divestment is in line with the company 's plans to focus on selected growth segments and streamline corporate structure , the company explained .   \n",
       "32                                                                                                                                                  A new Kveyt light variety of Suomalainen Pekoni marketed under the Atria brand name is now available to consumers in Finland .   \n",
       "33                                                                     The decision to sell a share in Lenenergo was reached in line with Fortum 's strategic plans to invest mainly in generating assets in Russia , while Lenenergo is a grid company , the press release said .   \n",
       "34                                                                                                                                                                     After the renovation the biggest moulding line in the Orhangazi foundry is the most modern line in Europe .   \n",
       "35                                                                                                                                                                                                                                   `` I warmly welcome Michael Frei to Outotec .   \n",
       "36                                                                                                                                                                  The company feels these leases are prime locations due to several producing formations in the immediate area .   \n",
       "37                                            Finnish engineering and technology company Metso Oyj said on May 27 , 2008 it completed the acquisition of paper machinery technology from Japanese engineering company Mitsubishi Heavy Industries ( MHI ) for an undisclosed sum .   \n",
       "38                                                                                                                                                                                                                           Jobs will not be transferred from Finland , however .   \n",
       "39                                                                                                                                                                          TomTom has given assurances that it will continue to sell maps to competitors if it wins EU approval .   \n",
       "40                                                                                                                                                                                                         The company also expects to sell its products in other Russian region .   \n",
       "\n",
       "    prob_neg  prob_neu  prob_pos  \n",
       "0   0.001690  0.799429  0.198881  \n",
       "1   0.006318  0.754398  0.239284  \n",
       "2   0.003028  0.817716  0.179256  \n",
       "3   0.003673  0.636909  0.359418  \n",
       "4   0.003116  0.953110  0.043774  \n",
       "5   0.004297  0.589365  0.406338  \n",
       "6   0.005934  0.974181  0.019885  \n",
       "7   0.003100  0.948386  0.048514  \n",
       "8   0.002223  0.957368  0.040409  \n",
       "9   0.003171  0.662991  0.333838  \n",
       "10  0.007187  0.689108  0.303704  \n",
       "11  0.006705  0.565465  0.427830  \n",
       "12  0.002070  0.868412  0.129518  \n",
       "13  0.093693  0.649209  0.257099  \n",
       "14  0.009008  0.617711  0.373281  \n",
       "15  0.003471  0.973198  0.023331  \n",
       "16  0.076257  0.814921  0.108822  \n",
       "17  0.002713  0.859210  0.138077  \n",
       "18  0.013771  0.694433  0.291796  \n",
       "19  0.183838  0.616415  0.199747  \n",
       "20  0.002179  0.968914  0.028907  \n",
       "21  0.002452  0.964140  0.033408  \n",
       "22  0.002305  0.978530  0.019165  \n",
       "23  0.001937  0.815166  0.182897  \n",
       "24  0.004293  0.701217  0.294490  \n",
       "25  0.002783  0.984890  0.012326  \n",
       "26  0.058707  0.838720  0.102574  \n",
       "27  0.002127  0.992710  0.005163  \n",
       "28  0.014393  0.587682  0.397926  \n",
       "29  0.004890  0.857981  0.137130  \n",
       "30  0.002721  0.719062  0.278217  \n",
       "31  0.005062  0.678773  0.316165  \n",
       "32  0.003056  0.984124  0.012820  \n",
       "33  0.005944  0.910940  0.083115  \n",
       "34  0.005173  0.634271  0.360555  \n",
       "35  0.012804  0.721469  0.265726  \n",
       "36  0.012823  0.497159  0.490018  \n",
       "37  0.004268  0.924031  0.071700  \n",
       "38  0.003504  0.992100  0.004395  \n",
       "39  0.004859  0.639475  0.355666  \n",
       "40  0.002566  0.952645  0.044789  "
      ]
     },
     "execution_count": 34,
     "metadata": {},
     "output_type": "execute_result"
    }
   ],
   "source": [
    "pd.set_option('display.max_colwidth', None)\n",
    "wrong_preds_df"
   ]
  },
  {
   "cell_type": "markdown",
   "metadata": {},
   "source": [
    "We can see that there are some pieces of news that could have various interpretations of whether it should be positive or neutral.\n",
    "\n",
    "For example, the sentence \"The CL51 is designed to measure cloud base height and vertical visibility in all weather conditions , which makes it an ideal instrument for meteorological applications that rely on reliable cloud height detection .\" does not seem to be positive news for me. It seems to just be reporting some facts. Perhaps if there was more context, the model may be able to predict the sentiment more accurately.\n",
    "\n",
    "\n",
    "\n",
    "However, there are also other sentences that seem fairly obvious that they are positive sentiment, but model classifies it wrongly with high confidence.\n",
    "\n",
    "For example, the sentence \"The insurer anticipates its share in Nordea 's net profit to be significant .\" should be regarded as positive news, because the company is anticipating its net profit to be significantly larger. However, it is predicted as neutral with a probability of 0.565465, which is a wrong prediction, although it is not very confident."
   ]
  }
 ],
 "metadata": {
  "kaggle": {
   "accelerator": "gpu",
   "dataSources": [],
   "dockerImageVersionId": 31090,
   "isGpuEnabled": true,
   "isInternetEnabled": true,
   "language": "python",
   "sourceType": "notebook"
  },
  "kernelspec": {
   "display_name": ".venv",
   "language": "python",
   "name": "python3"
  },
  "language_info": {
   "codemirror_mode": {
    "name": "ipython",
    "version": 3
   },
   "file_extension": ".py",
   "mimetype": "text/x-python",
   "name": "python",
   "nbconvert_exporter": "python",
   "pygments_lexer": "ipython3",
   "version": "3.12.1"
  }
 },
 "nbformat": 4,
 "nbformat_minor": 4
}
