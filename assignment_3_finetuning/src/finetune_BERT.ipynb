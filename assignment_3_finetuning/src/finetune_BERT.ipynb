{
 "cells": [
  {
   "cell_type": "markdown",
   "metadata": {},
   "source": [
    "## Finetune full BERT model on the processed financial dataset"
   ]
  },
  {
   "cell_type": "code",
   "execution_count": null,
   "metadata": {
    "execution": {
     "iopub.execute_input": "2025-10-08T10:02:00.682793Z",
     "iopub.status.busy": "2025-10-08T10:02:00.682227Z",
     "iopub.status.idle": "2025-10-08T10:02:00.687767Z",
     "shell.execute_reply": "2025-10-08T10:02:00.686939Z",
     "shell.execute_reply.started": "2025-10-08T10:02:00.682770Z"
    },
    "trusted": true
   },
   "outputs": [],
   "source": [
    "import numpy as np\n",
    "import pandas as pd\n",
    "import matplotlib.pyplot as plt\n",
    "import seaborn as sns\n",
    "\n",
    "from sklearn.metrics import confusion_matrix, roc_curve, roc_auc_score, auc, accuracy_score, precision_recall_fscore_support, classification_report, precision_recall_curve, average_precision_score\n",
    "from sklearn.preprocessing import label_binarize\n",
    "\n",
    "from dotenv import load_dotenv\n",
    "import os\n",
    "os.environ[\"WANDB_DISABLED\"] = \"true\"\n",
    "\n",
    "from huggingface_hub import login\n",
    "\n",
    "import evaluate\n",
    "\n",
    "from datasets import load_dataset\n",
    "\n",
    "from transformers import AutoTokenizer\n",
    "from transformers import AutoModelForSequenceClassification\n",
    "from transformers import TrainingArguments, Trainer\n",
    "from transformers import logging\n",
    "\n",
    "from peft import get_peft_model, LoraConfig, TaskType\n",
    "\n",
    "import time\n",
    "\n",
    "import torch\n",
    "\n",
    "load_dotenv()"
   ]
  },
  {
   "cell_type": "code",
   "execution_count": null,
   "metadata": {
    "execution": {
     "iopub.execute_input": "2025-10-08T09:52:21.181143Z",
     "iopub.status.busy": "2025-10-08T09:52:21.180390Z",
     "iopub.status.idle": "2025-10-08T09:52:21.262535Z",
     "shell.execute_reply": "2025-10-08T09:52:21.261716Z",
     "shell.execute_reply.started": "2025-10-08T09:52:21.181122Z"
    },
    "trusted": true
   },
   "outputs": [],
   "source": [
    "login(os.getenv('HUGGINGFACE_API_KEY'))"
   ]
  },
  {
   "cell_type": "code",
   "execution_count": 5,
   "metadata": {
    "execution": {
     "iopub.execute_input": "2025-10-08T09:52:21.263612Z",
     "iopub.status.busy": "2025-10-08T09:52:21.263340Z",
     "iopub.status.idle": "2025-10-08T09:52:24.120701Z",
     "shell.execute_reply": "2025-10-08T09:52:24.119904Z",
     "shell.execute_reply.started": "2025-10-08T09:52:21.263589Z"
    },
    "trusted": true
   },
   "outputs": [
    {
     "data": {
      "application/vnd.jupyter.widget-view+json": {
       "model_id": "eaaaa42b811f46b395df55d692da49d7",
       "version_major": 2,
       "version_minor": 0
      },
      "text/plain": [
       "README.md:   0%|          | 0.00/547 [00:00<?, ?B/s]"
      ]
     },
     "metadata": {},
     "output_type": "display_data"
    },
    {
     "data": {
      "application/vnd.jupyter.widget-view+json": {
       "model_id": "d8c0b6b42faa4a429ec8923791267e57",
       "version_major": 2,
       "version_minor": 0
      },
      "text/plain": [
       "data/train-00000-of-00001.parquet:   0%|          | 0.00/349k [00:00<?, ?B/s]"
      ]
     },
     "metadata": {},
     "output_type": "display_data"
    },
    {
     "data": {
      "application/vnd.jupyter.widget-view+json": {
       "model_id": "8983625738674d8e99f5f0e0d1fb1ae3",
       "version_major": 2,
       "version_minor": 0
      },
      "text/plain": [
       "data/validation-00000-of-00001.parquet:   0%|          | 0.00/45.4k [00:00<?, ?B/s]"
      ]
     },
     "metadata": {},
     "output_type": "display_data"
    },
    {
     "data": {
      "application/vnd.jupyter.widget-view+json": {
       "model_id": "b5197479e15c44f19e48e6b36cd50a89",
       "version_major": 2,
       "version_minor": 0
      },
      "text/plain": [
       "data/test-00000-of-00001.parquet:   0%|          | 0.00/46.2k [00:00<?, ?B/s]"
      ]
     },
     "metadata": {},
     "output_type": "display_data"
    },
    {
     "data": {
      "application/vnd.jupyter.widget-view+json": {
       "model_id": "ddb1e11eb8914f43a8f7e1f9736a7729",
       "version_major": 2,
       "version_minor": 0
      },
      "text/plain": [
       "Generating train split:   0%|          | 0/3876 [00:00<?, ? examples/s]"
      ]
     },
     "metadata": {},
     "output_type": "display_data"
    },
    {
     "data": {
      "application/vnd.jupyter.widget-view+json": {
       "model_id": "8cb8a6d681e344529108cc194be21c7d",
       "version_major": 2,
       "version_minor": 0
      },
      "text/plain": [
       "Generating validation split:   0%|          | 0/485 [00:00<?, ? examples/s]"
      ]
     },
     "metadata": {},
     "output_type": "display_data"
    },
    {
     "data": {
      "application/vnd.jupyter.widget-view+json": {
       "model_id": "2b3093d2e2b646ebb8c87cd76b3b1064",
       "version_major": 2,
       "version_minor": 0
      },
      "text/plain": [
       "Generating test split:   0%|          | 0/485 [00:00<?, ? examples/s]"
      ]
     },
     "metadata": {},
     "output_type": "display_data"
    }
   ],
   "source": [
    "dataset = load_dataset('Jiahao123/FinancialPhraseBank_processed')"
   ]
  },
  {
   "cell_type": "markdown",
   "metadata": {},
   "source": [
    "### Initialize model"
   ]
  },
  {
   "cell_type": "code",
   "execution_count": 6,
   "metadata": {
    "execution": {
     "iopub.execute_input": "2025-10-08T09:52:24.122748Z",
     "iopub.status.busy": "2025-10-08T09:52:24.122514Z",
     "iopub.status.idle": "2025-10-08T09:52:27.029179Z",
     "shell.execute_reply": "2025-10-08T09:52:27.028382Z",
     "shell.execute_reply.started": "2025-10-08T09:52:24.122730Z"
    },
    "trusted": true
   },
   "outputs": [
    {
     "data": {
      "application/vnd.jupyter.widget-view+json": {
       "model_id": "478ef77b92104a8da87d11b3af03d042",
       "version_major": 2,
       "version_minor": 0
      },
      "text/plain": [
       "config.json:   0%|          | 0.00/570 [00:00<?, ?B/s]"
      ]
     },
     "metadata": {},
     "output_type": "display_data"
    },
    {
     "data": {
      "application/vnd.jupyter.widget-view+json": {
       "model_id": "ff07a293be2749adbfc3cc2202164a96",
       "version_major": 2,
       "version_minor": 0
      },
      "text/plain": [
       "model.safetensors:   0%|          | 0.00/436M [00:00<?, ?B/s]"
      ]
     },
     "metadata": {},
     "output_type": "display_data"
    },
    {
     "name": "stderr",
     "output_type": "stream",
     "text": [
      "Some weights of BertForSequenceClassification were not initialized from the model checkpoint at google-bert/bert-base-cased and are newly initialized: ['classifier.bias', 'classifier.weight']\n",
      "You should probably TRAIN this model on a down-stream task to be able to use it for predictions and inference.\n"
     ]
    }
   ],
   "source": [
    "model = AutoModelForSequenceClassification.from_pretrained(\"google-bert/bert-base-cased\", num_labels=3)"
   ]
  },
  {
   "cell_type": "code",
   "execution_count": 7,
   "metadata": {
    "execution": {
     "iopub.execute_input": "2025-10-08T09:52:27.030619Z",
     "iopub.status.busy": "2025-10-08T09:52:27.030288Z",
     "iopub.status.idle": "2025-10-08T09:52:27.591593Z",
     "shell.execute_reply": "2025-10-08T09:52:27.590761Z",
     "shell.execute_reply.started": "2025-10-08T09:52:27.030593Z"
    },
    "trusted": true
   },
   "outputs": [
    {
     "data": {
      "application/vnd.jupyter.widget-view+json": {
       "model_id": "4b3710f64021421a9cf4fe150ab7af43",
       "version_major": 2,
       "version_minor": 0
      },
      "text/plain": [
       "tokenizer_config.json:   0%|          | 0.00/49.0 [00:00<?, ?B/s]"
      ]
     },
     "metadata": {},
     "output_type": "display_data"
    },
    {
     "data": {
      "application/vnd.jupyter.widget-view+json": {
       "model_id": "b8f5b79280564b3a89bfce08e8b215aa",
       "version_major": 2,
       "version_minor": 0
      },
      "text/plain": [
       "vocab.txt: 0.00B [00:00, ?B/s]"
      ]
     },
     "metadata": {},
     "output_type": "display_data"
    },
    {
     "data": {
      "application/vnd.jupyter.widget-view+json": {
       "model_id": "f6480921090b48b8afd90341c920e8a8",
       "version_major": 2,
       "version_minor": 0
      },
      "text/plain": [
       "tokenizer.json: 0.00B [00:00, ?B/s]"
      ]
     },
     "metadata": {},
     "output_type": "display_data"
    }
   ],
   "source": [
    "tokenizer = AutoTokenizer.from_pretrained(\"google-bert/bert-base-cased\")"
   ]
  },
  {
   "cell_type": "markdown",
   "metadata": {},
   "source": [
    "### Tokenize the text"
   ]
  },
  {
   "cell_type": "code",
   "execution_count": 8,
   "metadata": {
    "execution": {
     "iopub.execute_input": "2025-10-08T09:52:27.592704Z",
     "iopub.status.busy": "2025-10-08T09:52:27.592432Z",
     "iopub.status.idle": "2025-10-08T09:52:27.597283Z",
     "shell.execute_reply": "2025-10-08T09:52:27.596365Z",
     "shell.execute_reply.started": "2025-10-08T09:52:27.592676Z"
    },
    "trusted": true
   },
   "outputs": [],
   "source": [
    "def tokenize(examples):\n",
    "    return tokenizer(examples[\"text\"], padding=\"max_length\", truncation=True)"
   ]
  },
  {
   "cell_type": "code",
   "execution_count": 9,
   "metadata": {
    "execution": {
     "iopub.execute_input": "2025-10-08T09:52:27.598327Z",
     "iopub.status.busy": "2025-10-08T09:52:27.598077Z",
     "iopub.status.idle": "2025-10-08T09:52:27.614812Z",
     "shell.execute_reply": "2025-10-08T09:52:27.613990Z",
     "shell.execute_reply.started": "2025-10-08T09:52:27.598310Z"
    },
    "trusted": true
   },
   "outputs": [
    {
     "data": {
      "text/plain": [
       "DatasetDict({\n",
       "    train: Dataset({\n",
       "        features: ['index', 'label', 'text'],\n",
       "        num_rows: 3876\n",
       "    })\n",
       "    validation: Dataset({\n",
       "        features: ['index', 'label', 'text'],\n",
       "        num_rows: 485\n",
       "    })\n",
       "    test: Dataset({\n",
       "        features: ['index', 'label', 'text'],\n",
       "        num_rows: 485\n",
       "    })\n",
       "})"
      ]
     },
     "execution_count": 9,
     "metadata": {},
     "output_type": "execute_result"
    }
   ],
   "source": [
    "dataset"
   ]
  },
  {
   "cell_type": "code",
   "execution_count": 10,
   "metadata": {
    "execution": {
     "iopub.execute_input": "2025-10-08T09:52:27.615946Z",
     "iopub.status.busy": "2025-10-08T09:52:27.615602Z",
     "iopub.status.idle": "2025-10-08T09:52:29.308024Z",
     "shell.execute_reply": "2025-10-08T09:52:29.307202Z",
     "shell.execute_reply.started": "2025-10-08T09:52:27.615921Z"
    },
    "trusted": true
   },
   "outputs": [
    {
     "data": {
      "application/vnd.jupyter.widget-view+json": {
       "model_id": "6602b0f9994942e185eb31157b801cdd",
       "version_major": 2,
       "version_minor": 0
      },
      "text/plain": [
       "Map:   0%|          | 0/3876 [00:00<?, ? examples/s]"
      ]
     },
     "metadata": {},
     "output_type": "display_data"
    },
    {
     "data": {
      "application/vnd.jupyter.widget-view+json": {
       "model_id": "67e199736ebb48d1ab7f6ffab5457b25",
       "version_major": 2,
       "version_minor": 0
      },
      "text/plain": [
       "Map:   0%|          | 0/485 [00:00<?, ? examples/s]"
      ]
     },
     "metadata": {},
     "output_type": "display_data"
    },
    {
     "data": {
      "application/vnd.jupyter.widget-view+json": {
       "model_id": "d509409bacc341738eed5429bb5a4ad6",
       "version_major": 2,
       "version_minor": 0
      },
      "text/plain": [
       "Map:   0%|          | 0/485 [00:00<?, ? examples/s]"
      ]
     },
     "metadata": {},
     "output_type": "display_data"
    }
   ],
   "source": [
    "dataset = dataset.map(tokenize, batched=True)"
   ]
  },
  {
   "cell_type": "code",
   "execution_count": 11,
   "metadata": {
    "execution": {
     "iopub.execute_input": "2025-10-08T09:52:29.309157Z",
     "iopub.status.busy": "2025-10-08T09:52:29.308854Z",
     "iopub.status.idle": "2025-10-08T09:52:29.314368Z",
     "shell.execute_reply": "2025-10-08T09:52:29.313570Z",
     "shell.execute_reply.started": "2025-10-08T09:52:29.309139Z"
    },
    "trusted": true
   },
   "outputs": [],
   "source": [
    "dataset.set_format(type=\"torch\", columns=[\"input_ids\", \"attention_mask\", \"label\"])"
   ]
  },
  {
   "cell_type": "markdown",
   "metadata": {},
   "source": [
    "### Set up for training"
   ]
  },
  {
   "cell_type": "code",
   "execution_count": 12,
   "metadata": {
    "execution": {
     "iopub.execute_input": "2025-10-08T09:52:50.391363Z",
     "iopub.status.busy": "2025-10-08T09:52:50.390819Z",
     "iopub.status.idle": "2025-10-08T09:52:50.842516Z",
     "shell.execute_reply": "2025-10-08T09:52:50.841910Z",
     "shell.execute_reply.started": "2025-10-08T09:52:50.391337Z"
    },
    "trusted": true
   },
   "outputs": [
    {
     "data": {
      "application/vnd.jupyter.widget-view+json": {
       "model_id": "b91d1169401c42eface858a60578e193",
       "version_major": 2,
       "version_minor": 0
      },
      "text/plain": [
       "Downloading builder script: 0.00B [00:00, ?B/s]"
      ]
     },
     "metadata": {},
     "output_type": "display_data"
    }
   ],
   "source": [
    "metric = evaluate.load(\"f1\")\n",
    "\n",
    "def compute_metrics(eval_pred):\n",
    "    logits, labels = eval_pred\n",
    "    # convert the logits to their predicted class\n",
    "    predictions = np.argmax(logits, axis=-1)\n",
    "    return metric.compute(predictions=predictions, references=labels, average='weighted')"
   ]
  },
  {
   "cell_type": "code",
   "execution_count": 12,
   "metadata": {
    "execution": {
     "iopub.execute_input": "2025-10-01T12:39:54.247982Z",
     "iopub.status.busy": "2025-10-01T12:39:54.247781Z",
     "iopub.status.idle": "2025-10-01T12:39:54.251898Z",
     "shell.execute_reply": "2025-10-01T12:39:54.251108Z",
     "shell.execute_reply.started": "2025-10-01T12:39:54.247967Z"
    },
    "trusted": true
   },
   "outputs": [],
   "source": [
    "device = 'cuda' if torch.cuda.is_available() else 'cpu'"
   ]
  },
  {
   "cell_type": "code",
   "execution_count": 13,
   "metadata": {
    "execution": {
     "iopub.execute_input": "2025-10-01T12:39:54.252962Z",
     "iopub.status.busy": "2025-10-01T12:39:54.252733Z",
     "iopub.status.idle": "2025-10-01T12:39:54.266627Z",
     "shell.execute_reply": "2025-10-01T12:39:54.266090Z",
     "shell.execute_reply.started": "2025-10-01T12:39:54.252946Z"
    },
    "trusted": true
   },
   "outputs": [
    {
     "data": {
      "text/plain": [
       "'cuda'"
      ]
     },
     "execution_count": 13,
     "metadata": {},
     "output_type": "execute_result"
    }
   ],
   "source": [
    "device"
   ]
  },
  {
   "cell_type": "code",
   "execution_count": 14,
   "metadata": {
    "execution": {
     "iopub.execute_input": "2025-10-08T09:53:05.241227Z",
     "iopub.status.busy": "2025-10-08T09:53:05.240327Z",
     "iopub.status.idle": "2025-10-08T09:53:05.276794Z",
     "shell.execute_reply": "2025-10-08T09:53:05.275894Z",
     "shell.execute_reply.started": "2025-10-08T09:53:05.241184Z"
    },
    "trusted": true
   },
   "outputs": [
    {
     "name": "stderr",
     "output_type": "stream",
     "text": [
      "Using the `WANDB_DISABLED` environment variable is deprecated and will be removed in v5. Use the --report_to flag to control the integrations used for logging result (for instance --report_to none).\n"
     ]
    }
   ],
   "source": [
    "training_args = TrainingArguments(\n",
    "    output_dir=\"financial_classifier\",\n",
    "    learning_rate=1e-5,\n",
    "    logging_steps=10,\n",
    "    per_device_train_batch_size=16,\n",
    "    per_device_eval_batch_size=16,\n",
    "    num_train_epochs=10,\n",
    "    logging_strategy=\"steps\",\n",
    "    eval_strategy=\"epoch\",\n",
    "    save_strategy=\"epoch\",\n",
    "    load_best_model_at_end=True,\n",
    "    push_to_hub=True,\n",
    "    report_to=None\n",
    ")"
   ]
  },
  {
   "cell_type": "code",
   "execution_count": 15,
   "metadata": {
    "execution": {
     "iopub.execute_input": "2025-10-08T09:53:06.576967Z",
     "iopub.status.busy": "2025-10-08T09:53:06.576591Z",
     "iopub.status.idle": "2025-10-08T09:53:07.226597Z",
     "shell.execute_reply": "2025-10-08T09:53:07.225732Z",
     "shell.execute_reply.started": "2025-10-08T09:53:06.576931Z"
    },
    "trusted": true
   },
   "outputs": [],
   "source": [
    "trainer = Trainer(\n",
    "    model=model,\n",
    "    args=training_args,\n",
    "    train_dataset=dataset[\"train\"],\n",
    "    eval_dataset=dataset[\"validation\"],\n",
    "    compute_metrics=compute_metrics,\n",
    ")"
   ]
  },
  {
   "cell_type": "code",
   "execution_count": 17,
   "metadata": {
    "execution": {
     "iopub.execute_input": "2025-10-01T10:44:02.398381Z",
     "iopub.status.busy": "2025-10-01T10:44:02.397977Z",
     "iopub.status.idle": "2025-10-01T11:26:26.203411Z",
     "shell.execute_reply": "2025-10-01T11:26:26.202716Z",
     "shell.execute_reply.started": "2025-10-01T10:44:02.398354Z"
    },
    "trusted": true
   },
   "outputs": [
    {
     "data": {
      "text/html": [
       "\n",
       "    <div>\n",
       "      \n",
       "      <progress value='2430' max='2430' style='width:300px; height:20px; vertical-align: middle;'></progress>\n",
       "      [2430/2430 42:15, Epoch 10/10]\n",
       "    </div>\n",
       "    <table border=\"1\" class=\"dataframe\">\n",
       "  <thead>\n",
       " <tr style=\"text-align: left;\">\n",
       "      <th>Epoch</th>\n",
       "      <th>Training Loss</th>\n",
       "      <th>Validation Loss</th>\n",
       "      <th>F1</th>\n",
       "    </tr>\n",
       "  </thead>\n",
       "  <tbody>\n",
       "    <tr>\n",
       "      <td>1</td>\n",
       "      <td>0.600900</td>\n",
       "      <td>0.597937</td>\n",
       "      <td>0.696121</td>\n",
       "    </tr>\n",
       "    <tr>\n",
       "      <td>2</td>\n",
       "      <td>0.285600</td>\n",
       "      <td>0.383578</td>\n",
       "      <td>0.868169</td>\n",
       "    </tr>\n",
       "    <tr>\n",
       "      <td>3</td>\n",
       "      <td>0.241000</td>\n",
       "      <td>0.466502</td>\n",
       "      <td>0.845715</td>\n",
       "    </tr>\n",
       "    <tr>\n",
       "      <td>4</td>\n",
       "      <td>0.202200</td>\n",
       "      <td>0.510133</td>\n",
       "      <td>0.862002</td>\n",
       "    </tr>\n",
       "    <tr>\n",
       "      <td>5</td>\n",
       "      <td>0.136100</td>\n",
       "      <td>0.590658</td>\n",
       "      <td>0.858640</td>\n",
       "    </tr>\n",
       "    <tr>\n",
       "      <td>6</td>\n",
       "      <td>0.103200</td>\n",
       "      <td>0.714399</td>\n",
       "      <td>0.839303</td>\n",
       "    </tr>\n",
       "    <tr>\n",
       "      <td>7</td>\n",
       "      <td>0.077500</td>\n",
       "      <td>0.736900</td>\n",
       "      <td>0.865114</td>\n",
       "    </tr>\n",
       "    <tr>\n",
       "      <td>8</td>\n",
       "      <td>0.022100</td>\n",
       "      <td>0.789227</td>\n",
       "      <td>0.859096</td>\n",
       "    </tr>\n",
       "    <tr>\n",
       "      <td>9</td>\n",
       "      <td>0.027800</td>\n",
       "      <td>0.870917</td>\n",
       "      <td>0.835201</td>\n",
       "    </tr>\n",
       "    <tr>\n",
       "      <td>10</td>\n",
       "      <td>0.040500</td>\n",
       "      <td>0.864063</td>\n",
       "      <td>0.844921</td>\n",
       "    </tr>\n",
       "  </tbody>\n",
       "</table><p>"
      ],
      "text/plain": [
       "<IPython.core.display.HTML object>"
      ]
     },
     "metadata": {},
     "output_type": "display_data"
    },
    {
     "name": "stdout",
     "output_type": "stream",
     "text": [
      "Training took 2543.7767782211304 seconds.\n"
     ]
    }
   ],
   "source": [
    "# train model\n",
    "start_time = time.time()\n",
    "\n",
    "trainer.train()\n",
    "\n",
    "end_time = time.time()\n",
    "print(f\"Training took {end_time - start_time} seconds.\")"
   ]
  },
  {
   "cell_type": "markdown",
   "metadata": {},
   "source": [
    "We can see that the model overfitted on the data. Training of the model took 2543 seconds."
   ]
  },
  {
   "cell_type": "code",
   "execution_count": 18,
   "metadata": {
    "execution": {
     "iopub.execute_input": "2025-10-01T11:27:17.708492Z",
     "iopub.status.busy": "2025-10-01T11:27:17.707870Z",
     "iopub.status.idle": "2025-10-01T11:27:24.629609Z",
     "shell.execute_reply": "2025-10-01T11:27:24.628890Z",
     "shell.execute_reply.started": "2025-10-01T11:27:17.708469Z"
    },
    "trusted": true
   },
   "outputs": [
    {
     "data": {
      "application/vnd.jupyter.widget-view+json": {
       "model_id": "d4194941075042bc9ca56c96f2fb0aba",
       "version_major": 2,
       "version_minor": 0
      },
      "text/plain": [
       "Uploading...:   0%|          | 0.00/433M [00:00<?, ?B/s]"
      ]
     },
     "metadata": {},
     "output_type": "display_data"
    },
    {
     "data": {
      "text/plain": [
       "CommitInfo(commit_url='https://huggingface.co/Jiahao123/financial_classifier/commit/ce7f7830ec084514e630c1f0818288fedbe10820', commit_message='financial-sentiment-BERT', commit_description='', oid='ce7f7830ec084514e630c1f0818288fedbe10820', pr_url=None, repo_url=RepoUrl('https://huggingface.co/Jiahao123/financial_classifier', endpoint='https://huggingface.co', repo_type='model', repo_id='Jiahao123/financial_classifier'), pr_revision=None, pr_num=None)"
      ]
     },
     "execution_count": 18,
     "metadata": {},
     "output_type": "execute_result"
    }
   ],
   "source": [
    "trainer.push_to_hub(\"financial-sentiment-BERT\")"
   ]
  },
  {
   "cell_type": "code",
   "execution_count": 26,
   "metadata": {
    "execution": {
     "iopub.execute_input": "2025-10-01T11:33:09.591517Z",
     "iopub.status.busy": "2025-10-01T11:33:09.591188Z",
     "iopub.status.idle": "2025-10-01T11:33:10.880611Z",
     "shell.execute_reply": "2025-10-01T11:33:10.879697Z",
     "shell.execute_reply.started": "2025-10-01T11:33:09.591483Z"
    },
    "trusted": true
   },
   "outputs": [
    {
     "data": {
      "application/vnd.jupyter.widget-view+json": {
       "model_id": "95f87c00f1064bc1a02d04fb6549bb28",
       "version_major": 2,
       "version_minor": 0
      },
      "text/plain": [
       "README.md: 0.00B [00:00, ?B/s]"
      ]
     },
     "metadata": {},
     "output_type": "display_data"
    },
    {
     "data": {
      "text/plain": [
       "CommitInfo(commit_url='https://huggingface.co/Jiahao123/financial_classifier/commit/39bbbc6ca5017b5f207c4ad83ccb23dd1a8c4dcd', commit_message='Upload tokenizer', commit_description='', oid='39bbbc6ca5017b5f207c4ad83ccb23dd1a8c4dcd', pr_url=None, repo_url=RepoUrl('https://huggingface.co/Jiahao123/financial_classifier', endpoint='https://huggingface.co', repo_type='model', repo_id='Jiahao123/financial_classifier'), pr_revision=None, pr_num=None)"
      ]
     },
     "execution_count": 26,
     "metadata": {},
     "output_type": "execute_result"
    }
   ],
   "source": [
    "tokenizer.push_to_hub(\"Jiahao123/financial_classifier\")"
   ]
  },
  {
   "cell_type": "code",
   "execution_count": 28,
   "metadata": {
    "execution": {
     "iopub.execute_input": "2025-10-01T12:47:36.109641Z",
     "iopub.status.busy": "2025-10-01T12:47:36.109383Z",
     "iopub.status.idle": "2025-10-01T12:47:43.462491Z",
     "shell.execute_reply": "2025-10-01T12:47:43.461956Z",
     "shell.execute_reply.started": "2025-10-01T12:47:36.109625Z"
    },
    "trusted": true
   },
   "outputs": [
    {
     "data": {
      "text/plain": [
       "{'eval_loss': 0.3835775852203369,\n",
       " 'eval_model_preparation_time': 0.0028,\n",
       " 'eval_f1': 0.8681688858231823,\n",
       " 'eval_runtime': 7.3408,\n",
       " 'eval_samples_per_second': 66.069,\n",
       " 'eval_steps_per_second': 4.223}"
      ]
     },
     "execution_count": 28,
     "metadata": {},
     "output_type": "execute_result"
    }
   ],
   "source": [
    "trainer.evaluate(dataset['validation'])"
   ]
  },
  {
   "cell_type": "markdown",
   "metadata": {},
   "source": [
    "### Evaluate model performance"
   ]
  },
  {
   "cell_type": "code",
   "execution_count": 16,
   "metadata": {
    "execution": {
     "iopub.execute_input": "2025-10-08T09:54:49.417880Z",
     "iopub.status.busy": "2025-10-08T09:54:49.417258Z",
     "iopub.status.idle": "2025-10-08T09:54:57.212177Z",
     "shell.execute_reply": "2025-10-08T09:54:57.211565Z",
     "shell.execute_reply.started": "2025-10-08T09:54:49.417857Z"
    },
    "trusted": true
   },
   "outputs": [
    {
     "data": {
      "text/html": [],
      "text/plain": [
       "<IPython.core.display.HTML object>"
      ]
     },
     "metadata": {},
     "output_type": "display_data"
    },
    {
     "data": {
      "text/plain": [
       "{'eval_loss': 0.584624171257019,\n",
       " 'eval_model_preparation_time': 0.0028,\n",
       " 'eval_f1': 0.8146371060999287,\n",
       " 'eval_runtime': 7.7574,\n",
       " 'eval_samples_per_second': 62.521,\n",
       " 'eval_steps_per_second': 3.996}"
      ]
     },
     "execution_count": 16,
     "metadata": {},
     "output_type": "execute_result"
    }
   ],
   "source": [
    "trainer.evaluate(dataset['test'])"
   ]
  },
  {
   "cell_type": "code",
   "execution_count": 17,
   "metadata": {
    "execution": {
     "iopub.execute_input": "2025-10-08T09:54:57.213519Z",
     "iopub.status.busy": "2025-10-08T09:54:57.213248Z",
     "iopub.status.idle": "2025-10-08T09:55:04.599101Z",
     "shell.execute_reply": "2025-10-08T09:55:04.598001Z",
     "shell.execute_reply.started": "2025-10-08T09:54:57.213500Z"
    },
    "trusted": true
   },
   "outputs": [],
   "source": [
    "predictions = trainer.predict(dataset[\"test\"])"
   ]
  },
  {
   "cell_type": "code",
   "execution_count": 18,
   "metadata": {
    "execution": {
     "iopub.execute_input": "2025-10-08T09:55:04.601424Z",
     "iopub.status.busy": "2025-10-08T09:55:04.600668Z",
     "iopub.status.idle": "2025-10-08T09:55:04.609043Z",
     "shell.execute_reply": "2025-10-08T09:55:04.608164Z",
     "shell.execute_reply.started": "2025-10-08T09:55:04.601375Z"
    },
    "trusted": true
   },
   "outputs": [],
   "source": [
    "logits = predictions.predictions\n",
    "labels = predictions.label_ids\n",
    "probabilities = torch.softmax(torch.tensor(logits), dim=1).numpy()\n",
    "preds = np.argmax(logits, axis=1)"
   ]
  },
  {
   "cell_type": "code",
   "execution_count": 19,
   "metadata": {
    "execution": {
     "iopub.execute_input": "2025-10-08T09:55:08.740507Z",
     "iopub.status.busy": "2025-10-08T09:55:08.739914Z",
     "iopub.status.idle": "2025-10-08T09:55:09.032658Z",
     "shell.execute_reply": "2025-10-08T09:55:09.031944Z",
     "shell.execute_reply.started": "2025-10-08T09:55:08.740486Z"
    },
    "trusted": true
   },
   "outputs": [
    {
     "data": {
      "image/png": "[encoded data removed]",
      "text/plain": [
       "<Figure size 1500x1000 with 2 Axes>"
      ]
     },
     "metadata": {},
     "output_type": "display_data"
    }
   ],
   "source": [
    "# confusion matrix\n",
    "cm = confusion_matrix(labels, preds, normalize='true')\n",
    "plt.figure(figsize=(15, 10))\n",
    "sns.heatmap(cm, annot=True, fmt='2f', cmap='Blues')\n",
    "\n",
    "plt.xlabel('Predicted')\n",
    "plt.ylabel('Actual')\n",
    "plt.title('Confusion Matrix')\n",
    "plt.show()"
   ]
  },
  {
   "cell_type": "markdown",
   "metadata": {},
   "source": [
    "We can see that the model seems to perform well for classes 0 and 1, and does poorly for class 2.\n",
    "\n",
    "About 86% of negative sentiment were correctly predicted as negative, 87% of neutral sentiment were correctly predicted as neutral, while only 66% of positive news were correctly predicted as positive."
   ]
  },
  {
   "cell_type": "code",
   "execution_count": 20,
   "metadata": {
    "execution": {
     "iopub.execute_input": "2025-10-08T09:55:12.161499Z",
     "iopub.status.busy": "2025-10-08T09:55:12.161192Z",
     "iopub.status.idle": "2025-10-08T09:55:12.395669Z",
     "shell.execute_reply": "2025-10-08T09:55:12.394890Z",
     "shell.execute_reply.started": "2025-10-08T09:55:12.161478Z"
    },
    "trusted": true
   },
   "outputs": [
    {
     "data": {
      "image/png": "[encoded data removed]",
      "text/plain": [
       "<Figure size 1500x1000 with 1 Axes>"
      ]
     },
     "metadata": {},
     "output_type": "display_data"
    }
   ],
   "source": [
    "# roc curve for all 3 classes\n",
    "# one vs all ROC curve\n",
    "labels_onehot = label_binarize(labels, classes=[0, 1, 2])\n",
    "\n",
    "plt.figure(figsize=(15, 10))\n",
    "for i in range(3):\n",
    "    fpr, tpr, _ = roc_curve(labels_onehot[:, i], probabilities[:, i])\n",
    "    roc_auc = auc(fpr, tpr)\n",
    "    plt.plot(fpr, tpr, label=f'Class {i} (AUC = {roc_auc:.2f})')\n",
    "\n",
    "plt.plot([0,1], [0,1], 'k--')  # diagonal line\n",
    "plt.xlabel('False Positive Rate')\n",
    "plt.ylabel('True Positive Rate')\n",
    "plt.title('Multiclass ROC Curve')\n",
    "plt.legend()\n",
    "plt.show()"
   ]
  },
  {
   "cell_type": "markdown",
   "metadata": {},
   "source": [
    "Model seems to be able to distinguish class 0 the best"
   ]
  },
  {
   "cell_type": "markdown",
   "metadata": {},
   "source": [
    "### Precision-Recall curve"
   ]
  },
  {
   "cell_type": "code",
   "execution_count": 41,
   "metadata": {
    "execution": {
     "iopub.execute_input": "2025-10-08T10:23:01.471332Z",
     "iopub.status.busy": "2025-10-08T10:23:01.470744Z",
     "iopub.status.idle": "2025-10-08T10:23:01.690074Z",
     "shell.execute_reply": "2025-10-08T10:23:01.689303Z",
     "shell.execute_reply.started": "2025-10-08T10:23:01.471309Z"
    },
    "trusted": true
   },
   "outputs": [
    {
     "data": {
      "image/png": "[encoded data removed]",
      "text/plain": [
       "<Figure size 1200x800 with 1 Axes>"
      ]
     },
     "metadata": {},
     "output_type": "display_data"
    }
   ],
   "source": [
    "n_classes = labels_onehot.shape[1]\n",
    "\n",
    "# Compute Precision-Recall for each class\n",
    "plt.figure(figsize=(12, 8))\n",
    "\n",
    "for i in range(n_classes):\n",
    "    precision, recall, _ = precision_recall_curve(labels_onehot[:, i], probabilities[:, i])\n",
    "    ap = average_precision_score(labels_onehot[:, i], probabilities[:, i], average='weighted')\n",
    "    plt.plot(recall, precision,\n",
    "             label=f'Class {i} (Average Precision = {ap:.2f})')\n",
    "\n",
    "plt.xlabel('Recall')\n",
    "plt.ylabel('Precision')\n",
    "plt.title('One-vs-Rest Precision-Recall Curve')\n",
    "plt.legend()\n",
    "plt.show()"
   ]
  },
  {
   "cell_type": "markdown",
   "metadata": {},
   "source": [
    "We can see that for class 0, the model performs the worst in terms of the precision recall curve and average precision.\n",
    "\n",
    "The model struggles with distinguishing between negative sentiments vs non-negative sentiments.\n",
    "\n",
    "For neutral sentiment and positive sentiment, the precision-recall curve is better, as there is higher average precision of prediction of both classes."
   ]
  },
  {
   "cell_type": "code",
   "execution_count": 39,
   "metadata": {
    "execution": {
     "iopub.execute_input": "2025-10-08T10:16:58.365860Z",
     "iopub.status.busy": "2025-10-08T10:16:58.365612Z",
     "iopub.status.idle": "2025-10-08T10:16:58.376804Z",
     "shell.execute_reply": "2025-10-08T10:16:58.376097Z",
     "shell.execute_reply.started": "2025-10-08T10:16:58.365844Z"
    },
    "trusted": true
   },
   "outputs": [
    {
     "name": "stdout",
     "output_type": "stream",
     "text": [
      "              precision    recall  f1-score   support\n",
      "\n",
      "           0       0.69      0.87      0.77        61\n",
      "           1       0.85      0.88      0.87       288\n",
      "           2       0.80      0.66      0.73       136\n",
      "\n",
      "    accuracy                           0.82       485\n",
      "   macro avg       0.78      0.80      0.79       485\n",
      "weighted avg       0.82      0.82      0.81       485\n",
      "\n"
     ]
    }
   ],
   "source": [
    "report = classification_report(labels, preds)\n",
    "print(report)"
   ]
  },
  {
   "cell_type": "markdown",
   "metadata": {},
   "source": [
    "### Analysis on texts that model predicted as neutral but is actually positive\n",
    "\n",
    "For the test set"
   ]
  },
  {
   "cell_type": "code",
   "execution_count": 25,
   "metadata": {
    "execution": {
     "iopub.execute_input": "2025-10-08T05:46:01.778830Z",
     "iopub.status.busy": "2025-10-08T05:46:01.778521Z",
     "iopub.status.idle": "2025-10-08T05:46:01.782689Z",
     "shell.execute_reply": "2025-10-08T05:46:01.781765Z",
     "shell.execute_reply.started": "2025-10-08T05:46:01.778809Z"
    },
    "trusted": true
   },
   "outputs": [],
   "source": [
    "mask = (preds == 1) & (labels == 2)\n",
    "indices = np.where(mask)[0]"
   ]
  },
  {
   "cell_type": "code",
   "execution_count": 26,
   "metadata": {
    "execution": {
     "iopub.execute_input": "2025-10-08T05:46:05.039259Z",
     "iopub.status.busy": "2025-10-08T05:46:05.038673Z",
     "iopub.status.idle": "2025-10-08T05:46:05.043988Z",
     "shell.execute_reply": "2025-10-08T05:46:05.043250Z",
     "shell.execute_reply.started": "2025-10-08T05:46:05.039238Z"
    },
    "trusted": true
   },
   "outputs": [
    {
     "data": {
      "text/plain": [
       "array([  1,   3,  14,  18,  60,  73,  81, 101, 102, 103, 104, 119, 120,\n",
       "       154, 159, 162, 184, 200, 220, 222, 286, 287, 302, 314, 336, 340,\n",
       "       355, 358, 381, 402, 408, 418, 429, 433, 443, 469, 473])"
      ]
     },
     "execution_count": 26,
     "metadata": {},
     "output_type": "execute_result"
    }
   ],
   "source": [
    "indices"
   ]
  },
  {
   "cell_type": "code",
   "execution_count": 79,
   "metadata": {
    "execution": {
     "iopub.execute_input": "2025-10-08T06:03:22.674115Z",
     "iopub.status.busy": "2025-10-08T06:03:22.673870Z",
     "iopub.status.idle": "2025-10-08T06:03:22.681790Z",
     "shell.execute_reply": "2025-10-08T06:03:22.681189Z",
     "shell.execute_reply.started": "2025-10-08T06:03:22.674097Z"
    },
    "trusted": true
   },
   "outputs": [],
   "source": [
    "wrong_preds = dataset['test'].select(indices)\n",
    "wrong_probs = probabilities[indices]\n",
    "wrong_probs_df = pd.DataFrame(wrong_probs, columns=['prob_neg', 'prob_neu', 'prob_pos'])"
   ]
  },
  {
   "cell_type": "code",
   "execution_count": 80,
   "metadata": {
    "execution": {
     "iopub.execute_input": "2025-10-08T06:03:22.823401Z",
     "iopub.status.busy": "2025-10-08T06:03:22.822810Z",
     "iopub.status.idle": "2025-10-08T06:03:22.828262Z",
     "shell.execute_reply": "2025-10-08T06:03:22.827734Z",
     "shell.execute_reply.started": "2025-10-08T06:03:22.823377Z"
    },
    "trusted": true
   },
   "outputs": [],
   "source": [
    "wrong_preds = wrong_preds.select_columns(['label', 'text'])"
   ]
  },
  {
   "cell_type": "code",
   "execution_count": 81,
   "metadata": {
    "execution": {
     "iopub.execute_input": "2025-10-08T06:03:22.985476Z",
     "iopub.status.busy": "2025-10-08T06:03:22.985245Z",
     "iopub.status.idle": "2025-10-08T06:03:22.989963Z",
     "shell.execute_reply": "2025-10-08T06:03:22.989398Z",
     "shell.execute_reply.started": "2025-10-08T06:03:22.985457Z"
    },
    "trusted": true
   },
   "outputs": [
    {
     "data": {
      "text/plain": [
       "Dataset({\n",
       "    features: ['label', 'text'],\n",
       "    num_rows: 37\n",
       "})"
      ]
     },
     "execution_count": 81,
     "metadata": {},
     "output_type": "execute_result"
    }
   ],
   "source": [
    "wrong_preds"
   ]
  },
  {
   "cell_type": "code",
   "execution_count": 82,
   "metadata": {
    "execution": {
     "iopub.execute_input": "2025-10-08T06:03:23.129566Z",
     "iopub.status.busy": "2025-10-08T06:03:23.129121Z",
     "iopub.status.idle": "2025-10-08T06:03:23.134243Z",
     "shell.execute_reply": "2025-10-08T06:03:23.133709Z",
     "shell.execute_reply.started": "2025-10-08T06:03:23.129545Z"
    },
    "trusted": true
   },
   "outputs": [],
   "source": [
    "wrong_preds_df = wrong_preds.to_pandas()\n",
    "wrong_preds_df = pd.concat([wrong_preds_df, wrong_probs_df], axis = 1)"
   ]
  },
  {
   "cell_type": "code",
   "execution_count": 84,
   "metadata": {
    "execution": {
     "iopub.execute_input": "2025-10-08T06:03:29.426182Z",
     "iopub.status.busy": "2025-10-08T06:03:29.425916Z",
     "iopub.status.idle": "2025-10-08T06:03:29.437546Z",
     "shell.execute_reply": "2025-10-08T06:03:29.436953Z",
     "shell.execute_reply.started": "2025-10-08T06:03:29.426162Z"
    },
    "trusted": true
   },
   "outputs": [
    {
     "data": {
      "text/html": [
       "<div>\n",
       "<style scoped>\n",
       "    .dataframe tbody tr th:only-of-type {\n",
       "        vertical-align: middle;\n",
       "    }\n",
       "\n",
       "    .dataframe tbody tr th {\n",
       "        vertical-align: top;\n",
       "    }\n",
       "\n",
       "    .dataframe thead th {\n",
       "        text-align: right;\n",
       "    }\n",
       "</style>\n",
       "<table border=\"1\" class=\"dataframe\">\n",
       "  <thead>\n",
       "    <tr style=\"text-align: right;\">\n",
       "      <th></th>\n",
       "      <th>label</th>\n",
       "      <th>text</th>\n",
       "      <th>prob_neg</th>\n",
       "      <th>prob_neu</th>\n",
       "      <th>prob_pos</th>\n",
       "    </tr>\n",
       "  </thead>\n",
       "  <tbody>\n",
       "    <tr>\n",
       "      <th>0</th>\n",
       "      <td>2</td>\n",
       "      <td>Under a memorandum of understanding MoU the parties will collaborate in preparing and implementing joint projects in the fields of combined power and heat generation , environmental protection and energy efficient technologies .</td>\n",
       "      <td>0.016506</td>\n",
       "      <td>0.667894</td>\n",
       "      <td>0.315600</td>\n",
       "    </tr>\n",
       "    <tr>\n",
       "      <th>1</th>\n",
       "      <td>2</td>\n",
       "      <td>Ixonos estimates that it will hire 20 specialists in mechanical engineering , electronics design , and R&amp;D for its new unit in Jyvaeskylae by the end of 2009 .</td>\n",
       "      <td>0.004312</td>\n",
       "      <td>0.982849</td>\n",
       "      <td>0.012839</td>\n",
       "    </tr>\n",
       "    <tr>\n",
       "      <th>2</th>\n",
       "      <td>2</td>\n",
       "      <td>The concept enables a commercially affordable way to manufacture high-quality TCO coated glass for the solar industry .</td>\n",
       "      <td>0.007408</td>\n",
       "      <td>0.921826</td>\n",
       "      <td>0.070766</td>\n",
       "    </tr>\n",
       "    <tr>\n",
       "      <th>3</th>\n",
       "      <td>2</td>\n",
       "      <td>Finnish financial solutions developer Basware Corporation ( OMX Helsinki BAS1V ) said on Tuesday ( 23 September ) that it will deliver a complete Invoice Automation solution to a large US engineering , construction and technical services organization .</td>\n",
       "      <td>0.010330</td>\n",
       "      <td>0.883784</td>\n",
       "      <td>0.105887</td>\n",
       "    </tr>\n",
       "    <tr>\n",
       "      <th>4</th>\n",
       "      <td>2</td>\n",
       "      <td>It currently employs about 750 people and expects headcount to reach 1,000 by end of 2007 .</td>\n",
       "      <td>0.009398</td>\n",
       "      <td>0.972008</td>\n",
       "      <td>0.018594</td>\n",
       "    </tr>\n",
       "    <tr>\n",
       "      <th>5</th>\n",
       "      <td>2</td>\n",
       "      <td>About Nokia Nokia is a pioneer in mobile telecommunications and the world 's leading maker of mobile devices .</td>\n",
       "      <td>0.015296</td>\n",
       "      <td>0.755066</td>\n",
       "      <td>0.229638</td>\n",
       "    </tr>\n",
       "    <tr>\n",
       "      <th>6</th>\n",
       "      <td>2</td>\n",
       "      <td>Certain shareholders have irrevocably agreed to vote in favor of the bond issue .</td>\n",
       "      <td>0.007583</td>\n",
       "      <td>0.979941</td>\n",
       "      <td>0.012476</td>\n",
       "    </tr>\n",
       "    <tr>\n",
       "      <th>7</th>\n",
       "      <td>2</td>\n",
       "      <td>In the Asia-Pacific region , Visa Wave is available in Malaysia , Taiwan and South Korea and will be expanded to Japan and Southeast Asia this year , Jung added .</td>\n",
       "      <td>0.004940</td>\n",
       "      <td>0.969296</td>\n",
       "      <td>0.025764</td>\n",
       "    </tr>\n",
       "    <tr>\n",
       "      <th>8</th>\n",
       "      <td>2</td>\n",
       "      <td>The contract was signed in August with Papua New Guinea-based Lihir Gold Ltd ASX : LGL .</td>\n",
       "      <td>0.016079</td>\n",
       "      <td>0.789561</td>\n",
       "      <td>0.194360</td>\n",
       "    </tr>\n",
       "    <tr>\n",
       "      <th>9</th>\n",
       "      <td>2</td>\n",
       "      <td>The sale , which will result in a gain of some EUR 60 million in the second quarter of 2010 for Oriola-KD , supports the Finnish company 's strategy to focus on pharmaceutical wholesale and retail operations .</td>\n",
       "      <td>0.008937</td>\n",
       "      <td>0.906712</td>\n",
       "      <td>0.084352</td>\n",
       "    </tr>\n",
       "    <tr>\n",
       "      <th>10</th>\n",
       "      <td>2</td>\n",
       "      <td>In China , Finnish Kone that provides elevators , escalators , and solutions for modernisation and maintenance will build 342 escalators that will be installed in a high-speed railway section between Beijing and Shanghai in a 1.5 years ' time .</td>\n",
       "      <td>0.003270</td>\n",
       "      <td>0.986133</td>\n",
       "      <td>0.010597</td>\n",
       "    </tr>\n",
       "    <tr>\n",
       "      <th>11</th>\n",
       "      <td>2</td>\n",
       "      <td>For Telenor , the three and a half year contract is worth an estimated 12.6 m. YIT has chosen Telenor and Elisa as its principal suppliers of ICT solutions in Norway , Sweden , Denmark and Finland .</td>\n",
       "      <td>0.011300</td>\n",
       "      <td>0.828307</td>\n",
       "      <td>0.160393</td>\n",
       "    </tr>\n",
       "    <tr>\n",
       "      <th>12</th>\n",
       "      <td>2</td>\n",
       "      <td>The company expects its net sales in the first half of 2008 to reach the previous year 's level .</td>\n",
       "      <td>0.006330</td>\n",
       "      <td>0.955171</td>\n",
       "      <td>0.038499</td>\n",
       "    </tr>\n",
       "    <tr>\n",
       "      <th>13</th>\n",
       "      <td>2</td>\n",
       "      <td>The insurer anticipates its share in Nordea 's net profit to be significant .</td>\n",
       "      <td>0.017542</td>\n",
       "      <td>0.731112</td>\n",
       "      <td>0.251346</td>\n",
       "    </tr>\n",
       "    <tr>\n",
       "      <th>14</th>\n",
       "      <td>2</td>\n",
       "      <td>Paper maker Stora Enso Oyj said Friday it has been acquitted of charges that it participated in a paper price-fixing conspiracy in the United States .</td>\n",
       "      <td>0.200594</td>\n",
       "      <td>0.483948</td>\n",
       "      <td>0.315458</td>\n",
       "    </tr>\n",
       "    <tr>\n",
       "      <th>15</th>\n",
       "      <td>2</td>\n",
       "      <td>Stockmann and Swedish sector company AB Lindex entered into an agreement on September 30 , 2007 , whereby Stockmann , or a wholly-owned subsidiary of it , will make a public tender offer for all of Lindex 's issued shares .</td>\n",
       "      <td>0.021052</td>\n",
       "      <td>0.651330</td>\n",
       "      <td>0.327619</td>\n",
       "    </tr>\n",
       "    <tr>\n",
       "      <th>16</th>\n",
       "      <td>2</td>\n",
       "      <td>In addition , Lehdentekijat Oy will start producing a new membership magazine , Viisas Raha ( Wise Money ) for the Association .</td>\n",
       "      <td>0.003630</td>\n",
       "      <td>0.987362</td>\n",
       "      <td>0.009009</td>\n",
       "    </tr>\n",
       "    <tr>\n",
       "      <th>17</th>\n",
       "      <td>2</td>\n",
       "      <td>According to Schmardin , Nordea will most likely try to win customers over from other pension fund providers .</td>\n",
       "      <td>0.014204</td>\n",
       "      <td>0.917967</td>\n",
       "      <td>0.067829</td>\n",
       "    </tr>\n",
       "    <tr>\n",
       "      <th>18</th>\n",
       "      <td>2</td>\n",
       "      <td>The company is also featured in the Ethibel Pioneer Investment Register and included in Innovest 's Global 100 list of the world 's most sustainable corporations .</td>\n",
       "      <td>0.003295</td>\n",
       "      <td>0.984390</td>\n",
       "      <td>0.012315</td>\n",
       "    </tr>\n",
       "    <tr>\n",
       "      <th>19</th>\n",
       "      <td>2</td>\n",
       "      <td>The CL51 is designed to measure cloud base height and vertical visibility in all weather conditions , which makes it an ideal instrument for meteorological applications that rely on reliable cloud height detection .</td>\n",
       "      <td>0.005800</td>\n",
       "      <td>0.963198</td>\n",
       "      <td>0.031003</td>\n",
       "    </tr>\n",
       "    <tr>\n",
       "      <th>20</th>\n",
       "      <td>2</td>\n",
       "      <td>Previously , EB delivered a custom solution for LG Electronics and now is making it commercially available for other mobile terminal vendors as well as to wireless operators .</td>\n",
       "      <td>0.003031</td>\n",
       "      <td>0.988544</td>\n",
       "      <td>0.008425</td>\n",
       "    </tr>\n",
       "    <tr>\n",
       "      <th>21</th>\n",
       "      <td>2</td>\n",
       "      <td>Airbus has 100 firm orders for the A350 and 89 nonbinding commitments .</td>\n",
       "      <td>0.005174</td>\n",
       "      <td>0.981895</td>\n",
       "      <td>0.012931</td>\n",
       "    </tr>\n",
       "    <tr>\n",
       "      <th>22</th>\n",
       "      <td>2</td>\n",
       "      <td>The shopping center will have a prime location right next to the Myllypuro metro station .</td>\n",
       "      <td>0.003089</td>\n",
       "      <td>0.990738</td>\n",
       "      <td>0.006173</td>\n",
       "    </tr>\n",
       "    <tr>\n",
       "      <th>23</th>\n",
       "      <td>2</td>\n",
       "      <td>The core of Solidium 's investment strategy is proper , value enhancing asset management of the current holdings .</td>\n",
       "      <td>0.004042</td>\n",
       "      <td>0.981016</td>\n",
       "      <td>0.014943</td>\n",
       "    </tr>\n",
       "    <tr>\n",
       "      <th>24</th>\n",
       "      <td>2</td>\n",
       "      <td>Finnish Ahlstrom Corporation has ordered key production equipment for a new glass nonwovens production line at its Russian Tver Mill from Finnish Vaahto Pulp &amp; Paper Machinery ( that is part of Vaahto Group ) .</td>\n",
       "      <td>0.012912</td>\n",
       "      <td>0.868265</td>\n",
       "      <td>0.118823</td>\n",
       "    </tr>\n",
       "    <tr>\n",
       "      <th>25</th>\n",
       "      <td>2</td>\n",
       "      <td>This bold spinning 360 red fabric design is set beautifully on Ercols Napoli sofa .</td>\n",
       "      <td>0.004352</td>\n",
       "      <td>0.987887</td>\n",
       "      <td>0.007761</td>\n",
       "    </tr>\n",
       "    <tr>\n",
       "      <th>26</th>\n",
       "      <td>2</td>\n",
       "      <td>Finnish mobile operator DNA will function as a subcontractor to Maingate and will be responsible for telecommunications connections .</td>\n",
       "      <td>0.007116</td>\n",
       "      <td>0.979560</td>\n",
       "      <td>0.013324</td>\n",
       "    </tr>\n",
       "    <tr>\n",
       "      <th>27</th>\n",
       "      <td>2</td>\n",
       "      <td>` For Nordea , moving into the new headquarters signifies the beginning of a new era .</td>\n",
       "      <td>0.016689</td>\n",
       "      <td>0.872980</td>\n",
       "      <td>0.110331</td>\n",
       "    </tr>\n",
       "    <tr>\n",
       "      <th>28</th>\n",
       "      <td>2</td>\n",
       "      <td>A new Kveyt light variety of Suomalainen Pekoni marketed under the Atria brand name is now available to consumers in Finland .</td>\n",
       "      <td>0.004237</td>\n",
       "      <td>0.985776</td>\n",
       "      <td>0.009987</td>\n",
       "    </tr>\n",
       "    <tr>\n",
       "      <th>29</th>\n",
       "      <td>2</td>\n",
       "      <td>The decision to sell a share in Lenenergo was reached in line with Fortum 's strategic plans to invest mainly in generating assets in Russia , while Lenenergo is a grid company , the press release said .</td>\n",
       "      <td>0.007530</td>\n",
       "      <td>0.956141</td>\n",
       "      <td>0.036329</td>\n",
       "    </tr>\n",
       "    <tr>\n",
       "      <th>30</th>\n",
       "      <td>2</td>\n",
       "      <td>After the renovation the biggest moulding line in the Orhangazi foundry is the most modern line in Europe .</td>\n",
       "      <td>0.003715</td>\n",
       "      <td>0.980879</td>\n",
       "      <td>0.015406</td>\n",
       "    </tr>\n",
       "    <tr>\n",
       "      <th>31</th>\n",
       "      <td>2</td>\n",
       "      <td>The company feels these leases are prime locations due to several producing formations in the immediate area .</td>\n",
       "      <td>0.010020</td>\n",
       "      <td>0.921574</td>\n",
       "      <td>0.068406</td>\n",
       "    </tr>\n",
       "    <tr>\n",
       "      <th>32</th>\n",
       "      <td>2</td>\n",
       "      <td>Finnish engineering and technology company Metso Oyj said on May 27 , 2008 it completed the acquisition of paper machinery technology from Japanese engineering company Mitsubishi Heavy Industries ( MHI ) for an undisclosed sum .</td>\n",
       "      <td>0.007233</td>\n",
       "      <td>0.932972</td>\n",
       "      <td>0.059795</td>\n",
       "    </tr>\n",
       "    <tr>\n",
       "      <th>33</th>\n",
       "      <td>2</td>\n",
       "      <td>Arvo Vuorenmaa , the Loviisa plant 's general manager said the application for the new licence was a `` standard '' procedure and that he was `` quite confident '' about approval being granted .</td>\n",
       "      <td>0.026125</td>\n",
       "      <td>0.744207</td>\n",
       "      <td>0.229668</td>\n",
       "    </tr>\n",
       "    <tr>\n",
       "      <th>34</th>\n",
       "      <td>2</td>\n",
       "      <td>Jobs will not be transferred from Finland , however .</td>\n",
       "      <td>0.025035</td>\n",
       "      <td>0.955792</td>\n",
       "      <td>0.019173</td>\n",
       "    </tr>\n",
       "    <tr>\n",
       "      <th>35</th>\n",
       "      <td>2</td>\n",
       "      <td>The company also expects to sell its products in other Russian region .</td>\n",
       "      <td>0.003340</td>\n",
       "      <td>0.989114</td>\n",
       "      <td>0.007546</td>\n",
       "    </tr>\n",
       "    <tr>\n",
       "      <th>36</th>\n",
       "      <td>2</td>\n",
       "      <td>The sale will lead to a pretax capital gain of EUR 22 million for the Finnish company in 2011 .</td>\n",
       "      <td>0.014298</td>\n",
       "      <td>0.785835</td>\n",
       "      <td>0.199867</td>\n",
       "    </tr>\n",
       "  </tbody>\n",
       "</table>\n",
       "</div>"
      ],
      "text/plain": [
       "    label  \\\n",
       "0       2   \n",
       "1       2   \n",
       "2       2   \n",
       "3       2   \n",
       "4       2   \n",
       "5       2   \n",
       "6       2   \n",
       "7       2   \n",
       "8       2   \n",
       "9       2   \n",
       "10      2   \n",
       "11      2   \n",
       "12      2   \n",
       "13      2   \n",
       "14      2   \n",
       "15      2   \n",
       "16      2   \n",
       "17      2   \n",
       "18      2   \n",
       "19      2   \n",
       "20      2   \n",
       "21      2   \n",
       "22      2   \n",
       "23      2   \n",
       "24      2   \n",
       "25      2   \n",
       "26      2   \n",
       "27      2   \n",
       "28      2   \n",
       "29      2   \n",
       "30      2   \n",
       "31      2   \n",
       "32      2   \n",
       "33      2   \n",
       "34      2   \n",
       "35      2   \n",
       "36      2   \n",
       "\n",
       "                                                                                                                                                                                                                                                            text  \\\n",
       "0                           Under a memorandum of understanding MoU the parties will collaborate in preparing and implementing joint projects in the fields of combined power and heat generation , environmental protection and energy efficient technologies .   \n",
       "1                                                                                                Ixonos estimates that it will hire 20 specialists in mechanical engineering , electronics design , and R&D for its new unit in Jyvaeskylae by the end of 2009 .   \n",
       "2                                                                                                                                        The concept enables a commercially affordable way to manufacture high-quality TCO coated glass for the solar industry .   \n",
       "3   Finnish financial solutions developer Basware Corporation ( OMX Helsinki BAS1V ) said on Tuesday ( 23 September ) that it will deliver a complete Invoice Automation solution to a large US engineering , construction and technical services organization .   \n",
       "4                                                                                                                                                                    It currently employs about 750 people and expects headcount to reach 1,000 by end of 2007 .   \n",
       "5                                                                                                                                                 About Nokia Nokia is a pioneer in mobile telecommunications and the world 's leading maker of mobile devices .   \n",
       "6                                                                                                                                                                              Certain shareholders have irrevocably agreed to vote in favor of the bond issue .   \n",
       "7                                                                                             In the Asia-Pacific region , Visa Wave is available in Malaysia , Taiwan and South Korea and will be expanded to Japan and Southeast Asia this year , Jung added .   \n",
       "8                                                                                                                                                                       The contract was signed in August with Papua New Guinea-based Lihir Gold Ltd ASX : LGL .   \n",
       "9                                              The sale , which will result in a gain of some EUR 60 million in the second quarter of 2010 for Oriola-KD , supports the Finnish company 's strategy to focus on pharmaceutical wholesale and retail operations .   \n",
       "10          In China , Finnish Kone that provides elevators , escalators , and solutions for modernisation and maintenance will build 342 escalators that will be installed in a high-speed railway section between Beijing and Shanghai in a 1.5 years ' time .   \n",
       "11                                                        For Telenor , the three and a half year contract is worth an estimated 12.6 m. YIT has chosen Telenor and Elisa as its principal suppliers of ICT solutions in Norway , Sweden , Denmark and Finland .   \n",
       "12                                                                                                                                                             The company expects its net sales in the first half of 2008 to reach the previous year 's level .   \n",
       "13                                                                                                                                                                                 The insurer anticipates its share in Nordea 's net profit to be significant .   \n",
       "14                                                                                                        Paper maker Stora Enso Oyj said Friday it has been acquitted of charges that it participated in a paper price-fixing conspiracy in the United States .   \n",
       "15                               Stockmann and Swedish sector company AB Lindex entered into an agreement on September 30 , 2007 , whereby Stockmann , or a wholly-owned subsidiary of it , will make a public tender offer for all of Lindex 's issued shares .   \n",
       "16                                                                                                                              In addition , Lehdentekijat Oy will start producing a new membership magazine , Viisas Raha ( Wise Money ) for the Association .   \n",
       "17                                                                                                                                                According to Schmardin , Nordea will most likely try to win customers over from other pension fund providers .   \n",
       "18                                                                                           The company is also featured in the Ethibel Pioneer Investment Register and included in Innovest 's Global 100 list of the world 's most sustainable corporations .   \n",
       "19                                       The CL51 is designed to measure cloud base height and vertical visibility in all weather conditions , which makes it an ideal instrument for meteorological applications that rely on reliable cloud height detection .   \n",
       "20                                                                               Previously , EB delivered a custom solution for LG Electronics and now is making it commercially available for other mobile terminal vendors as well as to wireless operators .   \n",
       "21                                                                                                                                                                                       Airbus has 100 firm orders for the A350 and 89 nonbinding commitments .   \n",
       "22                                                                                                                                                                    The shopping center will have a prime location right next to the Myllypuro metro station .   \n",
       "23                                                                                                                                            The core of Solidium 's investment strategy is proper , value enhancing asset management of the current holdings .   \n",
       "24                                            Finnish Ahlstrom Corporation has ordered key production equipment for a new glass nonwovens production line at its Russian Tver Mill from Finnish Vaahto Pulp & Paper Machinery ( that is part of Vaahto Group ) .   \n",
       "25                                                                                                                                                                           This bold spinning 360 red fabric design is set beautifully on Ercols Napoli sofa .   \n",
       "26                                                                                                                         Finnish mobile operator DNA will function as a subcontractor to Maingate and will be responsible for telecommunications connections .   \n",
       "27                                                                                                                                                                        ` For Nordea , moving into the new headquarters signifies the beginning of a new era .   \n",
       "28                                                                                                                                A new Kveyt light variety of Suomalainen Pekoni marketed under the Atria brand name is now available to consumers in Finland .   \n",
       "29                                                   The decision to sell a share in Lenenergo was reached in line with Fortum 's strategic plans to invest mainly in generating assets in Russia , while Lenenergo is a grid company , the press release said .   \n",
       "30                                                                                                                                                   After the renovation the biggest moulding line in the Orhangazi foundry is the most modern line in Europe .   \n",
       "31                                                                                                                                                The company feels these leases are prime locations due to several producing formations in the immediate area .   \n",
       "32                          Finnish engineering and technology company Metso Oyj said on May 27 , 2008 it completed the acquisition of paper machinery technology from Japanese engineering company Mitsubishi Heavy Industries ( MHI ) for an undisclosed sum .   \n",
       "33                                                            Arvo Vuorenmaa , the Loviisa plant 's general manager said the application for the new licence was a `` standard '' procedure and that he was `` quite confident '' about approval being granted .   \n",
       "34                                                                                                                                                                                                         Jobs will not be transferred from Finland , however .   \n",
       "35                                                                                                                                                                                       The company also expects to sell its products in other Russian region .   \n",
       "36                                                                                                                                                               The sale will lead to a pretax capital gain of EUR 22 million for the Finnish company in 2011 .   \n",
       "\n",
       "    prob_neg  prob_neu  prob_pos  \n",
       "0   0.016506  0.667894  0.315600  \n",
       "1   0.004312  0.982849  0.012839  \n",
       "2   0.007408  0.921826  0.070766  \n",
       "3   0.010330  0.883784  0.105887  \n",
       "4   0.009398  0.972008  0.018594  \n",
       "5   0.015296  0.755066  0.229638  \n",
       "6   0.007583  0.979941  0.012476  \n",
       "7   0.004940  0.969296  0.025764  \n",
       "8   0.016079  0.789561  0.194360  \n",
       "9   0.008937  0.906712  0.084352  \n",
       "10  0.003270  0.986133  0.010597  \n",
       "11  0.011300  0.828307  0.160393  \n",
       "12  0.006330  0.955171  0.038499  \n",
       "13  0.017542  0.731112  0.251346  \n",
       "14  0.200594  0.483948  0.315458  \n",
       "15  0.021052  0.651330  0.327619  \n",
       "16  0.003630  0.987362  0.009009  \n",
       "17  0.014204  0.917967  0.067829  \n",
       "18  0.003295  0.984390  0.012315  \n",
       "19  0.005800  0.963198  0.031003  \n",
       "20  0.003031  0.988544  0.008425  \n",
       "21  0.005174  0.981895  0.012931  \n",
       "22  0.003089  0.990738  0.006173  \n",
       "23  0.004042  0.981016  0.014943  \n",
       "24  0.012912  0.868265  0.118823  \n",
       "25  0.004352  0.987887  0.007761  \n",
       "26  0.007116  0.979560  0.013324  \n",
       "27  0.016689  0.872980  0.110331  \n",
       "28  0.004237  0.985776  0.009987  \n",
       "29  0.007530  0.956141  0.036329  \n",
       "30  0.003715  0.980879  0.015406  \n",
       "31  0.010020  0.921574  0.068406  \n",
       "32  0.007233  0.932972  0.059795  \n",
       "33  0.026125  0.744207  0.229668  \n",
       "34  0.025035  0.955792  0.019173  \n",
       "35  0.003340  0.989114  0.007546  \n",
       "36  0.014298  0.785835  0.199867  "
      ]
     },
     "execution_count": 84,
     "metadata": {},
     "output_type": "execute_result"
    }
   ],
   "source": [
    "pd.set_option('display.max_colwidth', None)\n",
    "wrong_preds_df"
   ]
  },
  {
   "cell_type": "markdown",
   "metadata": {},
   "source": [
    "We can see that there are some pieces of news that could have various interpretations of whether it should be positive or neutral.\n",
    "\n",
    "For example, the sentence \"Airbus has 100 firm orders for the A350 and 89 nonbinding commitments .\" does not seem to be positive news for me. Perhaps if there was more context, the model may be able to predict the sentiment more accurately.\n",
    "\n",
    "\n",
    "\n",
    "However, there are also other sentences that seem fairly obvious that they are positive sentiment, but model classifies it wrongly with high confidence.\n",
    "\n",
    "For example, the sentence \"The company expects its net sales in the first half of 2008 to reach the previous year 's level .\" should be regarded as positive news, because the company is earning much more money than the previous year. However, it is predicted as neutral with a probability of 0.955171, signifying wrong prediction."
   ]
  }
 ],
 "metadata": {
  "kaggle": {
   "accelerator": "gpu",
   "dataSources": [],
   "dockerImageVersionId": 31090,
   "isGpuEnabled": true,
   "isInternetEnabled": true,
   "language": "python",
   "sourceType": "notebook"
  },
  "kernelspec": {
   "display_name": ".venv",
   "language": "python",
   "name": "python3"
  },
  "language_info": {
   "codemirror_mode": {
    "name": "ipython",
    "version": 3
   },
   "file_extension": ".py",
   "mimetype": "text/x-python",
   "name": "python",
   "nbconvert_exporter": "python",
   "pygments_lexer": "ipython3",
   "version": "3.12.1"
  }
 },
 "nbformat": 4,
 "nbformat_minor": 4
}
